{
 "cells": [
  {
   "cell_type": "code",
   "execution_count": 25,
   "metadata": {},
   "outputs": [],
   "source": [
    "# Load libraries\n",
    "import requests\n",
    "from pandas import read_csv\n",
    "from pandas import read_html\n",
    "from pandas import read_json\n",
    "from pandas import read_excel\n",
    "from pandas import read_stata\n",
    "from pandas.plotting import scatter_matrix\n",
    "from matplotlib import pyplot\n",
    "from sklearn.model_selection import train_test_split\n",
    "from sklearn.model_selection import cross_val_score\n",
    "from sklearn.model_selection import StratifiedKFold\n",
    "from sklearn.metrics import classification_report\n",
    "from sklearn.metrics import confusion_matrix\n",
    "from sklearn.metrics import accuracy_score\n",
    "from sklearn.linear_model import LogisticRegression\n",
    "from sklearn.tree import DecisionTreeClassifier\n",
    "from sklearn.neighbors import KNeighborsClassifier\n",
    "from sklearn.discriminant_analysis import LinearDiscriminantAnalysis\n",
    "from sklearn.naive_bayes import GaussianNB\n",
    "from sklearn.svm import SVC"
   ]
  },
  {
   "cell_type": "code",
   "execution_count": null,
   "metadata": {
    "tags": []
   },
   "outputs": [],
   "source": [
    "# Download online dataset to folder\n",
    "source_url = \"https://www.fdic.gov/bank/individual/failed/banklist.html\"\n",
    "target_file = \"DownloadedDataset.html\"\n",
    "\n",
    "response = requests.get(source_url)\n",
    "response.raise_for_status() # Verify OK\n",
    "with open(target_file,\"wb\") as f:\n",
    "    f.write(response.content)\n",
    "print(target_file, \"download ready.\")"
   ]
  },
  {
   "cell_type": "code",
   "execution_count": 23,
   "metadata": {
    "scrolled": true,
    "tags": []
   },
   "outputs": [
    {
     "output_type": "stream",
     "name": "stdout",
     "text": "[                             Bank Name           City  ST   CERT  \\\n0                 The First State Bank  Barboursville  WV  14361   \n1                   Ericson State Bank        Ericson  NE  18265   \n2     City National Bank of New Jersey         Newark  NJ  21111   \n3                        Resolute Bank         Maumee  OH  58317   \n4                Louisa Community Bank         Louisa  KY  58112   \n..                                 ...            ...  ..    ...   \n556                 Superior Bank, FSB       Hinsdale  IL  32646   \n557                Malta National Bank          Malta  OH   6629   \n558    First Alliance Bank & Trust Co.     Manchester  NH  34264   \n559  National State Bank of Metropolis     Metropolis  IL   3815   \n560                   Bank of Honolulu       Honolulu  HI  21029   \n\n                   Acquiring Institution       Closing Date  \n0                         MVB Bank, Inc.      April 3, 2020  \n1             Farmers and Merchants Bank  February 14, 2020  \n2                        Industrial Bank   November 1, 2019  \n3                     Buckeye State Bank   October 25, 2019  \n4      Kentucky Farmers Bank Corporation   October 25, 2019  \n..                                   ...                ...  \n556                Superior Federal, FSB      July 27, 2001  \n557                    North Valley Bank        May 3, 2001  \n558  Southern New Hampshire Bank & Trust   February 2, 2001  \n559              Banterra Bank of Marion  December 14, 2000  \n560                   Bank of the Orient   October 13, 2000  \n\n[561 rows x 6 columns]]\nSearching for... Resolute Bank\n"
    },
    {
     "output_type": "error",
     "ename": "NameError",
     "evalue": "name 'pd' is not defined",
     "traceback": [
      "\u001b[0;31m---------------------------------------------------------------------------\u001b[0m",
      "\u001b[0;31mNameError\u001b[0m                                 Traceback (most recent call last)",
      "\u001b[0;32m<ipython-input-23-7a4ac8616634>\u001b[0m in \u001b[0;36m<module>\u001b[0;34m\u001b[0m\n\u001b[1;32m      6\u001b[0m \u001b[0msearchquery\u001b[0m \u001b[0;34m=\u001b[0m \u001b[0;34m'Resolute Bank'\u001b[0m\u001b[0;34m\u001b[0m\u001b[0;34m\u001b[0m\u001b[0m\n\u001b[1;32m      7\u001b[0m \u001b[0mprint\u001b[0m\u001b[0;34m(\u001b[0m\u001b[0;34m\"Searching for...\"\u001b[0m\u001b[0;34m,\u001b[0m \u001b[0msearchquery\u001b[0m\u001b[0;34m)\u001b[0m\u001b[0;34m\u001b[0m\u001b[0;34m\u001b[0m\u001b[0m\n\u001b[0;32m----> 8\u001b[0;31m \u001b[0msearchresult\u001b[0m \u001b[0;34m=\u001b[0m \u001b[0mpd\u001b[0m\u001b[0;34m.\u001b[0m\u001b[0mread_html\u001b[0m\u001b[0;34m(\u001b[0m\u001b[0murl\u001b[0m\u001b[0;34m,\u001b[0m\u001b[0mmatch\u001b[0m\u001b[0;34m=\u001b[0m\u001b[0;34m'Resolute Bank'\u001b[0m\u001b[0;34m)\u001b[0m\u001b[0;34m\u001b[0m\u001b[0;34m\u001b[0m\u001b[0m\n\u001b[0m\u001b[1;32m      9\u001b[0m \u001b[0mprint\u001b[0m\u001b[0;34m(\u001b[0m\u001b[0msearchresult\u001b[0m\u001b[0;34m)\u001b[0m\u001b[0;34m\u001b[0m\u001b[0;34m\u001b[0m\u001b[0m\n",
      "\u001b[0;31mNameError\u001b[0m: name 'pd' is not defined"
     ]
    }
   ],
   "source": [
    "# Read online dataset directly into DataFrame\n",
    "url = \"https://www.fdic.gov/bank/individual/failed/banklist.html\"\n",
    "dataset = read_html(url)\n",
    "print(dataset)\n",
    "\n",
    "searchquery = 'Resolute Bank'\n",
    "print(\"Searching for...\", searchquery)\n",
    "searchresult = pd.read_html(url,match='Resolute Bank')\n",
    "print(searchresult)"
   ]
  },
  {
   "cell_type": "code",
   "execution_count": null,
   "metadata": {},
   "outputs": [],
   "source": [
    "# Describe & visualize data\n",
    "# box and whisker plots\n",
    "dataset.plot(kind='box', subplots=True, layout=(2,2), sharex=False, sharey=False)\n",
    "pyplot.show()\n",
    "# histograms\n",
    "dataset.hist()\n",
    "pyplot.show()\n",
    "# scatter plot matrix\n",
    "scatter_matrix(dataset)\n",
    "pyplot.show()"
   ]
  },
  {
   "cell_type": "code",
   "execution_count": null,
   "metadata": {},
   "outputs": [],
   "source": [
    "# Split into training & validation\n",
    "array = dataset.values\n",
    "X = array[:,0:4]\n",
    "Y = array[:,4]\n",
    "X_train, X_validation, Y_train, Y_validation = train_test_split(X, Y, test_size=0.20, random_state=1)\n"
   ]
  },
  {
   "cell_type": "code",
   "execution_count": null,
   "metadata": {},
   "outputs": [],
   "source": [
    "# Make predictions on validation dataset - SVC\n",
    "modelSVC = SVC(gamma='auto')\n",
    "modelSVC.fit(X_train, Y_train)\n",
    "predictions = modelSVC.predict(X_validation)\n",
    "\n",
    "# Evaluate predictions\n",
    "print(accuracy_score(Y_validation, predictions))\n",
    "print(confusion_matrix(Y_validation, predictions))\n",
    "print(classification_report(Y_validation, predictions))"
   ]
  },
  {
   "cell_type": "code",
   "execution_count": null,
   "metadata": {},
   "outputs": [],
   "source": [
    "# Make predictions on validation dataset - Logistic\n",
    "modelCART = DecisionTreeClassifier()\n",
    "modelCART.fit(X_train, Y_train)\n",
    "predictions = modelCART.predict(X_validation)\n",
    "\n",
    "# Evaluate predictions\n",
    "print(accuracy_score(Y_validation, predictions))\n",
    "print(confusion_matrix(Y_validation, predictions))\n",
    "print(classification_report(Y_validation, predictions))"
   ]
  },
  {
   "cell_type": "code",
   "execution_count": null,
   "metadata": {},
   "outputs": [],
   "source": [
    "# Spot Check Algorithms\n",
    "models = []\n",
    "models.append(('LR', LogisticRegression(solver='liblinear', multi_class='ovr')))\n",
    "models.append(('LDA', LinearDiscriminantAnalysis()))\n",
    "models.append(('KNN', KNeighborsClassifier()))\n",
    "models.append(('CART', DecisionTreeClassifier()))\n",
    "models.append(('NB', GaussianNB()))\n",
    "models.append(('SVM', SVC(gamma='auto')))\n"
   ]
  },
  {
   "cell_type": "code",
   "execution_count": null,
   "metadata": {},
   "outputs": [],
   "source": [
    "# Evaluate each model in turn\n",
    "results = []\n",
    "names = []\n",
    "for name, model in models:\n",
    "\tkfold = StratifiedKFold(n_splits=10, random_state=1, shuffle=True)\n",
    "\tcv_results = cross_val_score(model, X_train, Y_train, cv=kfold, scoring='accuracy')\n",
    "\tresults.append(cv_results)\n",
    "\tnames.append(name)\n",
    "\tprint('%s: %f (%f)' % (name, cv_results.mean(), cv_results.std()))"
   ]
  }
 ],
 "metadata": {
  "kernelspec": {
   "display_name": "Python 3",
   "language": "python",
   "name": "python3"
  },
  "language_info": {
   "codemirror_mode": {
    "name": "ipython",
    "version": 3
   },
   "file_extension": ".py",
   "mimetype": "text/x-python",
   "name": "python",
   "nbconvert_exporter": "python",
   "pygments_lexer": "ipython3",
   "version": "3.8.3-final"
  }
 },
 "nbformat": 4,
 "nbformat_minor": 4
}