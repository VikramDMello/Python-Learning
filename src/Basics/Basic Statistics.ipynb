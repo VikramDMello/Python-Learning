{
 "cells": [
  {
   "cell_type": "code",
   "execution_count": 8,
   "metadata": {},
   "outputs": [],
   "source": [
    "# Load libraries\n",
    "import requests\n",
    "import re\n",
    "from pandas import read_csv\n",
    "from pandas import read_html\n",
    "from pandas import read_json\n",
    "from pandas import read_excel\n",
    "from pandas import read_stata\n",
    "from pandas.plotting import scatter_matrix\n",
    "from matplotlib import pyplot\n",
    "from sklearn.model_selection import train_test_split\n",
    "from sklearn.model_selection import cross_val_score\n",
    "from sklearn.model_selection import StratifiedKFold\n",
    "from sklearn.metrics import classification_report\n",
    "from sklearn.metrics import confusion_matrix\n",
    "from sklearn.metrics import accuracy_score\n",
    "from sklearn.linear_model import LogisticRegression\n",
    "from sklearn.tree import DecisionTreeClassifier\n",
    "from sklearn.neighbors import KNeighborsClassifier\n",
    "from sklearn.discriminant_analysis import LinearDiscriminantAnalysis\n",
    "from sklearn.naive_bayes import GaussianNB\n",
    "from sklearn.svm import SVC"
   ]
  },
  {
   "cell_type": "code",
   "execution_count": 26,
   "metadata": {},
   "outputs": [
    {
     "output_type": "execute_result",
     "data": {
      "text/plain": "                          Client Name    ga:date       ga:region  \\\n0                            ALLSTATE   4/6/2019          Oregon   \n1                         BON SECOURS  9/27/2019  North Carolina   \n2                    HILTON WORLDWIDE  7/18/2019           Other   \n3         THE TRAVELERS COMPANIES INC  8/21/2019         England   \n4              MEMORIAL HEALTH SYSTEM  11/7/2019         Florida   \n...                               ...        ...             ...   \n35550063                       CARMAX   5/9/2019        Colorado   \n35550064          THE BEAUTIFUL GROUP  7/19/2019            Ohio   \n35550065             HILTON WORLDWIDE  9/22/2019           Other   \n35550066         DICKS SPORTING GOODS  6/18/2020         Georgia   \n35550067             NORTHWELL HEALTH   9/5/2019           Other   \n\n                ga:userType ga:channelGrouping ga:deviceCategory  \\\n0               New Visitor             Direct           Desktop   \n1         Returning Visitor             Direct            Tablet   \n2               New Visitor             Direct            Mobile   \n3               New Visitor             Social           Desktop   \n4         Returning Visitor             Social            Mobile   \n...                     ...                ...               ...   \n35550063  Returning Visitor        Paid Search            Mobile   \n35550064        New Visitor           Referral            Mobile   \n35550065  Returning Visitor     Organic Search           Desktop   \n35550066        New Visitor           Referral            Tablet   \n35550067        New Visitor              Other           Desktop   \n\n         ga:pagePathLevel1 ga:userAgeBracket ga:userGender  ga:users  \\\n0                      NaN               NaN           NaN       1.0   \n1          Job Description               NaN           NaN       NaN   \n2          All Other Pages               NaN           NaN       NaN   \n3          Job Description               NaN           NaN       NaN   \n4                      NaN               NaN           NaN      12.0   \n...                    ...               ...           ...       ...   \n35550063   All Other Pages               NaN           NaN       NaN   \n35550064   All Other Pages               NaN           NaN       NaN   \n35550065   All Other Pages               NaN           NaN       NaN   \n35550066               NaN               NaN           NaN       4.0   \n35550067   Job Description               NaN           NaN       NaN   \n\n          ga:sessions    view_id  ga:pageviews  ga:bounces  \\\n0                 1.0  178916158             2           0   \n1                 NaN  179314322             1           1   \n2                 NaN   73615399             1           1   \n3                 NaN  179682380             2           0   \n4                14.0  179628091            57           7   \n...               ...        ...           ...         ...   \n35550063          NaN  179447555             1           1   \n35550064          NaN  182277462             1           0   \n35550065          NaN   73615399             3           0   \n35550066          4.0  180762565             5           2   \n35550067          NaN  114243516             1           1   \n\n          ga:sessionDuration (Sec)  ga:ApplAtt  ga:entrances  ga:exits  \\\n0                              1.0         0.0           NaN       NaN   \n1                              NaN         NaN           1.0       1.0   \n2                              NaN         NaN           1.0       1.0   \n3                              NaN         NaN           2.0       0.0   \n4                           2040.0         3.0           NaN       NaN   \n...                            ...         ...           ...       ...   \n35550063                       NaN         NaN           1.0       1.0   \n35550064                       NaN         NaN           0.0       0.0   \n35550065                       NaN         NaN           0.0       0.0   \n35550066                     346.0         1.0           NaN       NaN   \n35550067                       NaN         NaN           1.0       1.0   \n\n          ga:timeOnPage             Table Source  \n0                   NaN  2019_conversion_apr.csv  \n1                   0.0     2019_content_sep.csv  \n2                   0.0     2019_content_jul.csv  \n3                  13.0     2019_content_aug.csv  \n4                   NaN  2019_conversion_nov.csv  \n...                 ...                      ...  \n35550063            0.0     2019_content_may.csv  \n35550064           14.0     2019_content_jul.csv  \n35550065           29.0     2019_content_sep.csv  \n35550066            NaN  2020_conversion_jun.csv  \n35550067            0.0     2019_content_sep.csv  \n\n[35550068 rows x 20 columns]",
      "text/html": "<div>\n<style scoped>\n    .dataframe tbody tr th:only-of-type {\n        vertical-align: middle;\n    }\n\n    .dataframe tbody tr th {\n        vertical-align: top;\n    }\n\n    .dataframe thead th {\n        text-align: right;\n    }\n</style>\n<table border=\"1\" class=\"dataframe\">\n  <thead>\n    <tr style=\"text-align: right;\">\n      <th></th>\n      <th>Client Name</th>\n      <th>ga:date</th>\n      <th>ga:region</th>\n      <th>ga:userType</th>\n      <th>ga:channelGrouping</th>\n      <th>ga:deviceCategory</th>\n      <th>ga:pagePathLevel1</th>\n      <th>ga:userAgeBracket</th>\n      <th>ga:userGender</th>\n      <th>ga:users</th>\n      <th>ga:sessions</th>\n      <th>view_id</th>\n      <th>ga:pageviews</th>\n      <th>ga:bounces</th>\n      <th>ga:sessionDuration (Sec)</th>\n      <th>ga:ApplAtt</th>\n      <th>ga:entrances</th>\n      <th>ga:exits</th>\n      <th>ga:timeOnPage</th>\n      <th>Table Source</th>\n    </tr>\n  </thead>\n  <tbody>\n    <tr>\n      <th>0</th>\n      <td>ALLSTATE</td>\n      <td>4/6/2019</td>\n      <td>Oregon</td>\n      <td>New Visitor</td>\n      <td>Direct</td>\n      <td>Desktop</td>\n      <td>NaN</td>\n      <td>NaN</td>\n      <td>NaN</td>\n      <td>1.0</td>\n      <td>1.0</td>\n      <td>178916158</td>\n      <td>2</td>\n      <td>0</td>\n      <td>1.0</td>\n      <td>0.0</td>\n      <td>NaN</td>\n      <td>NaN</td>\n      <td>NaN</td>\n      <td>2019_conversion_apr.csv</td>\n    </tr>\n    <tr>\n      <th>1</th>\n      <td>BON SECOURS</td>\n      <td>9/27/2019</td>\n      <td>North Carolina</td>\n      <td>Returning Visitor</td>\n      <td>Direct</td>\n      <td>Tablet</td>\n      <td>Job Description</td>\n      <td>NaN</td>\n      <td>NaN</td>\n      <td>NaN</td>\n      <td>NaN</td>\n      <td>179314322</td>\n      <td>1</td>\n      <td>1</td>\n      <td>NaN</td>\n      <td>NaN</td>\n      <td>1.0</td>\n      <td>1.0</td>\n      <td>0.0</td>\n      <td>2019_content_sep.csv</td>\n    </tr>\n    <tr>\n      <th>2</th>\n      <td>HILTON WORLDWIDE</td>\n      <td>7/18/2019</td>\n      <td>Other</td>\n      <td>New Visitor</td>\n      <td>Direct</td>\n      <td>Mobile</td>\n      <td>All Other Pages</td>\n      <td>NaN</td>\n      <td>NaN</td>\n      <td>NaN</td>\n      <td>NaN</td>\n      <td>73615399</td>\n      <td>1</td>\n      <td>1</td>\n      <td>NaN</td>\n      <td>NaN</td>\n      <td>1.0</td>\n      <td>1.0</td>\n      <td>0.0</td>\n      <td>2019_content_jul.csv</td>\n    </tr>\n    <tr>\n      <th>3</th>\n      <td>THE TRAVELERS COMPANIES INC</td>\n      <td>8/21/2019</td>\n      <td>England</td>\n      <td>New Visitor</td>\n      <td>Social</td>\n      <td>Desktop</td>\n      <td>Job Description</td>\n      <td>NaN</td>\n      <td>NaN</td>\n      <td>NaN</td>\n      <td>NaN</td>\n      <td>179682380</td>\n      <td>2</td>\n      <td>0</td>\n      <td>NaN</td>\n      <td>NaN</td>\n      <td>2.0</td>\n      <td>0.0</td>\n      <td>13.0</td>\n      <td>2019_content_aug.csv</td>\n    </tr>\n    <tr>\n      <th>4</th>\n      <td>MEMORIAL HEALTH SYSTEM</td>\n      <td>11/7/2019</td>\n      <td>Florida</td>\n      <td>Returning Visitor</td>\n      <td>Social</td>\n      <td>Mobile</td>\n      <td>NaN</td>\n      <td>NaN</td>\n      <td>NaN</td>\n      <td>12.0</td>\n      <td>14.0</td>\n      <td>179628091</td>\n      <td>57</td>\n      <td>7</td>\n      <td>2040.0</td>\n      <td>3.0</td>\n      <td>NaN</td>\n      <td>NaN</td>\n      <td>NaN</td>\n      <td>2019_conversion_nov.csv</td>\n    </tr>\n    <tr>\n      <th>...</th>\n      <td>...</td>\n      <td>...</td>\n      <td>...</td>\n      <td>...</td>\n      <td>...</td>\n      <td>...</td>\n      <td>...</td>\n      <td>...</td>\n      <td>...</td>\n      <td>...</td>\n      <td>...</td>\n      <td>...</td>\n      <td>...</td>\n      <td>...</td>\n      <td>...</td>\n      <td>...</td>\n      <td>...</td>\n      <td>...</td>\n      <td>...</td>\n      <td>...</td>\n    </tr>\n    <tr>\n      <th>35550063</th>\n      <td>CARMAX</td>\n      <td>5/9/2019</td>\n      <td>Colorado</td>\n      <td>Returning Visitor</td>\n      <td>Paid Search</td>\n      <td>Mobile</td>\n      <td>All Other Pages</td>\n      <td>NaN</td>\n      <td>NaN</td>\n      <td>NaN</td>\n      <td>NaN</td>\n      <td>179447555</td>\n      <td>1</td>\n      <td>1</td>\n      <td>NaN</td>\n      <td>NaN</td>\n      <td>1.0</td>\n      <td>1.0</td>\n      <td>0.0</td>\n      <td>2019_content_may.csv</td>\n    </tr>\n    <tr>\n      <th>35550064</th>\n      <td>THE BEAUTIFUL GROUP</td>\n      <td>7/19/2019</td>\n      <td>Ohio</td>\n      <td>New Visitor</td>\n      <td>Referral</td>\n      <td>Mobile</td>\n      <td>All Other Pages</td>\n      <td>NaN</td>\n      <td>NaN</td>\n      <td>NaN</td>\n      <td>NaN</td>\n      <td>182277462</td>\n      <td>1</td>\n      <td>0</td>\n      <td>NaN</td>\n      <td>NaN</td>\n      <td>0.0</td>\n      <td>0.0</td>\n      <td>14.0</td>\n      <td>2019_content_jul.csv</td>\n    </tr>\n    <tr>\n      <th>35550065</th>\n      <td>HILTON WORLDWIDE</td>\n      <td>9/22/2019</td>\n      <td>Other</td>\n      <td>Returning Visitor</td>\n      <td>Organic Search</td>\n      <td>Desktop</td>\n      <td>All Other Pages</td>\n      <td>NaN</td>\n      <td>NaN</td>\n      <td>NaN</td>\n      <td>NaN</td>\n      <td>73615399</td>\n      <td>3</td>\n      <td>0</td>\n      <td>NaN</td>\n      <td>NaN</td>\n      <td>0.0</td>\n      <td>0.0</td>\n      <td>29.0</td>\n      <td>2019_content_sep.csv</td>\n    </tr>\n    <tr>\n      <th>35550066</th>\n      <td>DICKS SPORTING GOODS</td>\n      <td>6/18/2020</td>\n      <td>Georgia</td>\n      <td>New Visitor</td>\n      <td>Referral</td>\n      <td>Tablet</td>\n      <td>NaN</td>\n      <td>NaN</td>\n      <td>NaN</td>\n      <td>4.0</td>\n      <td>4.0</td>\n      <td>180762565</td>\n      <td>5</td>\n      <td>2</td>\n      <td>346.0</td>\n      <td>1.0</td>\n      <td>NaN</td>\n      <td>NaN</td>\n      <td>NaN</td>\n      <td>2020_conversion_jun.csv</td>\n    </tr>\n    <tr>\n      <th>35550067</th>\n      <td>NORTHWELL HEALTH</td>\n      <td>9/5/2019</td>\n      <td>Other</td>\n      <td>New Visitor</td>\n      <td>Other</td>\n      <td>Desktop</td>\n      <td>Job Description</td>\n      <td>NaN</td>\n      <td>NaN</td>\n      <td>NaN</td>\n      <td>NaN</td>\n      <td>114243516</td>\n      <td>1</td>\n      <td>1</td>\n      <td>NaN</td>\n      <td>NaN</td>\n      <td>1.0</td>\n      <td>1.0</td>\n      <td>0.0</td>\n      <td>2019_content_sep.csv</td>\n    </tr>\n  </tbody>\n</table>\n<p>35550068 rows × 20 columns</p>\n</div>"
     },
     "metadata": {},
     "execution_count": 26
    }
   ],
   "source": [
    "read_csv(\"/Volumes/GoogleDrive/My Drive/Market Insights Library/04_Thought Leadership Ideas/Cross-Client Analytics/CWS Benchmarks/CWS Indicators_Aggr.csv\")"
   ]
  },
  {
   "cell_type": "code",
   "execution_count": 25,
   "metadata": {
    "scrolled": true,
    "tags": []
   },
   "outputs": [
    {
     "output_type": "stream",
     "name": "stdout",
     "text": "[                             Bank Name           City  ST   CERT  \\\n0                 The First State Bank  Barboursville  WV  14361   \n1                   Ericson State Bank        Ericson  NE  18265   \n2     City National Bank of New Jersey         Newark  NJ  21111   \n3                        Resolute Bank         Maumee  OH  58317   \n4                Louisa Community Bank         Louisa  KY  58112   \n..                                 ...            ...  ..    ...   \n556                 Superior Bank, FSB       Hinsdale  IL  32646   \n557                Malta National Bank          Malta  OH   6629   \n558    First Alliance Bank & Trust Co.     Manchester  NH  34264   \n559  National State Bank of Metropolis     Metropolis  IL   3815   \n560                   Bank of Honolulu       Honolulu  HI  21029   \n\n                   Acquiring Institution       Closing Date  \n0                         MVB Bank, Inc.      April 3, 2020  \n1             Farmers and Merchants Bank  February 14, 2020  \n2                        Industrial Bank   November 1, 2019  \n3                     Buckeye State Bank   October 25, 2019  \n4      Kentucky Farmers Bank Corporation   October 25, 2019  \n..                                   ...                ...  \n556                Superior Federal, FSB      July 27, 2001  \n557                    North Valley Bank        May 3, 2001  \n558  Southern New Hampshire Bank & Trust   February 2, 2001  \n559              Banterra Bank of Marion  December 14, 2000  \n560                   Bank of the Orient   October 13, 2000  \n\n[561 rows x 6 columns]]\n"
    }
   ],
   "source": [
    "# Read online dataset directly into DataFrame\n",
    "url = \"https://www.fdic.gov/bank/individual/failed/banklist.html\"\n",
    "dataset = read_html(url)\n",
    "print(dataset)"
   ]
  },
  {
   "cell_type": "code",
   "execution_count": null,
   "metadata": {},
   "outputs": [],
   "source": [
    "# Describe & visualize data\n",
    "# box and whisker plots\n",
    "dataset.plot(kind='box', subplots=True, layout=(2,2), sharex=False, sharey=False)\n",
    "pyplot.show()\n",
    "# histograms\n",
    "dataset.hist()\n",
    "pyplot.show()\n",
    "# scatter plot matrix\n",
    "scatter_matrix(dataset)\n",
    "pyplot.show()"
   ]
  },
  {
   "cell_type": "code",
   "execution_count": null,
   "metadata": {},
   "outputs": [],
   "source": [
    "# Split into training & validation\n",
    "array = dataset.values\n",
    "X = array[:,0:4]\n",
    "Y = array[:,4]\n",
    "X_train, X_validation, Y_train, Y_validation = train_test_split(X, Y, test_size=0.20, random_state=1)\n"
   ]
  },
  {
   "cell_type": "code",
   "execution_count": null,
   "metadata": {},
   "outputs": [],
   "source": [
    "# Make predictions on validation dataset - SVC\n",
    "modelSVC = SVC(gamma='auto')\n",
    "modelSVC.fit(X_train, Y_train)\n",
    "predictions = modelSVC.predict(X_validation)\n",
    "\n",
    "# Evaluate predictions\n",
    "print(accuracy_score(Y_validation, predictions))\n",
    "print(confusion_matrix(Y_validation, predictions))\n",
    "print(classification_report(Y_validation, predictions))"
   ]
  },
  {
   "cell_type": "code",
   "execution_count": null,
   "metadata": {},
   "outputs": [],
   "source": [
    "# Make predictions on validation dataset - Logistic\n",
    "modelCART = DecisionTreeClassifier()\n",
    "modelCART.fit(X_train, Y_train)\n",
    "predictions = modelCART.predict(X_validation)\n",
    "\n",
    "# Evaluate predictions\n",
    "print(accuracy_score(Y_validation, predictions))\n",
    "print(confusion_matrix(Y_validation, predictions))\n",
    "print(classification_report(Y_validation, predictions))"
   ]
  },
  {
   "cell_type": "code",
   "execution_count": null,
   "metadata": {},
   "outputs": [],
   "source": [
    "# Spot Check Algorithms\n",
    "models = []\n",
    "models.append(('LR', LogisticRegression(solver='liblinear', multi_class='ovr')))\n",
    "models.append(('LDA', LinearDiscriminantAnalysis()))\n",
    "models.append(('KNN', KNeighborsClassifier()))\n",
    "models.append(('CART', DecisionTreeClassifier()))\n",
    "models.append(('NB', GaussianNB()))\n",
    "models.append(('SVM', SVC(gamma='auto')))\n"
   ]
  },
  {
   "cell_type": "code",
   "execution_count": null,
   "metadata": {},
   "outputs": [],
   "source": [
    "# Evaluate each model in turn\n",
    "results = []\n",
    "names = []\n",
    "for name, model in models:\n",
    "\tkfold = StratifiedKFold(n_splits=10, random_state=1, shuffle=True)\n",
    "\tcv_results = cross_val_score(model, X_train, Y_train, cv=kfold, scoring='accuracy')\n",
    "\tresults.append(cv_results)\n",
    "\tnames.append(name)\n",
    "\tprint('%s: %f (%f)' % (name, cv_results.mean(), cv_results.std()))"
   ]
  }
 ],
 "metadata": {
  "kernelspec": {
   "display_name": "Python 3",
   "language": "python",
   "name": "python3"
  },
  "language_info": {
   "codemirror_mode": {
    "name": "ipython",
    "version": 3
   },
   "file_extension": ".py",
   "mimetype": "text/x-python",
   "name": "python",
   "nbconvert_exporter": "python",
   "pygments_lexer": "ipython3",
   "version": "3.8.3-final"
  }
 },
 "nbformat": 4,
 "nbformat_minor": 4
}