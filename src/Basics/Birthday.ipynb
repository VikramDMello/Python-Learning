{
 "cells": [
  {
   "cell_type": "code",
   "execution_count": 1,
   "metadata": {},
   "outputs": [],
   "source": [
    "# WORKING WITH DATES"
   ]
  },
  {
   "cell_type": "code",
   "execution_count": 2,
   "metadata": {},
   "outputs": [],
   "source": [
    "  ## Original lesson commands for reference\n",
    "\n",
    "  #### ` today = date.today() ` Get today's date from the simple today() method from the date class\n",
    "  #### ` print(\"Today's date is\", date.today()) `\n",
    "\n",
    "  #### ` print out the date's individual components `\n",
    "  #### ` print(\"Date component - Day:\", date.today().day) `\n",
    "  #### ` print(\"Date component - Month:\", date.today().month) `\n",
    "  #### ` print(\"Date component - Year:\", date.today().year) `\n",
    "  \n",
    "  #### ` retrieve today's weekday and month (0=Monday, 6=Sunday; 1=January, 12=December) `\n",
    "  #### ` print(\"Today's weekday number is\", date.today().weekday()) `\n",
    "  #### ` print(\"Today's month number is\", date.today().month) `"
   ]
  },
  {
   "cell_type": "code",
   "execution_count": 3,
   "metadata": {},
   "outputs": [],
   "source": [
    "## 1. Import necessary modules and classes\n",
    "\n",
    "def main():\n",
    "  os.system('clear') # Clear screen before prompting user\n",
    "import os\n",
    "import calendar\n",
    "from datetime import date, time, datetime, timedelta"
   ]
  },
  {
   "cell_type": "code",
   "execution_count": 4,
   "metadata": {},
   "outputs": [],
   "source": [
    "## 2. Define array/list of weekday names\n",
    "DayOfWeek = [\"Monday\",\"Tuesday\",\"Wednesday\",\"Thursday\",\"Friday\",\"Saturday\",\"Sunday\"] \n",
    "  \n",
    "## 3. Define array/list of month names\n",
    "MonthOfYear = [\"January\",\"February\",\"March\",\"April\",\"May\",\"June\",\"July\",\"August\",\"September\",\"October\",\"November\",\"December\"]\n",
    "\n",
    "### ` print (\"Which is a\", DayOfWeek[date.today().weekday()], \"in\", MonthOfYear[date.today().month]) `\n",
    "### The above is called 'indexing into an array' \n",
    "\n",
    "## 4. Symbols for future use to potentially integrate with GHCN (Global Historical Climatology Network)\n",
    "### ` Sunny = '\\u263c' `\n",
    "### ` Cloudy = '\\u2601' `\n",
    "### ` Rainy = '\\u2614' `\n",
    "  "
   ]
  },
  {
   "cell_type": "code",
   "execution_count": 5,
   "metadata": {},
   "outputs": [
    {
     "name": "stdin",
     "output_type": "stream",
     "text": [
      "\n",
      "Hello there!  What's your name?  Vikram\n",
      "\n",
      "When were you born (m/d/yyyy)?  6/9/1978\n"
     ]
    }
   ],
   "source": [
    "## 5. User Input\n",
    "\n",
    "### Ask user for name\n",
    "Name = input(\"\\nHello there!  What's your name? \")\n",
    "\n",
    "### Ask user for birthday\n",
    "BirthdayInput = input(\"\\nWhen were you born (m/d/yyyy)? \")\n",
    "### Convert birthday input to date\n",
    "Birthday = datetime.strptime(BirthdayInput,'%m/%d/%Y')\n"
   ]
  },
  {
   "cell_type": "code",
   "execution_count": 6,
   "metadata": {
    "tags": []
   },
   "outputs": [],
   "source": [
    "## 5.1 Validate birthday\n",
    "\n",
    "while Birthday.date() > date.today():\n",
    "    str(Name) + \"\\n\\nThat's just absurd.  Try again.\"\n",
    "    BirthdayInput = input(\"\\n\\nWhen were you born (m/d/yyyy)? \")\n",
    "    Birthday = datetime.strptime(BirthdayInput,'%m/%d/%Y')\n",
    "\n",
    "if date.today() - Birthday.date() < timedelta(weeks=52):\n",
    "    print(\"\\n\\nHow are you even operating a computer?!\")\n",
    "elif date.today() - Birthday.date() < timedelta(weeks=104):\n",
    "    print(\"\\n\\nYou're a bit young to be operating a computer, aren't you...?\")\n"
   ]
  },
  {
   "cell_type": "code",
   "execution_count": 7,
   "metadata": {},
   "outputs": [],
   "source": [
    "## 6. Date Calculations\n",
    "\n",
    "### Calculate difference in days between birth date and today\n",
    "BirthdayDelta = abs(date.today() - Birthday.date()) - timedelta(days=1)\n",
    "\n",
    "### Calculate age in years\n",
    "AgeThisYear = date.today().year - Birthday.date().year\n",
    "\n",
    "### Determine birthday this year\n",
    "BirthdayThisYear = date(date.today().year,Birthday.date().month,Birthday.date().day)\n",
    "\n",
    "### Calculate difference in days between birthday this year and today\n",
    "BirthdayNext = abs(BirthdayThisYear - date.today())\n",
    "\n",
    "### Calculate difference in days between today and next birthday this year\n",
    "if BirthdayNext <= timedelta(days=14):\n",
    "  BirthdayNext = BirthdayNext.days\n",
    "  BirthdayNextUnit = \"days\"\n",
    "elif BirthdayNext <= timedelta(days=31):\n",
    "  BirthdayNext = BirthdayNext.days / 7\n",
    "  BirthdayNextUnit = \"weeks\"\n",
    "elif BirthdayNext >= timedelta(days=32):\n",
    "  BirthdayNext = BirthdayNext.days / 30.5\n",
    "  BirthdayNextUnit = \"months\"\n",
    "\n",
    "### Date verb tense\n",
    "if Birthday.date() < date.today():\n",
    "  DateTense = \"fell on\"\n",
    "elif Birthday.date() == date.today():\n",
    "  DateTense = \"is today - Happy Birthday!\"\n",
    "else:\n",
    "  DateTense = \"will fall on\"\n"
   ]
  },
  {
   "cell_type": "code",
   "execution_count": 8,
   "metadata": {
    "tags": []
   },
   "outputs": [
    {
     "name": "stdout",
     "output_type": "stream",
     "text": [
      "\n",
      "\n",
      "      June 1978\n",
      "Mo Tu We Th Fr Sa Su\n",
      "          1  2  3  4\n",
      " 5  6  7  8  9 10 11\n",
      "12 13 14 15 16 17 18\n",
      "19 20 21 22 23 24 25\n",
      "26 27 28 29 30\n",
      " \n",
      "\n",
      "\n"
     ]
    }
   ],
   "source": [
    "## 7. User Output\n",
    "\n",
    "### 7.1 Create and display a single-month calendar based on birthday \n",
    "\n",
    "BirthdayCalendar = calendar.TextCalendar(calendar.MONDAY)\n",
    "BirthdayCalendarDisplay = BirthdayCalendar.formatmonth(Birthday.date().year,Birthday.date().month)\n",
    "print(\"\\n\\n\",BirthdayCalendarDisplay,\"\\n\\n\")"
   ]
  },
  {
   "cell_type": "code",
   "execution_count": 9,
   "metadata": {
    "tags": []
   },
   "outputs": [
    {
     "name": "stdout",
     "output_type": "stream",
     "text": [
      "\n",
      "\n",
      "Vikram, your birth date, June 9, 1978 fell on a Friday -- 42 years, 0 months, and 23 days ago.\n",
      "\n",
      "\n",
      "Your birthday has passed this year.\n",
      "\n",
      "\n",
      "You turned 42 years old.\n",
      "\n"
     ]
    }
   ],
   "source": [
    "### 7.2 Display birthday references\n",
    "\n",
    "print(\n",
    "  \"\\n\\n\" + \n",
    "  str(Name) + \", \" +\n",
    "  \"your birth date, \" +\n",
    "  str(MonthOfYear[Birthday.date().month - 1]) + \" \" +\n",
    "  str(Birthday.date().day) + \", \" + \n",
    "  str(Birthday.date().year), \n",
    "  DateTense,\"a\",\n",
    "  DayOfWeek[Birthday.date().weekday()],\"--\",\n",
    "  int(BirthdayDelta.days / 365),\"years,\",\n",
    "  int((BirthdayDelta.days % 365)/30.5),\"months, and\",\n",
    "  int((BirthdayDelta.days % 365) % 30.5),\"days ago.\"\n",
    "  )\n",
    "  \n",
    "  \n",
    "if BirthdayThisYear < date.today():\n",
    "    print(\"\\n\\nYour birthday has passed this year.\\n\\n\\nYou turned\",AgeThisYear,\"years old.\\n\")\n",
    "elif BirthdayThisYear == date.today():\n",
    "    print(\"\\n\\nIt's your birthday - *** HAPPY BIRTHDAY! ***  \\n\\n\\nYou turn\",AgeThisYear,\"today.\\n\")\n",
    "else:\n",
    "    print(\"\\n\\nYour birthday is coming up later this year in \"+str(int(BirthdayNext))+\" \"+BirthdayNextUnit+\".\\n\")\n"
   ]
  },
  {
   "cell_type": "code",
   "execution_count": 10,
   "metadata": {},
   "outputs": [],
   "source": [
    "if __name__ == \"__main__\":\n",
    "  main()"
   ]
  },
  {
   "cell_type": "code",
   "execution_count": null,
   "metadata": {},
   "outputs": [],
   "source": []
  }
 ],
 "metadata": {
  "kernelspec": {
   "display_name": "Python 3.8.3 64-bit",
   "language": "python",
   "name": "python38364bit1228120272204b3d9e894ac6a812ae7b"
  },
  "language_info": {
   "codemirror_mode": {
    "name": "ipython",
    "version": 3
   },
   "file_extension": ".py",
   "mimetype": "text/x-python",
   "name": "python",
   "nbconvert_exporter": "python",
   "pygments_lexer": "ipython3",
   "version": "3.8.3"
  }
 },
 "nbformat": 4,
 "nbformat_minor": 4
}
