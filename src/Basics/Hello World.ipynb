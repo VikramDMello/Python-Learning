{
 "cells": [
  {
   "cell_type": "code",
   "execution_count": null,
   "metadata": {},
   "outputs": [],
   "source": [
    "# Python practice: iteration & loops\n",
    "\n",
    "# Cumulative sum\n",
    "\n",
    "def cume(*values):\n",
    "    cume = 0\n",
    "    for x in values:\n",
    "        print(x)\n",
    "        cume = cume + x\n",
    "    return \"Total is: \", cume\n",
    "\n",
    "print (cume(1,4,5))\n",
    "\n",
    "# Cumulative product\n",
    "\n",
    "def cume(*values):\n",
    "    cume = 0\n",
    "    for x in values:\n",
    "        print(x)\n",
    "        cume = cume * x\n",
    "    return \"Total is: \", cume\n",
    "\n",
    "print (cume(1,4,5))\n"
   ]
  },
  {
   "cell_type": "code",
   "execution_count": null,
   "metadata": {},
   "outputs": [],
   "source": []
  }
 ],
 "metadata": {
  "kernelspec": {
   "display_name": "Python 3",
   "language": "python",
   "name": "python3"
  },
  "language_info": {
   "codemirror_mode": {
    "name": "ipython",
    "version": 3
   },
   "file_extension": ".py",
   "mimetype": "text/x-python",
   "name": "python",
   "nbconvert_exporter": "python",
   "pygments_lexer": "ipython3",
   "version": "3.7.6"
  }
 },
 "nbformat": 4,
 "nbformat_minor": 4
}