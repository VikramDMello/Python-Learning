{
 "cells": [
  {
   "cell_type": "code",
   "execution_count": null,
   "metadata": {},
   "outputs": [],
   "source": [
    "## WORKING WITH DATES\n",
    "\n",
    "  ## Original lesson commands for reference\n",
    "\n",
    "  # Get today's date from the simple today() method from the date class\n",
    "  # today = date.today()\n",
    "  # print(\"Today's date is\", date.today())\n",
    "\n",
    "  # print out the date's individual components\n",
    "  # print(\"Date component - Day:\", date.today().day)\n",
    "  # print(\"Date component - Month:\", date.today().month)\n",
    "  # print(\"Date component - Year:\", date.today().year)\n",
    "  \n",
    "  # retrieve today's weekday and month (0=Monday, 6=Sunday; 1=January, 12=December)\n",
    "  # print(\"Today's weekday number is\", date.today().weekday())\n",
    "  # print(\"Today's month number is\", date.today().month)"
   ]
  },
  {
   "cell_type": "code",
   "execution_count": null,
   "metadata": {},
   "outputs": [],
   "source": [
    "# Import necessary modules and classes\n",
    "\n",
    "import os\n",
    "import calendar\n",
    "from datetime import date, time, datetime, timedelta"
   ]
  },
  {
   "cell_type": "code",
   "execution_count": null,
   "metadata": {},
   "outputs": [],
   "source": [
    "def main():\n",
    "  os.system('clear') # Clear screen before prompting user"
   ]
  },
  {
   "cell_type": "code",
   "execution_count": null,
   "metadata": {},
   "outputs": [],
   "source": [
    "# Define array/list of weekday names\n",
    "DayOfWeek = [\"Monday\",\"Tuesday\",\"Wednesday\",\"Thursday\",\"Friday\",\"Saturday\",\"Sunday\"] \n",
    "  \n",
    "# Define array/list of month names\n",
    "MonthOfYear = [\"January\",\"February\",\"March\",\"April\",\"May\",\"June\",\"July\",\"August\",\"September\",\"October\",\"November\",\"December\"]\n",
    "\n",
    "# print (\"Which is a\", DayOfWeek[date.today().weekday()], \"in\", MonthOfYear[date.today().month]) \n",
    "# The above is called 'indexing into an array'\n",
    "\n",
    "# Symbols for future use\n",
    "Sunny = '\\u263c'\n",
    "Cloudy = '\\u2601'\n",
    "Rainy = '\\u2614'\n",
    "  "
   ]
  },
  {
   "cell_type": "code",
   "execution_count": null,
   "metadata": {},
   "outputs": [],
   "source": [
    "## USER INPUT\n",
    "\n",
    "# Ask user for name\n",
    "Name = input(\"\\nHello there!  What's your name? \")\n",
    "# Ask user for birthday\n",
    "BirthdayInput = input(\"\\nWhen were you born (m/d/yyyy)? \")"
   ]
  },
  {
   "cell_type": "code",
   "execution_count": null,
   "metadata": {},
   "outputs": [],
   "source": [
    "## DATE CALCULATIONS\n",
    "\n",
    "# Convert birthday input to date\n",
    "Birthday = datetime.strptime(BirthdayInput,'%m/%d/%Y')\n",
    "\n",
    "# Calculate difference in days between birth date and today\n",
    "BirthdayDiff = abs(Birthday.date() - date.today())\n",
    "# Calculate age in years\n",
    "AgeThisYear = date.today().year - Birthday.date().year\n",
    "\n",
    "# Determine birthday this year\n",
    "BirthdayThisYear = date(date.today().year,Birthday.date().month,Birthday.date().day)\n",
    "\n",
    "# Calculate difference in days between birthday this year and today\n",
    "BirthdayThisYearDiff = abs(BirthdayThisYear - date.today())\n",
    "\n",
    "# Calculate difference in days between today and next birthday this year\n",
    "if BirthdayThisYearDiff <= timedelta(days=14):\n",
    "  BirthdayNext = abs(BirthdayThisYear - date.today())\n",
    "  BirthdayNextUnit = \"days\"\n",
    "elif BirthdayThisYearDiff <= timedelta(days=31):\n",
    "  BirthdayNext = abs(BirthdayThisYear - date.today()) / 7\n",
    "  BirthdayNextUnit = \"weeks\"\n",
    "elif BirthdayThisYearDiff >= timedelta(days=32):\n",
    "  BirthdayNext = abs(BirthdayThisYear - date.today()) / 30.5\n",
    "  BirthdayNextUnit = \"months\"\n",
    "\n",
    "# Date verb tense\n",
    "if Birthday.date() < date.today():\n",
    "  DateTense = \"fell on\"\n",
    "elif Birthday.date() == date.today():\n",
    "  DateTense = \"is today - Happy Birthday!\"\n",
    "else:\n",
    "  DateTense = \"will fall on\"\n"
   ]
  },
  {
   "cell_type": "code",
   "execution_count": null,
   "metadata": {
    "tags": []
   },
   "outputs": [],
   "source": [
    "# USER OUTPUT\n",
    "\n",
    "# Create and display a single-month calendar based on birthday \n",
    "\n",
    "BirthdayCalendar = calendar.TextCalendar(calendar.MONDAY)\n",
    "BirthdayCalendarDisplay = BirthdayCalendar.formatmonth(Birthday.date().year,Birthday.date().month)\n",
    "print(\"\\n\\n\",BirthdayCalendarDisplay,\"\\n\\n\")"
   ]
  },
  {
   "cell_type": "code",
   "execution_count": null,
   "metadata": {
    "tags": []
   },
   "outputs": [],
   "source": [
    "# Display birthday references\n",
    "\n",
    "print(\n",
    "  Name+\", your birth date,\",\n",
    "  MonthOfYear[Birthday.date().month - 1],\n",
    "  Birthday.date().day,\",\",\n",
    "  Birthday.date().year, \n",
    "  DateTense,\"a\",\n",
    "  DayOfWeek[Birthday.date().weekday()],\"--\",\n",
    "  int(BirthdayDiff.days / 365),\"years,\",\n",
    "  int(BirthdayThisYearDiff.days / 30.5),\"months, and\",\n",
    "  int(BirthdayThisYearDiff.days),\"days ago.\\n\"\n",
    "  )\n",
    "  \n",
    "  \n",
    "if BirthdayThisYear < date.today():\n",
    "    print(\"\\nYour birthday has passed this year.\\n\\nYou turned\",AgeThisYear,\"years old.\\n\")\n",
    "elif BirthdayThisYear == date.today():\n",
    "    print(\"\\nIt's your birthday - *** HAPPY BIRTHDAY! ***  \\n\\nYou turn\",AgeThisYear,\"today.\\n\")\n",
    "else:\n",
    "    print(\"\\nYour birthday is coming up later this year in\",BirthdayNext,BirthdayNextUnit,\"\\n\")\n"
   ]
  },
  {
   "cell_type": "code",
   "execution_count": null,
   "metadata": {},
   "outputs": [],
   "source": [
    "# Don't yet know purpose of this\n",
    "\n",
    "if __name__ == \"__main__\":\n",
    "  main()"
   ]
  },
  {
   "cell_type": "code",
   "execution_count": null,
   "metadata": {},
   "outputs": [],
   "source": []
  }
 ],
 "metadata": {
  "language_info": {
   "codemirror_mode": {
    "name": "ipython",
    "version": 3
   },
   "file_extension": ".py",
   "mimetype": "text/x-python",
   "name": "python",
   "nbconvert_exporter": "python",
   "pygments_lexer": "ipython3",
   "version": "3.8.3-final"
  },
  "orig_nbformat": 2,
  "kernelspec": {
   "name": "python38364bit4e97f388e17244b1bfacdc4d331c1354",
   "display_name": "Python 3.8.3 64-bit"
  }
 },
 "nbformat": 4,
 "nbformat_minor": 2
}