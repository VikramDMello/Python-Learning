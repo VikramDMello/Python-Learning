{
 "cells": [
  {
   "cell_type": "markdown",
   "metadata": {},
   "source": [
    "# BIRTH OF NATIONS\n",
    "## This project compares world constitutions from the Comparative Constitutions Project - https://www.constituteproject.org/content/about"
   ]
  },
  {
   "cell_type": "markdown",
   "metadata": {},
   "source": [
    "## 1. Get each country's constitution text from API at https://docs.google.com/document/d/1wATS_IAcOpNZKzMrvO8SMmjCgOZfgH97gmPedVxpMfw/pub"
   ]
  },
  {
   "cell_type": "markdown",
   "metadata": {},
   "source": [
    "'https://www.constituteproject.org/service/<method_name>'\n",
    "\n",
    "'[?<parameter_name>=<parameter_value>&<parameter_name>=<parameter_value>]'\n",
    "\n",
    "## All service methods return JSON strings. Service methods are organised into categories as follows:\n",
    "\n",
    "\n",
    "### Requesting lists of objects\n",
    "- constitutions\n",
    "- topics\n",
    "- regions\n",
    "### Topic searches\n",
    "- constopicsearch\n",
    "- sectionstopicsearch\n",
    "### Free-text search\n",
    "- textsearch\n",
    "### Requests for constitution HTML\n",
    "- html\n"
   ]
  },
  {
   "cell_type": "code",
   "execution_count": 1,
   "metadata": {},
   "outputs": [],
   "source": [
    "import os\n",
    "from pandas import read_json"
   ]
  },
  {
   "cell_type": "code",
   "execution_count": 3,
   "metadata": {},
   "outputs": [],
   "source": [
    "### Basic request without parameters\n",
    "\n",
    "url = 'https://www.constituteproject.org/service/constitutions'\n",
    "\n",
    "constitution = requests.get(url).text\n",
    "\n",
    "# webpage = urllib.request.urlopen(url) # Open the webpage containing book text\n"
   ]
  }
 ],
 "metadata": {
  "language_info": {
   "codemirror_mode": {
    "name": "ipython",
    "version": 3
   },
   "file_extension": ".py",
   "mimetype": "text/x-python",
   "name": "python",
   "nbconvert_exporter": "python",
   "pygments_lexer": "ipython3",
   "version": 3
  },
  "orig_nbformat": 2,
  "kernelspec": {
   "name": "python_defaultSpec_1594584270356",
   "display_name": "Python 3.8.3 64-bit"
  }
 },
 "nbformat": 4,
 "nbformat_minor": 2
}