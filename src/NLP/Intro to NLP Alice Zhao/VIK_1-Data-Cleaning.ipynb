{
 "cells": [
  {
   "cell_type": "markdown",
   "metadata": {},
   "source": [
    "# VIK DATA CLEANING\n",
    "\n",
    "- Remember to set Python kernel to 3 (not later).\n",
    "- Install additional packages `textblob`, `wordcloud`, and `gensim`."
   ]
  },
  {
   "cell_type": "markdown",
   "metadata": {},
   "source": [
    "## VIK EXPLORATION: SEARCH ENGINE RESULTS"
   ]
  },
  {
   "cell_type": "markdown",
   "metadata": {},
   "source": [
    "### Import packages for scraping webpage contents and making sense of them\n",
    "\n",
    "import os\n",
    "import requests\n",
    "from bs4 import BeautifulSoup"
   ]
  },
  {
   "cell_type": "markdown",
   "metadata": {},
   "source": [
    "### Create variables and lists to serve as argument placeholders for scraping\n",
    "\n",
    "- #### `get` works in conjunction with `requests`.\n",
    "- #### `BeautifulSoup` must have a particular HTML element from a webpage to work on.\n",
    "  + ##### In this case, `class=\"post-content\">`, and the *p* is from `<p style=...>`.\n",
    "  + ##### Each website might have its own HTML structure; so might need different `soup.find` argument for each site being scraped.  \n",
    "    * ##### E.g., `class_=\"css-53u6y8\"` works for a NYTimes.com article, along with  *p* which is standard in HTML to represent a paragraph of text.\n",
    "    * ##### E.g., `class_=\"repo-list\"` works for GitHub search results.\n",
    "    * ##### E.g., `li class_=\"b_algo\"` with *a* works for Bing search results.\n"
   ]
  },
  {
   "cell_type": "markdown",
   "metadata": {
    "tags": []
   },
   "source": [
    "### Ask user for input\n",
    "\n",
    "os.system('clear')\n",
    "\n",
    "print(\"\\n\\nHello there!  \\n\\n\\nThis tool takes your search query, \\n\\napplies it to both major search engines, \\n\\nand then displays a simple comparison of the resulting search engine results.  \\n\\nAnalysis is limited to the first 100 results from each search engine.\")\n",
    "\n",
    "search_query = input(\"\\n\\n\\nWhat should we search for? \")"
   ]
  },
  {
   "cell_type": "markdown",
   "metadata": {
    "tags": []
   },
   "source": [
    "### Set page URLs\n",
    "query_url_bing = requests.get('https://www.bing.com/search?'+'q='+search_query+'&count=1000').text\n",
    "query_url_google = requests.get('https://www.google.com/search?'+'q='+search_query+'&num=1000').text\n",
    "\n",
    "#### Pass URL of page into `BeautifulSoup` method\n",
    "query_html_bing = BeautifulSoup(query_url_bing, 'lxml')\n",
    "query_html_google = BeautifulSoup(query_url_google, \"html.parser\")\n",
    "\n",
    "### Test page extraction results\n",
    "#### Display well-formatted HTML results\n",
    "##### print (source_html.prettify())\n",
    "\n",
    "#### Extract one result title\n",
    "##### result_title = source_html.find('div', class_='f4 text-normal').text\n",
    "#### Extract one result description\n",
    "##### result_desc = source_html.find('p', class_='mb-1').text\n",
    "\n",
    "#### Display one (ie, first) result and title\n",
    "##### print (result_title)\n",
    "##### print (result_desc)\n"
   ]
  },
  {
   "cell_type": "markdown",
   "metadata": {
    "tags": []
   },
   "source": [
    "### Prepare output file\n",
    "\n",
    "import csv # CSV module\n",
    "from datetime import datetime\n",
    "\n",
    "#### Check existing records in file, to which we will append\n",
    "\n",
    "##### with open('/Users/vix/Repos/Python-Learning/src/NLP/Intro to NLP Alice Zhao/Search_Results_Combined.csv','r') as csv_file:\n",
    "#####     csv_reader = csv.reader(csv_file)\n",
    "#####     for line in csv_reader:\n",
    "#####         print(line)\n"
   ]
  },
  {
   "cell_type": "markdown",
   "metadata": {
    "tags": []
   },
   "source": [
    "### Extract each search result's title and append to CSV file - note `'a'` argument for append\n",
    "\n",
    "#### Since using csv.writer in append mode, no need for header row; but otherwise for new files must use:\n",
    "##### csv_writer.writerow(['Search_Engine','Search_Query','Result_Title'])\n",
    "\n",
    "with open('/Users/vix/Repos/Python-Learning/src/NLP/Intro to NLP Alice Zhao/Search_Results_Combined.csv','a') as csv_file:\n",
    "    csv_writer = csv.writer(csv_file)\n",
    "\n",
    "    for result in query_html_bing.find_all('li', attrs = {'class':'b_algo'}):\n",
    "        result_title_bing = result.find('a').text\n",
    "        # print(result_title_bing) - Avoid to save display space\n",
    "        csv_writer.writerow([datetime.today(),\"Bing\",search_query,result_title_bing])\n",
    "\n",
    "    for result in query_html_google.find_all('h3', attrs = {'class':'zBAuLc'}):\n",
    "        result_title_google = result.find('div').text\n",
    "        # print(result_title_google) - Avoid to save display space\n",
    "        csv_writer.writerow([datetime.today(),\"Google\",search_query,result_title_google])\n",
    "\n",
    "csv_file.close() # Must close file, only after completing loop of row additions\n",
    "\n"
   ]
  },
  {
   "cell_type": "markdown",
   "metadata": {},
   "source": [
    "## **STOP** - Resume NLP lesson"
   ]
  },
  {
   "cell_type": "code",
   "execution_count": null,
   "metadata": {},
   "outputs": [],
   "source": [
    "# Necessary packages\n",
    "import requests\n",
    "from bs4 import BeautifulSoup\n",
    "import pickle\n",
    "\n",
    "# User function to scrape transcript data from scrapsfromtheloft.com\n",
    "def url_to_transcript(url):\n",
    "    '''Returns HTML contents of specified site.'''\n",
    "    page = requests.get(url).text\n",
    "    soup = BeautifulSoup(page, \"lxml\")\n",
    "    text = [p.text for p in soup.find(class_=\"post-content\").find_all('p')]\n",
    "    print(url)\n",
    "    return text"
   ]
  },
  {
   "cell_type": "code",
   "execution_count": null,
   "metadata": {},
   "outputs": [],
   "source": [
    "# URLs of transcripts in scope\n",
    "urls = ['http://scrapsfromtheloft.com/2017/05/06/louis-ck-oh-my-god-full-transcript/',\n",
    "        'http://scrapsfromtheloft.com/2017/04/11/dave-chappelle-age-spin-2017-full-transcript/',\n",
    "        'http://scrapsfromtheloft.com/2018/03/15/ricky-gervais-humanity-transcript/',\n",
    "        'http://scrapsfromtheloft.com/2017/08/07/bo-burnham-2013-full-transcript/',\n",
    "        'http://scrapsfromtheloft.com/2017/05/24/bill-burr-im-sorry-feel-way-2014-full-transcript/',\n",
    "        'http://scrapsfromtheloft.com/2017/04/21/jim-jefferies-bare-2014-full-transcript/',\n",
    "        'http://scrapsfromtheloft.com/2017/08/02/john-mulaney-comeback-kid-2015-full-transcript/',\n",
    "        'http://scrapsfromtheloft.com/2017/10/21/hasan-minhaj-homecoming-king-2017-full-transcript/',\n",
    "        'http://scrapsfromtheloft.com/2017/09/19/ali-wong-baby-cobra-2016-full-transcript/',\n",
    "        'http://scrapsfromtheloft.com/2017/08/03/anthony-jeselnik-thoughts-prayers-2015-full-transcript/',\n",
    "        'http://scrapsfromtheloft.com/2018/03/03/mike-birbiglia-my-girlfriends-boyfriend-2013-full-transcript/',\n",
    "        'http://scrapsfromtheloft.com/2017/08/19/joe-rogan-triggered-2016-full-transcript/']\n",
    "\n",
    "# Comedian names\n",
    "comedians = ['louis', 'dave', 'ricky', 'bo', 'bill', 'jim', 'john', 'hasan', 'ali', 'anthony', 'mike', 'joe']"
   ]
  },
  {
   "cell_type": "code",
   "execution_count": null,
   "metadata": {
    "tags": []
   },
   "outputs": [],
   "source": [
    "# Actually perform scrape of contents of scrapsfromtheloft.com\n",
    "\n",
    "transcripts = [url_to_transcript(u) for u in urls]"
   ]
  },
  {
   "cell_type": "code",
   "execution_count": null,
   "metadata": {},
   "outputs": [],
   "source": [
    "# Pickle files for later use - alternative to `csv_writer()`?\n",
    "\n",
    "## Make a new directory to hold the text files\n",
    "!mkdir transcripts\n",
    "\n",
    "for i, c in enumerate(comedians):\n",
    "    with open(\"transcripts/\" + c + \".txt\", \"wb\") as file:\n",
    "        pickle.dump(transcripts[i], file) ### Indexing into the `transcripts` array/list"
   ]
  },
  {
   "cell_type": "code",
   "execution_count": null,
   "metadata": {
    "tags": []
   },
   "outputs": [],
   "source": [
    "# Check if URL valid\n",
    "try:\n",
    "    webpage = urllib.request.urlopen(url)\n",
    "except:\n",
    "    print(\"Not valid\")\n"
   ]
  },
  {
   "cell_type": "code",
   "execution_count": 3,
   "metadata": {
    "tags": []
   },
   "outputs": [
    {
     "output_type": "stream",
     "name": "stdout",
     "text": "f Whittier, Volume IV (of VII)\n\nMatched!\nCurrently retrieving: Margaret Smith's Journal\n\nMatched!\nCurrently retrieving: My Summer With Dr. Singletary\n\nMatched!\nCurrently retrieving: Tales and Sketches\n\nMatched!\nCurrently retrieving: The Works of Whittier, Volume V (of VII)\n\nMatched!\nCurrently retrieving: Old Portraits, Part 1, From Volume VI.,\n\nMatched!\nCurrently retrieving: Personal Sketches and Tributes, Part 2, From Volume VI.,\n\nMatched!\nCurrently retrieving: Historical Papers, Part 3, From Volume VI.,\n\nMatched!\nCurrently retrieving: The Works of Whittier, Volume VI (of VII)\n\nMatched!\nCurrently retrieving: The Conflict With Slavery, Part 1, From Vol. VII,\n\nMatched!\nCurrently retrieving: Reform and Politics, Part 2, From Vol. VII,\n\nMatched!\nCurrently retrieving: The Inner Life, Part 3, From Vol. VII,\n\nMatched!\nCurrently retrieving: Criticism, Part 4, From Vol. VII,\n\nMatched!\nCurrently retrieving: The Works of Whittier, Volume VII (of VII)\n\nMatched!\nCurrently retrieving: The Complete Works of Whittier\n\nMatched!\nCurrently retrieving: Poetical Works of Pope, Vol. II\n\nMatched!\nCurrently retrieving: History of the French Revolution from 1789 to 1814\n\nMatched!\nCurrently retrieving: Hung Lou Meng, Book I\n\nMatched!\nCurrently retrieving: Hung Lou Meng, Book II\n\nMatched!\nCurrently retrieving: Chico: the Story of a Homing Pigeon\n\nMatched!\nCurrently retrieving: A Little Book of Western Verse\n\nMatched!\nCurrently retrieving: From Boyhood to Manhood\n\nMatched!\nCurrently retrieving: The Cords of Vanity\n\nMatched!\nCurrently retrieving: Joseph Andrews, Vol. 2\n\nMatched!\nCurrently retrieving: The Elegies of Tibullus\n\nMatched!\nCurrently retrieving: Joseph Andrews Vol. 1\n\nMatched!\nCurrently retrieving: The Botanic Garden\n\nMatched!\nCurrently retrieving: The Young Buglers\n\nMatched!\nCurrently retrieving: The Case of Richard Meynell\n\nMatched!\nCurrently retrieving: The Diary of a Superfluous Man and Other Stories\n\nMatched!\nCurrently retrieving: Ramuntcho\n\nMatched!\nCurrently retrieving: Echoes of the War\n\nMatched!\nCurrently retrieving: The Field of Ice\n\nMatched!\nCurrently retrieving: Who Can Be Happy And Free In Russia?\n\nMatched!\nCurrently retrieving: Tales and Novels, Vol. 6\n\nMatched!\nCurrently retrieving: Georgian Poetry 1918-19\n\nMatched!\nCurrently retrieving: Lyrical Ballads 1798\n\nURL Not Valid\nMatched!\nCurrently retrieving: Directions for Cookery, in its Various Branches\n\nMatched!\nCurrently retrieving: Buried Cities, Part 1, Pompeii\n\nMatched!\nCurrently retrieving: Buried Cities, Part 2\n\nMatched!\nCurrently retrieving: Buried Cities, Part 3, Mycenae\n\nMatched!\nCurrently retrieving: Buried Cities: Pompeii, Olympia, Mycenae\n\nMatched!\nCurrently retrieving: Ghost Stories of an Antiquary\n\nMatched!\nCurrently retrieving: Proportional Representation\n\nMatched!\nCurrently retrieving: Waltonia\n\nURL Not Valid\nMatched!\nCurrently retrieving: Sir George Tressady, Vol. I\n\nMatched!\nCurrently retrieving: Sir George Tressady, Vol. II\n\nMatched!\nCurrently retrieving: The End of Her Honeymoon\n\nMatched!\nCurrently retrieving: Punchinello, Vol. 1, No. 12, June 18, 1870\n\nURL Not Valid\nURL Not Valid\nURL Not Valid\nMatched!\nCurrently retrieving: Georgian Poetry 1920-22\n\nURL Not Valid\nURL Not Valid\nURL Not Valid\nURL Not Valid\nURL Not Valid\nMatched!\nCurrently retrieving: Odes and Epodes\n\nMatched!\nCurrently retrieving: The Architecture and Landscape Gardening of the Exposition\n\nMatched!\nCurrently retrieving: Tip Lewis and His Lamp\n\nMatched!\nCurrently retrieving: With Trapper Jim in the North Woods\n\nMatched!\nCurrently retrieving: Independent Bohemia\n\nMatched!\nCurrently retrieving: A Child-World\n\nMatched!\nCurrently retrieving: A Miscellany of Poetry\n\nMatched!\nCurrently retrieving: A Wreath of Virginia Bay Leaves\n\nURL Not Valid\nURL Not Valid\nMatched!\nCurrently retrieving: Alarms and Discursions\n\nMatched!\nCurrently retrieving: The Mutineers\n\nMatched!\nCurrently retrieving: Punchinello, Vol. 1, No. 13, June 25, 1870\n\nURL Not Valid\nMatched!\nCurrently retrieving: The Gentleman From Indiana\n\nMatched!\nCurrently retrieving: The First Blast of the Trumpet against the monstrous regiment of Women\n\nMatched!\nCurrently retrieving: Mormon Settlement in Arizona\n\nMatched!\nCurrently retrieving: An Enquiry Concerning Human Understanding\n\nMatched!\nCurrently retrieving: Domnei\n\nMatched!\nCurrently retrieving: An Amiable Charlatan\n\nMatched!\nCurrently retrieving: Delia Blanchflower\n\nMatched!\nCurrently retrieving: Scientific American Supplement, No. 497, July 11, 1885\n\nMatched!\nCurrently retrieving: Specimens with Memoirs of the Less-known British Poets, Vol. 1\n\nMatched!\nCurrently retrieving: Specimens with Memoirs of the Less-known British Poets, Vol. 2\n\nMatched!\nCurrently retrieving: Specimens with Memoirs of the Less-known British Poets, Vol. 3\n\nMatched!\nCurrently retrieving: Specimens with Memoirs of the Less-known British Poets, Complete\n\nURL Not Valid\nURL Not Valid\nURL Not Valid\nURL Not Valid\nURL Not Valid\nURL Not Valid\nURL Not Valid\nURL Not Valid\nURL Not Valid\nURL Not Valid\nURL Not Valid\nURL Not Valid\nURL Not Valid\nURL Not Valid\nURL Not Valid\nURL Not Valid\nURL Not Valid\nURL Not Valid\nURL Not Valid\nURL Not Valid\nURL Not Valid\nURL Not Valid\nURL Not Valid\nURL Not Valid\nURL Not Valid\nMatched!\nCurrently retrieving: A Christmas Carol\n\nURL Not Valid\nURL Not Valid\nURL Not Valid\nMatched!\nCurrently retrieving: Beowulf\n\nURL Not Valid\nURL Not Valid\nURL Not Valid\nURL Not Valid\nURL Not Valid\nURL Not Valid\nURL Not Valid\nURL Not Valid\nURL Not Valid\nURL Not Valid\nURL Not Valid\nURL Not Valid\nURL Not Valid\nURL Not Valid\nURL Not Valid\nURL Not Valid\nURL Not Valid\nURL Not Valid\nURL Not Valid\nURL Not Valid\nURL Not Valid\nURL Not Valid\nURL Not Valid\nURL Not Valid\nURL Not Valid\nURL Not Valid\nURL Not Valid\nURL Not Valid\nURL Not Valid\nURL Not Valid\nURL Not Valid\nURL Not Valid\nURL Not Valid\nURL Not Valid\nURL Not Valid\nURL Not Valid\nURL Not Valid\nURL Not Valid\nURL Not Valid\nURL Not Valid\nURL Not Valid\nURL Not Valid\nURL Not Valid\nURL Not Valid\nURL Not Valid\nMatched!\nCurrently retrieving: The Rock of Chickamauga\n\nMatched!\nCurrently retrieving: The Ashiel Mystery\n\nMatched!\nCurrently retrieving: The Fortune Hunter\n\nMatched!\nCurrently retrieving: The Old Gray Homestead\n\nMatched!\nCurrently retrieving: The Highwayman\n\nMatched!\nCurrently retrieving: Night and Morning\n\nMatched!\nCurrently retrieving: Night and Morning, Volume 2\n\nMatched!\nCurrently retrieving: Night and Morning, Volume 3\n\nMatched!\nCurrently retrieving: Night and Morning, Volume 4\n\nMatched!\nCurrently retrieving: Night and Morning, Volume 5\n\nMatched!\nCurrently retrieving: Night and Morning, Complete\n\nMatched!\nCurrently retrieving: Leila or, The Siege of Granada, Book I.\n\nMatched!\nCurrently retrieving: Leila or, The Siege of Granada, Book II.\n\nMatched!\nCurrently retrieving: Leila or, The Siege of Granada, Book III.\n\nMatched!\nCurrently retrieving: Leila or, The Siege of Granada, Book IV.\n\nMatched!\nCurrently retrieving: Leila or, The Siege of Granada, Book V.\n\nMatched!\nCurrently retrieving: Leila, Complete\n\nMatched!\nCurrently retrieving: Calderon The Courtier\n\nMatched!\nCurrently retrieving: Alice, or The Mysteries, Book I\n\nMatched!\nCurrently retrieving: Alice, or The Mysteries, Book II\n\nMatched!\nCurrently retrieving: Alice, or The Mysteries, Book III\n\nMatched!\nCurrently retrieving: Alice, or The Mysteries, Book IV\n\nMatched!\nCurrently retrieving: Alice, or The Mysteries, Book V\n\nMatched!\nCurrently retrieving: Alice, or The Mysteries, Book VI\n\nMatched!\nCurrently retrieving: Alice, or The Mysteries, Book VII\n\nMatched!\nCurrently retrieving: Alice, or The Mysteries, Book VIII\n\nMatched!\nCurrently retrieving: Alice, or The Mysteries, Book IX\n\nMatched!\nCurrently retrieving: Alice, or The Mysteries, Book X\n\nMatched!\nCurrently retrieving: Alice, or The Mysteries, Book XI\n\nMatched!\nCurrently retrieving: Alice, or The Mysteries, Complete\n\nMatched!\nCurrently retrieving: Treasure and Trouble Therewith\n\nMatched!\nCurrently retrieving: Cicero's Brutus or History of Famous Orators; also His Orator, or Accomplished Speaker.\n\nMatched!\nCurrently retrieving: Riley Child-Rhymes\n\nMatched!\nCurrently retrieving: Vane of the Timberlands\n\nMatched!\nCurrently retrieving: The Black Bag\n\nMatched!\nCurrently retrieving: Fair Margaret\n\nMatched!\nCurrently retrieving: A History of Rome, Vol 1\n\nMatched!\nCurrently retrieving: Female Scripture Biographies, Vol. I\n\nMatched!\nCurrently retrieving: Female Scripture Biographies, Vol. II\n\nMatched!\nCurrently retrieving: Thomas Carlyle\n\nMatched!\nCurrently retrieving: Woodstock; or, The Cavalier\n\nMatched!\nCurrently retrieving: Love's Shadow\n\nMatched!\nCurrently retrieving: In the Valley\n\nMatched!\nCurrently retrieving: Ned Myers\n\nMatched!\nCurrently retrieving: Army Boys in the French Trenches\n\nMatched!\nCurrently retrieving: Traffics and Discoveries\n\nURL Not Valid\nMatched!\nCurrently retrieving: Harrigan\n\nMatched!\nCurrently retrieving: Redemption and Two Other Plays\n\nMatched!\nCurrently retrieving: Josephus\n\nMatched!\nCurrently retrieving: Calvary Alley\n\nMatched!\nCurrently retrieving: The Four Faces\n\nMatched!\nCurrently retrieving: The Master Detective\n\nMatched!\nCurrently retrieving: Punchinello, Vol. 1,  No. 15, July 9, 1870\n\nMatched!\nCurrently retrieving: Clarissa, Volume 2 (of 9)\n\nMatched!\nCurrently retrieving: It Happened in Egypt\n\nMatched!\nCurrently retrieving: The Rape of the Lock and Other Poems\n\nMatched!\nCurrently retrieving: The Habitant and Other French-Canadian Poems\n\nURL Not Valid\nMatched!\nCurrently retrieving: Memoirs of the Life and Correspondence of Henry Reeve, C.B., D.C.L.\n\nMatched!\nCurrently retrieving: Stones of Venice [introductions]\n\nMatched!\nCurrently retrieving: The Second William Penn\n\nMatched!\nCurrently retrieving: Mr. Justice Raffles\n\nMatched!\nCurrently retrieving: Scarhaven Keep\n\nMatched!\nCurrently retrieving: The Loudwater Mystery\n\nMatched!\nCurrently retrieving: The Price of Things\n\nURL Not Valid\nMatched!\nCurrently retrieving: The Adventures of Hugh Trevor\n\nMatched!\nCurrently retrieving: I Spy\n\nMatched!\nCurrently retrieving: Santo Domingo\n\nMatched!\nCurrently retrieving: Poetical Works of Akenside\n\nMatched!\nCurrently retrieving: The Principal Navigations, Voyages, Traffiques and Discoveries of the English Nation. v. 8\n\nMatched!\nCurrently retrieving: Lo, Michael!\n\nMatched!\nCurrently retrieving: Peter Ibbetson\n\nURL Not Valid\nMatched!\nCurrently retrieving: Punchinello, Vol. 1, No. 14, July 2, 1870\n\nMatched!\nCurrently retrieving: A Writer's Recollections (In Two Volumes), Volume I\n\nMatched!\nCurrently retrieving: A Writer's Recollections (In Two Volumes), Volume II\n\nMatched!\nCurrently retrieving: Beaux and Belles of England\n\nMatched!\nCurrently retrieving: Lives of the Poets, Vol. 1\n\nURL Not Valid\nMatched!\nCurrently retrieving: A Calendar of Sonnets\n\nMatched!\nCurrently retrieving: Homeward Bound\n\nURL Not Valid\nURL Not Valid\nMatched!\nCurrently retrieving: The Jewel Merchants\n\nMatched!\nCurrently retrieving: The Beautiful and the Damned\n\nMatched!\nCurrently retrieving: The Court of the Empress Josephine\n\nMatched!\nCurrently retrieving: The Crimson Blind\n\nURL Not Valid\nMatched!\nCurrently retrieving: The Talleyrand Maxim\n\nMatched!\nCurrently retrieving: Martin Conisby's Vengeance\n\nMatched!\nCurrently retrieving: The Pawns Count\n\nMatched!\nCurrently retrieving: Albert Durer\n\nMatched!\nCurrently retrieving: Strong Hearts\n\nMatched!\nCurrently retrieving: The Cavalier\n\nMatched!\nCurrently retrieving: Vivian Grey\n\nURL Not Valid\nMatched!\nCurrently retrieving: Y Gododin\n\nURL Not Valid\nMatched!\nCurrently retrieving: W. A. G.'s Tale\n\nMatched!\nCurrently retrieving: The Spy\n\nMatched!\nCurrently retrieving: Excursions\n\nMatched!\nCurrently retrieving: Bacon is Shake-Speare\n\nMatched!\nCurrently retrieving: A Select Collection of Old English Plays, Vol. VI\n\nMatched!\nCurrently retrieving: The Brown Mask\n\nMatched!\nCurrently retrieving: The Lyric\n\nMatched!\nCurrently retrieving: Love at Second Sight\n\nMatched!\nCurrently retrieving: The Man From the Clouds\n\nMatched!\nCurrently retrieving: The Mystery of the Four Fingers\n\nMatched!\nCurrently retrieving: Frank Roscoe's Secret\n\nMatched!\nCurrently retrieving: Classic Myths\n\nMatched!\nCurrently retrieving: The Inn at the Red Oak\n\nMatched!\nCurrently retrieving: The Long Labrador Trail\n\nMatched!\nCurrently retrieving: Star-Dust\n\nURL Not Valid\nURL Not Valid\nURL Not Valid\nMatched!\nCurrently retrieving: City of Endless Night\n\nMatched!\nCurrently retrieving: The Letters of Robert Burns\n\nMatched!\nCurrently retrieving: Humoresque\n\nMatched!\nCurrently retrieving: Java Head\n\nMatched!\nCurrently retrieving: Freeland\n\nMatched!\nCurrently retrieving: Riders of the Silences\n\nMatched!\nCurrently retrieving: The United States Since The Civil War\n\nMatched!\nCurrently retrieving: The Confession of a Child of the Century\n\nMatched!\nCurrently retrieving: War is Kind\n\nMatched!\nCurrently retrieving: The Avenger\n\nMatched!\nCurrently retrieving: The Great Secret\n\nMatched!\nCurrently retrieving: Till the Clock Stops\n\nMatched!\nCurrently retrieving: A Visit to Three Fronts\n\nURL Not Valid\nMatched!\nCurrently retrieving: The Atlantic Monthly, Vol. 10, No. 58, August, 1862\n\nMatched!\nCurrently retrieving: Punchinello, Vol. 1, No. 16, July 16, 1870\n\nURL Not Valid\nMatched!\nCurrently retrieving: The Amateur Gentleman\n\nMatched!\nCurrently retrieving: The Woman's Bible\n\nMatched!\nCurrently retrieving: Clarissa, Volume 3 (of 9)\n\nURL Not Valid\nMatched!\nCurrently retrieving: The Mirror of Literature, Amusement, and Instruction, Vol. 10, Issue 262, July 7, 1827\n\nMatched!\nCurrently retrieving: The Mirror of Literature, Amusement, and Instruction, Vol. 10, Supplementary Number, Issue 263, 1827\n\nMatched!\nCurrently retrieving: The Mirror of Literature, Amusement, and Instruction, Vol. 10, Issue 264, July 14, 1827\n\nMatched!\nCurrently retrieving: Punchinello, Vol. 1, No. 17, July 23, 1870\n\nMatched!\nCurrently retrieving: The Book of Delight and Other Papers\n\nMatched!\nCurrently retrieving: Essays in War-Time\n\nMatched!\nCurrently retrieving: The Spread Eagle and Other Stories\n\nMatched!\nCurrently retrieving: Songs and Other Verse\n\nURL Not Valid\nURL Not Valid\nURL Not Valid\nURL Not Valid\nURL Not Valid\nURL Not Valid\nMatched!\nCurrently retrieving: My Days of Adventure\n\nMatched!\nCurrently retrieving: Introductory American History\n\nMatched!\nCurrently retrieving: Punchinello, Vol. 1, No. 4, April 23, 1870\n\nMatched!\nCurrently retrieving: Bob Cook and the German Spy\n\nMatched!\nCurrently retrieving: The Grand Old Man\n\nMatched!\nCurrently retrieving: Grace Harlowe's Return to Overton Campus\n\nMatched!\nCurrently retrieving: The Middle of Things\n\nMatched!\nCurrently retrieving: Way of the Lawless\n\nMatched!\nCurrently retrieving: The History of Pendennis, Vol. 2\n\nMatched!\nCurrently retrieving: A Deal in Wheat\n\nMatched!\nCurrently retrieving: In the Sargasso Sea\n\nMatched!\nCurrently retrieving: The Raid From Beausejour; And How The Carter Boys Lifted The Mortgage\n\nMatched!\nCurrently retrieving: The False Faces\n\nMatched!\nCurrently retrieving: Nightmare Abbey\n\nMatched!\nCurrently retrieving: Canadian Notabilities, Volume 1\n\nMatched!\nCurrently retrieving: The Torrents of Spring\n\nMatched!\nCurrently retrieving: An Explanation of Luther's Small Catechism\n\nMatched!\nCurrently retrieving: The Trail Book\n\nMatched!\nCurrently retrieving: The Babylonian Legends of the Creation\n\nMatched!\nCurrently retrieving: An Appeal to the Christian Women of the South\n\nMatched!\nCurrently retrieving: Spalding's Baseball Guide and Official League Book for 1895\n\nMatched!\nCurrently retrieving: Your Child: Today and Tomorrow\n\nMatched!\nCurrently retrieving: The Mirror of Literature, Amusement, and Instruction, Vol. 10, Issue 265, July 21, 1827\n\nMatched!\nCurrently retrieving: The Mirror of Literature, Amusement, and Instruction, Vol. 10, Issue 266, July 28, 1827\n\nMatched!\nCurrently retrieving: The Garden of Bright Waters\n\nMatched!\nCurrently retrieving: The Works of Lord Byron: Letters and Journals, Volume 2.\n\nMatched!\nCurrently retrieving: The Mirror of Literature, Amusement, and Instruction, Vol. 10, Issue 267, August 4, 1827\n\nMatched!\nCurrently retrieving: The Box with the Broken Seals\n\nMatched!\nCurrently retrieving: Viviette\n\nMatched!\nCurrently retrieving: Black Jack\n\nMatched!\nCurrently retrieving: The Two Guardians\n\nMatched!\nCurrently retrieving: The Bronze Bell\n\nMatched!\nCurrently retrieving: A Chair on The Boulevard\n\nMatched!\nCurrently retrieving: The Great Events by Famous Historians, Volume 12\n\nURL Not Valid\nMatched!\nCurrently retrieving: K\n\nMatched!\nCurrently retrieving: The Last Trail\n\nURL Not Valid\nURL Not Valid\nMatched!\nCurrently retrieving: Woman's Institute Library of Cookery, Vol. 1\n\nMatched!\nCurrently retrieving: Woman's Institute Library of Cookery, Vol. 2\n\nMatched!\nCurrently retrieving: Woman's Institute Library of Cookery, Vol. 3\n\nMatched!\nCurrently retrieving: Woman's Institute Library of Cookery, Vol. 4\n\nMatched!\nCurrently retrieving: Woman's Institute Library of Cookery, Vol. 5\n\nMatched!\nCurrently retrieving: Life in London\n\nMatched!\nCurrently retrieving: Biography of a Slave\n\nURL Not Valid\nMatched!\nCurrently retrieving: Journal of an Expedition into the Interior of Tropical Australia\n\nMatched!\nCurrently retrieving: The Conquest of Fear\n\nURL Not Valid\nMatched!\nCurrently retrieving: Atlantic Monthly, Volume 10, Number 59, September, 1862\n\nMatched!\nCurrently retrieving: Queen Victoria\n\nMatched!\nCurrently retrieving: The Banner Boy Scouts Afloat\n\nMatched!\nCurrently retrieving: The Bark Covered House\n\nURL Not Valid\nURL Not Valid\nMatched!\nCurrently retrieving: The Faery Tales of Weir\n\nMatched!\nCurrently retrieving: Punchinello, Vol. 1. No. 20, August 13, 1870\n\nMatched!\nCurrently retrieving: The Story of the Invention of Steel Pens\n\nMatched!\nCurrently retrieving: Bertha Garlan\n\nMatched!\nCurrently retrieving: Hauntings\n\nMatched!\nCurrently retrieving: The Personal Touch\n\nMatched!\nCurrently retrieving: Explorations in Australia\n\nURL Not Valid\nMatched!\nCurrently retrieving: Punchinello, Vol. 1, No. 6, May 7, 1870\n\nMatched!\nCurrently retrieving: Punchinello, Vol. 1, No. 7, May 14, 1870\n\nMatched!\nCurrently retrieving: Punchinello, Vol. 1, No. 8, May 21, 1870\n\nMatched!\nCurrently retrieving: Elsie's Girlhood\n\nMatched!\nCurrently retrieving: The Centaur\n\nMatched!\nCurrently retrieving: An Enemy to the King\n\nMatched!\nCurrently retrieving: The Spartan Twins\n\nMatched!\nCurrently retrieving: Mr. Waddington of Wyck\n\nMatched!\nCurrently retrieving: The Young Woodsman\n\nMatched!\nCurrently retrieving: Love's Final Victory\n\nMatched!\nCurrently retrieving: The Dramatic Values in Plautus\n\nMatched!\nCurrently retrieving: The Dramatic Works of Gerhart Hauptmann\n\nMatched!\nCurrently retrieving: The Dramatic Works of Gerhart Hauptmann\n\nMatched!\nCurrently retrieving: Yorkshire Painted And Described\n\nMatched!\nCurrently retrieving: The Yellow Streak\n\nMatched!\nCurrently retrieving: Paris War Days\n\nURL Not Valid\nURL Not Valid\nMatched!\nCurrently retrieving: The Happy Foreigner\n\nMatched!\nCurrently retrieving: De Libris: Prose and Verse\n\nURL Not Valid\nMatched!\nCurrently retrieving: The Spenders\n\nMatched!\nCurrently retrieving: Philothea\n\nMatched!\nCurrently retrieving: Wylder's Hand\n\nMatched!\nCurrently retrieving: Poetical Works of George MacDonald, Vol. 2\n\nMatched!\nCurrently retrieving: Pocahontas\n\nMatched!\nCurrently retrieving: Wild Kitty\n\nMatched!\nCurrently retrieving: Stories by Foreign Authors: Spanish\n\nMatched!\nCurrently retrieving: Amarilly of Clothes-line Alley\n\nMatched!\nCurrently retrieving: Bees in Amber\n\nMatched!\nCurrently retrieving: Brave and Bold\n\nMatched!\nCurrently retrieving: Ancient Man\n\nMatched!\nCurrently retrieving: Blackwood's Edinburgh Magazine, No. 327\n\nMatched!\nCurrently retrieving: Captivating Mary Carstairs\n\nMatched!\nCurrently retrieving: The Indian Lily and Other Stories\n\nMatched!\nCurrently retrieving: A Little Journey to Puerto Rico\n\nMatched!\nCurrently retrieving: 'Tis Sixty Years Since\n\nMatched!\nCurrently retrieving: France and England in North America, Part Third\n\nMatched!\nCurrently retrieving: Poems\n\nMatched!\nCurrently retrieving: Harriet, The Moses of Her People\n\n"
    }
   ],
   "source": [
    "# Retrieve contents of text file at any URL and save to disk\n",
    "\n",
    "import os\n",
    "import re\n",
    "import urllib # Import `urllib` package - primarily using `request` module with `urlopen` method\n",
    "\n",
    "os.chdir('/Users/vix/Repos/Python-Learning/src/NLP/Texts')\n",
    "\n",
    "for counter in range(10000,20000):\n",
    "    url = \"https://www.gutenberg.org/files/\"+str(counter)+\"/\"+str(counter)+\".txt\"\n",
    "\n",
    "    # Check if URL valid\n",
    "    try:\n",
    "        webpage = urllib.request.urlopen(url)\n",
    " \n",
    "        # Extract book title and author for file name\n",
    "        linecount = 1\n",
    "        for line in webpage:\n",
    "            m = re.search('Title: ',str(line))\n",
    "            if m:\n",
    "                print(\"Matched!\")\n",
    "                text = line.decode()\n",
    "                texttitle = text[7:len(text)-2] # Minus 2 at end critical to remove newline character `\\n\\\n",
    "                # print(texttitle)\n",
    "            linecount += 1\n",
    "\n",
    "        # Write each line to output file\n",
    "        print(\"Currently retrieving: \"+texttitle+\"\\n\")\n",
    "        with open(('/Users/vix/Repos/Python-Learning/src/NLP/Texts/'+str(counter)+'_'+texttitle+'.txt'),'w') as file:\n",
    "            webpage = urllib.request.urlopen(url)\n",
    "            for line in webpage:\n",
    "                text = line.decode() # This is the most important operation: extracting only the text \n",
    "                file.write(text)\n",
    "    except:\n",
    "        print(\"URL Not Valid\")"
   ]
  },
  {
   "cell_type": "markdown",
   "metadata": {
    "tags": []
   },
   "source": [
    "# Compare two text documents\n",
    "\n",
    "import urllib\n",
    "import os\n",
    "\n",
    "os.chdir('/Users/vix/Repos/Python-Learning/src/NLP/Texts')\n",
    "\n",
    "with open('base.txt', 'r') as file1:\n",
    "    with open('comparison.txt', 'r') as file2:\n",
    "        difference = set(file1).symmetric_difference(file2)\n",
    "\n",
    "for line in difference:\n",
    "    print(line)\n"
   ]
  },
  {
   "cell_type": "code",
   "execution_count": null,
   "metadata": {},
   "outputs": [],
   "source": [
    "# Load pickled files - equivalent to `read_csv`?\n",
    "data = {} # `{}` signifies a dictionary\n",
    "for i, c in enumerate(comedians):\n",
    "    with open(\"transcripts/\" + c + \".txt\", \"rb\") as file:\n",
    "        data[c] = pickle.load(file)"
   ]
  },
  {
   "cell_type": "code",
   "execution_count": null,
   "metadata": {},
   "outputs": [],
   "source": [
    "# Double check to make sure data has been loaded properly\n",
    "data.keys()"
   ]
  },
  {
   "cell_type": "code",
   "execution_count": null,
   "metadata": {},
   "outputs": [],
   "source": [
    "# More checks\n",
    "data['louis'][:2]"
   ]
  },
  {
   "cell_type": "markdown",
   "metadata": {},
   "source": [
    "## Cleaning The Data"
   ]
  },
  {
   "cell_type": "markdown",
   "metadata": {},
   "source": [
    "When dealing with numerical data, data cleaning often involves removing null values and duplicate data, dealing with outliers, etc. With text data, there are some common data cleaning techniques, which are also known as text pre-processing techniques.\n",
    "\n",
    "With text data, this cleaning process can go on forever. There's always an exception to every cleaning step. So, we're going to follow the MVP (minimum viable product) approach - start simple and iterate. Here are a bunch of things you can do to clean your data. We're going to execute just the common cleaning steps here and the rest can be done at a later point to improve our results.\n",
    "\n",
    "**Common data cleaning steps on all text:**\n",
    "* Make text all lower case\n",
    "* Remove punctuation\n",
    "* Remove numerical values\n",
    "* Remove common non-sensical text (/n)\n",
    "* Tokenize text\n",
    "* Remove stop words\n",
    "\n",
    "**More data cleaning steps after tokenization:**\n",
    "* Stemming / lemmatization\n",
    "* Parts of speech tagging\n",
    "* Create bi-grams or tri-grams\n",
    "* Deal with typos\n",
    "* And more..."
   ]
  },
  {
   "cell_type": "code",
   "execution_count": null,
   "metadata": {},
   "outputs": [],
   "source": [
    "# Let's take a look at our data again\n",
    "next(iter(data.keys()))"
   ]
  },
  {
   "cell_type": "code",
   "execution_count": null,
   "metadata": {},
   "outputs": [],
   "source": [
    "# Notice that our dictionary is currently in key: comedian, value: list of text format\n",
    "next(iter(data.values()))"
   ]
  },
  {
   "cell_type": "code",
   "execution_count": null,
   "metadata": {},
   "outputs": [],
   "source": [
    "# We are going to change this to key: comedian, value: string format\n",
    "def combine_text(list_of_text):\n",
    "    '''Takes a list of text and combines them into one large chunk of text.'''\n",
    "    combined_text = ' '.join(list_of_text)\n",
    "    return combined_text"
   ]
  },
  {
   "cell_type": "code",
   "execution_count": null,
   "metadata": {},
   "outputs": [],
   "source": [
    "# Combine it!\n",
    "data_combined = {key: [combine_text(value)] for (key, value) in data.items()}"
   ]
  },
  {
   "cell_type": "code",
   "execution_count": null,
   "metadata": {},
   "outputs": [],
   "source": [
    "# We can either keep it in dictionary format or put it into a pandas dataframe\n",
    "import pandas as pd\n",
    "pd.set_option('max_colwidth',150)\n",
    "\n",
    "data_df = pd.DataFrame.from_dict(data_combined).transpose()\n",
    "data_df.columns = ['transcript']\n",
    "data_df = data_df.sort_index()\n",
    "data_df"
   ]
  },
  {
   "cell_type": "code",
   "execution_count": null,
   "metadata": {},
   "outputs": [],
   "source": [
    "# Let's take a look at the transcript for Ali Wong\n",
    "data_df.transcript.loc['ali']"
   ]
  },
  {
   "cell_type": "code",
   "execution_count": null,
   "metadata": {},
   "outputs": [],
   "source": [
    "# Apply a first round of text cleaning techniques\n",
    "import re\n",
    "import string\n",
    "\n",
    "def clean_text_round1(text):\n",
    "    '''Make text lowercase, remove text in square brackets, remove punctuation and remove words containing numbers.'''\n",
    "    text = text.lower()\n",
    "    text = re.sub('\\[.*?\\]', '', text)\n",
    "    text = re.sub('[%s]' % re.escape(string.punctuation), '', text)\n",
    "    text = re.sub('\\w*\\d\\w*', '', text)\n",
    "    return text\n",
    "\n",
    "round1 = lambda x: clean_text_round1(x)# Apply a first round of text cleaning techniques\n",
    "import re\n",
    "import string\n",
    "\n",
    "def clean_text_round1(text):\n",
    "    '''Make text lowercase, remove text in square brackets, remove punctuation and remove words containing numbers.'''\n",
    "    text = text.lower()\n",
    "    text = re.sub('\\[.*?\\]', '', text)\n",
    "    text = re.sub('[%s]' % re.escape(string.punctuation), '', text)\n",
    "    text = re.sub('\\w*\\d\\w*', '', text)\n",
    "    return text\n",
    "\n",
    "round1 = lambda x: clean_text_round1(x)"
   ]
  }
 ],
 "metadata": {
  "language_info": {
   "codemirror_mode": {
    "name": "ipython",
    "version": 3
   },
   "file_extension": ".py",
   "mimetype": "text/x-python",
   "name": "python",
   "nbconvert_exporter": "python",
   "pygments_lexer": "ipython3",
   "version": "3.8.3-final"
  },
  "orig_nbformat": 2,
  "kernelspec": {
   "name": "python3",
   "display_name": "Python 3"
  }
 },
 "nbformat": 4,
 "nbformat_minor": 2
}