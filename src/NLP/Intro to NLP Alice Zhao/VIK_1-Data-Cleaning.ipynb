{
 "cells": [
  {
   "cell_type": "markdown",
   "metadata": {},
   "source": [
    "# VIK DATA CLEANING\n",
    "\n",
    "- Remember to set Python kernel to 3 (not later).\n",
    "- Install additional packages `textblob`, `wordcloud`, and `gensim`."
   ]
  },
  {
   "cell_type": "markdown",
   "metadata": {},
   "source": [
    "## Import packages for scraping webpage contents and making sense of them\n",
    "\n",
    "import os, requests\n",
    "from bs4 import BeautifulSoup"
   ]
  },
  {
   "cell_type": "markdown",
   "metadata": {},
   "source": [
    "## VIK EXPLORATION: File operations"
   ]
  },
  {
   "cell_type": "markdown",
   "metadata": {
    "tags": []
   },
   "source": [
    "### Essentially copying a file's contents to another file - this works for text files...\n",
    "\n",
    "with open('/Users/vix/Repos/Python-Learning/src/NLP/SNLI Stanford Corpus/README.txt','r') as sourcefile:\n",
    "    with open('/Users/vix/Repos/Python-Learning/src/NLP/SNLI Stanford Corpus/DESTFILE.txt','w') as destfile:\n",
    "        for line in sourcefile:\n",
    "            destfile.write(line)\n",
    "\n",
    "\n",
    "### And for an image file...simply append `b` for *binary mode* to file operation command `r`, `w`, or `a`\n",
    "\n",
    "with open('/Users/vix/OneDrive/Temp/Portrait_Vikram_Before-After.png','rb') as sourceimage:\n",
    "    with open('/Users/vix/Repos/Python-Learning/src/NLP/SNLI Stanford Corpus/destimage.png','wb') as destimage:\n",
    "        for line in sourceimage:\n",
    "            destimage.write(line)\n",
    "\n"
   ]
  },
  {
   "cell_type": "markdown",
   "metadata": {},
   "source": [
    "## VIK EXPLORATION: Get book text from Project Gutenberg, save to file, and populate list object"
   ]
  },
  {
   "cell_type": "markdown",
   "metadata": {
    "tags": []
   },
   "source": [
    "import os\n",
    "import re\n",
    "import urllib # Import `urllib` package - primarily using `request` module with `urlopen` method\n",
    "\n",
    "### os.chdir('/Users/vix/Repos/Python-Learning/src/NLP/Texts')\n",
    "gutenberg_texts = [] # Initialize list\n",
    "\n",
    "for counter in range(10,25003): # Loop over each book, which is a reference number\n",
    "\n",
    "    def get_gutenberg_text():\n",
    "        url = \"https://www.gutenberg.org/files/\" + str(counter) + \"/\" + str(counter) + \".txt\"\n",
    "\n",
    "        try: # Check if URL valid\n",
    "            webpage = urllib.request.urlopen(url) # Open the webpage containing book text\n",
    "\n",
    "            # Extract book title and author (author TBD) for file name\n",
    "            linecount = 1\n",
    "            for line in webpage:\n",
    "                m = re.search('Title: ',str(line))\n",
    "                if m:\n",
    "                    print(\"Matched!\")\n",
    "                    text = line.decode()\n",
    "                    booktitle = text[7 : (len(text) - 2)] # Minus 2 at end critical to remove newline character\n",
    "                linecount += 1 # Advance line counter\n",
    "            filename = str(counter)+'_'+booktitle+'.txt'\n",
    "            \n",
    "            # Write book text to output file\n",
    "            print(\"Currently retrieving: \" + booktitle + \" -- file name: \" + filename)\n",
    "            with open(str('/Users/vix/Repos/Python-Learning/src/NLP/Texts/' + filename),'w') as file:\n",
    "                webpage = urllib.request.urlopen(url)\n",
    "                for line in webpage:\n",
    "                    text = line.decode() # IMP: Extract only text, discarding non-printing characters\n",
    "                    file.write(text)\n",
    "            \n",
    "            # Write book text to list \n",
    "            with open(str('/Users/vix/Repos/Python-Learning/src/NLP/Texts/' + filename),'r') as file:\n",
    "                text = [file.read().replace('\\n','')]\n",
    "                gutenberg_texts.append(text)\n",
    "                print(\"Added list item: \" + str(len(gutenberg_texts)) + \"\\n\") # Enumerate list count, which is number of books\n",
    "            return gutenberg_texts\n",
    "\n",
    "\n",
    "        except: # If URL invalid, means no book at that webpage\n",
    "            print(\"URL Not Valid\\n\")\n",
    "\n",
    "    gutenberg_texts = get_gutenberg_text() # Call function\n"
   ]
  },
  {
   "cell_type": "markdown",
   "metadata": {},
   "source": [
    "## VIK EXPLORATION: Separate function to populate list object using existing files in given folder"
   ]
  },
  {
   "cell_type": "markdown",
   "metadata": {
    "tags": []
   },
   "source": [
    "import os\n",
    "import codecs\n",
    "import re\n",
    "\n",
    "### Custom function to create `listdir` command that does not show hidden files\n",
    "def listdir_nohidden(path):\n",
    "    import glob\n",
    "    return glob.glob(os.path.join(path, '*'))\n",
    "\n",
    "os.chdir('/Users/vix/Repos/Python-Learning/src/NLP/Intro to NLP Alice Zhao/books') # Set working folder\n",
    "print(\"Adding *all* files in \" + os.getcwd() + \"\\n\")\n",
    "gutenberg_texts = [] # Initialize list of texts\n",
    "gutenberg_titles = [] # Initialize list of book titles\n",
    "\n",
    "def get_gutenberg_text():\n",
    "    # Extract book title\n",
    "    for file in sorted(listdir_nohidden(\".\")):\n",
    "        with codecs.open(file, 'r', encoding='utf-8', errors='ignore') as f:\n",
    "            linecount = 1\n",
    "            for line in f:\n",
    "                m = re.search('Title: ',str(line))\n",
    "                if m:\n",
    "                    print(\"Matched!\")\n",
    "                    title = line[7 : (len(line) - 2)] # Minus 2 at end critical to remove newline character\n",
    "                    gutenberg_titles.append(title) # Put book titles in list\n",
    "                linecount += 1 # Advance line counter\n",
    "\n",
    "    # Write book text from file to list \n",
    "    for file in sorted(listdir_nohidden(\".\")):\n",
    "        with codecs.open(file, 'r', encoding='utf-8', errors='ignore') as f:\n",
    "            text = [f.read().replace('\\n',' ')]\n",
    "            gutenberg_texts.append(text)\n",
    "            print(str(len(gutenberg_texts)) + \": \" + file) # Enumerate list count, which is running count of books\n",
    "\n",
    "get_gutenberg_text() # Call function\n"
   ]
  },
  {
   "cell_type": "markdown",
   "metadata": {},
   "source": [
    "gutenberg_titles.append(\"Q and the Magic of Grammar\")"
   ]
  },
  {
   "cell_type": "markdown",
   "metadata": {
    "tags": []
   },
   "source": [
    "### Useful code to display beginnings of each list item as preview\n",
    "[book[0][:100] for book in gutenberg_texts]\n",
    "\n",
    "### Similar code for items in dictionary form\n",
    "{}\n",
    "\n",
    "### Useful code to convert MS Word document to text file\n",
    "\n",
    "import docx2txt\n",
    "converted_text = docx2txt.process(filename.docx)\n",
    "with open(Filename.txt, 'w') as file:\n",
    "    file.write(converted_text)\n"
   ]
  },
  {
   "cell_type": "markdown",
   "metadata": {},
   "source": [
    "### Custom function to create `listdir` command that does not show hidden files\n",
    "\n",
    "def listdir_nohidden(path):\n",
    "    import glob\n",
    "    return glob.glob(os.path.join(path, '*'))\n"
   ]
  },
  {
   "cell_type": "markdown",
   "metadata": {},
   "source": [
    "## **STOP** - Resume NLP lesson"
   ]
  },
  {
   "cell_type": "markdown",
   "metadata": {},
   "source": [
    "# Necessary packages\n",
    "import requests\n",
    "from bs4 import BeautifulSoup\n",
    "import pickle\n",
    "\n",
    "# User function to scrape transcript data from scrapsfromtheloft.com\n",
    "def url_to_transcript(url):\n",
    "    '''Returns HTML contents of specified site.'''\n",
    "    page = requests.get(url).text\n",
    "    soup = BeautifulSoup(page, \"lxml\")\n",
    "    text = [p.text for p in soup.find(class_=\"post-content\").find_all('p')]\n",
    "    print(url)\n",
    "    return text"
   ]
  },
  {
   "cell_type": "markdown",
   "metadata": {},
   "source": [
    "# URLs of transcripts in scope\n",
    "urls = ['http://scrapsfromtheloft.com/2017/05/06/louis-ck-oh-my-god-full-transcript/',\n",
    "        'http://scrapsfromtheloft.com/2017/04/11/dave-chappelle-age-spin-2017-full-transcript/',\n",
    "        'http://scrapsfromtheloft.com/2018/03/15/ricky-gervais-humanity-transcript/',\n",
    "        'http://scrapsfromtheloft.com/2017/08/07/bo-burnham-2013-full-transcript/',\n",
    "        'http://scrapsfromtheloft.com/2017/05/24/bill-burr-im-sorry-feel-way-2014-full-transcript/',\n",
    "        'http://scrapsfromtheloft.com/2017/04/21/jim-jefferies-bare-2014-full-transcript/',\n",
    "        'http://scrapsfromtheloft.com/2017/08/02/john-mulaney-comeback-kid-2015-full-transcript/',\n",
    "        'http://scrapsfromtheloft.com/2017/10/21/hasan-minhaj-homecoming-king-2017-full-transcript/',\n",
    "        'http://scrapsfromtheloft.com/2017/09/19/ali-wong-baby-cobra-2016-full-transcript/',\n",
    "        'http://scrapsfromtheloft.com/2017/08/03/anthony-jeselnik-thoughts-prayers-2015-full-transcript/',\n",
    "        'http://scrapsfromtheloft.com/2018/03/03/mike-birbiglia-my-girlfriends-boyfriend-2013-full-transcript/',\n",
    "        'http://scrapsfromtheloft.com/2017/08/19/joe-rogan-triggered-2016-full-transcript/']\n",
    "\n",
    "# Comedian names\n",
    "comedians = ['louis', 'dave', 'ricky', 'bo', 'bill', 'jim', 'john', 'hasan', 'ali', 'anthony', 'mike', 'joe']"
   ]
  },
  {
   "cell_type": "markdown",
   "metadata": {
    "tags": []
   },
   "source": [
    "# Actually perform scrape of contents of scrapsfromtheloft.com\n",
    "\n",
    "transcripts = [url_to_transcript(u) for u in urls]"
   ]
  },
  {
   "cell_type": "markdown",
   "metadata": {},
   "source": [
    "# Pickle files for later use - alternative to `csv_writer()`?\n",
    "\n",
    "## Make a new directory to hold the text files\n",
    "!mkdir transcripts\n",
    "\n",
    "for i, c in enumerate(comedians):\n",
    "    with open(\"transcripts/\" + c + \".txt\", \"wb\") as file:\n",
    "        pickle.dump(transcripts[i], file) ### Indexing into the `transcripts` array/list"
   ]
  },
  {
   "cell_type": "markdown",
   "metadata": {},
   "source": [
    "### Load pickled files - modified code to simply open file; unsure about need for Pickle\n",
    "### Create dictionary data container which can hold book text as well as title\n",
    "\n",
    "books = {} # `{}` signifies a dictionary\n",
    "for i, title in enumerate(gutenberg_titles):\n",
    "    with open(title + \".txt\", 'r') as f:\n",
    "        books[title] = f.read()"
   ]
  },
  {
   "cell_type": "code",
   "execution_count": null,
   "metadata": {
    "tags": [
     "outputPrepend"
    ]
   },
   "outputs": [],
   "source": [
    "books = {'title': gutenberg_titles, 'text': gutenberg_texts}\n",
    "print(len(books))\n",
    "for key, value in books.items():\n",
    "    print(key, value)"
   ]
  },
  {
   "cell_type": "code",
   "execution_count": 12,
   "metadata": {},
   "outputs": [
    {
     "output_type": "execute_result",
     "data": {
      "text/plain": "dict_keys([\"Alice's Adventures in Wonderland\", 'Paradise Lost', 'Peter Pan', 'The 1990 CIA World Factbook', 'The Book Of Mormon', 'The Federalist Papers', 'The Hunting of the Snark', 'The King James Bible', 'The Song Of Hiawatha', 'Through the Looking-Glass', 'Q and the Magic of Grammar'])"
     },
     "metadata": {},
     "execution_count": 12
    }
   ],
   "source": [
    "# Double check to make sure data has been loaded properly\n",
    "books.keys()"
   ]
  },
  {
   "cell_type": "code",
   "execution_count": 13,
   "metadata": {},
   "outputs": [
    {
     "output_type": "execute_result",
     "data": {
      "text/plain": "'The Project Gutenberg EBook of The King James Bible\\n\\n\\n**********************************************'"
     },
     "metadata": {},
     "execution_count": 13
    }
   ],
   "source": [
    "# More checks\n",
    "books['The King James Bible'][:100]"
   ]
  },
  {
   "cell_type": "markdown",
   "metadata": {},
   "source": [
    "## Cleaning The Data"
   ]
  },
  {
   "cell_type": "markdown",
   "metadata": {},
   "source": [
    "When dealing with numerical data, data cleaning often involves removing null values and duplicate data, dealing with outliers, etc. With text data, there are some common data cleaning techniques, which are also known as text pre-processing techniques.\n",
    "\n",
    "With text data, this cleaning process can go on forever. There's always an exception to every cleaning step. So, we're going to follow the MVP (minimum viable product) approach - start simple and iterate. Here are a bunch of things you can do to clean your data. We're going to execute just the common cleaning steps here and the rest can be done at a later point to improve our results.\n",
    "\n",
    "**Common data cleaning steps on all text:**\n",
    "* Make text all lower case\n",
    "* Remove punctuation\n",
    "* Remove numerical values\n",
    "* Remove common non-sensical text (/n)\n",
    "* Tokenize text\n",
    "* Remove stop words\n",
    "\n",
    "**More data cleaning steps after tokenization:**\n",
    "* Stemming / lemmatization\n",
    "* Parts of speech tagging\n",
    "* Create bi-grams or tri-grams\n",
    "* Deal with typos\n",
    "* And more..."
   ]
  },
  {
   "cell_type": "code",
   "execution_count": 16,
   "metadata": {},
   "outputs": [
    {
     "output_type": "execute_result",
     "data": {
      "text/plain": "\"Alice's Adventures in Wonderland\""
     },
     "metadata": {},
     "execution_count": 16
    }
   ],
   "source": [
    "# Let's take a look at our data again\n",
    "next(iter(books.keys()))"
   ]
  },
  {
   "cell_type": "code",
   "execution_count": 17,
   "metadata": {},
   "outputs": [
    {
     "output_type": "execute_result",
     "data": {
      "text/plain": "he shepherd boy--and the sneeze of the baby, the\\nshriek of the Gryphon, and all the other queer noises, would change (she\\nknew) to the confused clamour of the busy farm-yard--while the lowing\\nof the cattle in the distance would take the place of the Mock Turtle\\'s\\nheavy sobs.\\n\\nLastly, she pictured to herself how this same little sister of hers\\nwould, in the after-time, be herself a grown woman; and how she would\\nkeep, through all her riper years, the simple and loving heart of her\\nchildhood: and how she would gather about her other little children, and\\nmake THEIR eyes bright and eager with many a strange tale, perhaps even\\nwith the dream of Wonderland of long ago: and how she would feel with\\nall their simple sorrows, and find a pleasure in all their simple joys,\\nremembering her own child-life, and the happy summer days.\\n\\n              THE END\\n\\n\\n\\n\\n\\nEnd of Project Gutenberg\\'s Alice\\'s Adventures in Wonderland, by Lewis Carroll\\n\\n*** END OF THIS PROJECT GUTENBERG EBOOK ALICE\\'S ADVENTURES IN WONDERLAND ***\\n\\n***** This file should be named 11.txt or 11.zip *****\\nThis and all associated files of various formats will be found in:\\n        http://www.gutenberg.org/1/11/\\n\\n\\n\\nUpdated editions will replace the previous one--the old editions\\nwill be renamed.\\n\\nCreating the works from public domain print editions means that no\\none owns a United States copyright in these works, so the Foundation\\n(and you!) can copy and distribute it in the United States without\\npermission and without paying copyright royalties.  Special rules,\\nset forth in the General Terms of Use part of this license, apply to\\ncopying and distributing Project Gutenberg-tm electronic works to\\nprotect the PROJECT GUTENBERG-tm concept and trademark.  Project\\nGutenberg is a registered trademark, and may not be used if you\\ncharge for the eBooks, unless you receive specific permission.  If you\\ndo not charge anything for copies of this eBook, complying with the\\nrules is very easy.  You may use this eBook for nearly any purpose\\nsuch as creation of derivative works, reports, performances and\\nresearch.  They may be modified and printed and given away--you may do\\npractically ANYTHING with public domain eBooks.  Redistribution is\\nsubject to the trademark license, especially commercial\\nredistribution.\\n\\n\\n\\n*** START: FULL LICENSE ***\\n\\nTHE FULL PROJECT GUTENBERG LICENSE\\nPLEASE READ THIS BEFORE YOU DISTRIBUTE OR USE THIS WORK\\n\\nTo protect the Project Gutenberg-tm mission of promoting the free\\ndistribution of electronic works, by using or distributing this work\\n(or any other work associated in any way with the phrase \"Project\\nGutenberg\"), you agree to comply with all the terms of the Full Project\\nGutenberg-tm License (available with this file or online at\\nhttp://gutenberg.org/license).\\n\\n\\nSection 1.  General Terms of Use and Redistributing Project Gutenberg-tm\\nelectronic works\\n\\n1.A.  By reading or using any part of this Project Gutenberg-tm\\nelectronic work, you indicate that you have read, understand, agree to\\nand accept all the terms of this license and intellectual property\\n(trademark/copyright) agreement.  If you do not agree to abide by all\\nthe terms of this agreement, you must cease using and return or destroy\\nall copies of Project Gutenberg-tm electronic works in your possession.\\nIf you paid a fee for obtaining a copy of or access to a Project\\nGutenberg-tm electronic work and you do not agree to be bound by the\\nterms of this agreement, you may obtain a refund from the person or\\nentity to whom you paid the fee as set forth in paragraph 1.E.8.\\n\\n1.B.  \"Project Gutenberg\" is a registered trademark.  It may only be\\nused on or associated in any way with an electronic work by people who\\nagree to be bound by the terms of this agreement.  There are a few\\nthings that you can do with most Project Gutenberg-tm electronic works\\neven without complying with the full terms of this agreement.  See\\nparagraph 1.C below.  There are a lot of things you can do with Project\\nGutenberg-tm electronic works if you follow the terms of this agreement\\nand help preserve free future access to Project Gutenberg-tm electronic\\nworks.  See paragraph 1.E below.\\n\\n1.C.  The Project Gutenberg Literary Archive Foundation (\"the Foundation\"\\nor PGLAF), owns a compilation copyright in the collection of Project\\nGutenberg-tm electronic works.  Nearly all the individual works in the\\ncollection are in the public domain in the United States.  If an\\nindividual work is in the public domain in the United States and you are\\nlocated in the United States, we do not claim a right to prevent you from\\ncopying, distributing, performing, displaying or creating derivative\\nworks based on the work as long as all references to Project Gutenberg\\nare removed.  Of course, we hope that you will support the Project\\nGutenberg-tm mission of promoting free access to electronic works by\\nfreely sharing Project Gutenberg-tm works in compliance with the terms of\\nthis agreement for keeping the Project Gutenberg-tm name associated with\\nthe work.  You can easily comply with the terms of this agreement by\\nkeeping this work in the same format with its attached full Project\\nGutenberg-tm License when you share it without charge with others.\\n\\n1.D.  The copyright laws of the place where you are located also govern\\nwhat you can do with this work.  Copyright laws in most countries are in\\na constant state of change.  If you are outside the United States, check\\nthe laws of your country in addition to the terms of this agreement\\nbefore downloading, copying, displaying, performing, distributing or\\ncreating derivative works based on this work or any other Project\\nGutenberg-tm work.  The Foundation makes no representations concerning\\nthe copyright status of any work in any country outside the United\\nStates.\\n\\n1.E.  Unless you have removed all references to Project Gutenberg:\\n\\n1.E.1.  The following sentence, with active links to, or other immediate\\naccess to, the full Project Gutenberg-tm License must appear prominently\\nwhenever any copy of a Project Gutenberg-tm work (any work on which the\\nphrase \"Project Gutenberg\" appears, or with which the phrase \"Project\\nGutenberg\" is associated) is accessed, displayed, performed, viewed,\\ncopied or distributed:\\n\\nThis eBook is for the use of anyone anywhere at no cost and with\\nalmost no restrictions whatsoever.  You may copy it, give it away or\\nre-use it under the terms of the Project Gutenberg License included\\nwith this eBook or online at www.gutenberg.org\\n\\n1.E.2.  If an individual Project Gutenberg-tm electronic work is derived\\nfrom the public domain (does not contain a notice indicating that it is\\nposted with permission of the copyright holder), the work can be copied\\nand distributed to anyone in the United States without paying any fees\\nor charges.  If you are redistributing or providing access to a work\\nwith the phrase \"Project Gutenberg\" associated with or appearing on the\\nwork, you must comply either with the requirements of paragraphs 1.E.1\\nthrough 1.E.7 or obtain permission for the use of the work and the\\nProject Gutenberg-tm trademark as set forth in paragraphs 1.E.8 or\\n1.E.9.\\n\\n1.E.3.  If an individual Project Gutenberg-tm electronic work is posted\\nwith the permission of the copyright holder, your use and distribution\\nmust comply with both paragraphs 1.E.1 through 1.E.7 and any additional\\nterms imposed by the copyright holder.  Additional terms will be linked\\nto the Project Gutenberg-tm License for all works posted with the\\npermission of the copyright holder found at the beginning of this work.\\n\\n1.E.4.  Do not unlink or detach or remove the full Project Gutenberg-tm\\nLicense terms from this work, or any files containing a part of this\\nwork or any other work associated with Project Gutenberg-tm.\\n\\n1.E.5.  Do not copy, display, perform, distribute or redistribute this\\nelectronic work, or any part of this electronic work, without\\nprominently displaying the sentence set forth in paragraph 1.E.1 with\\nactive links or immediate access to the full terms of the Project\\nGutenberg-tm License.\\n\\n1.E.6.  You may convert to and distribute this work in any binary,\\ncompressed, marked up, nonproprietary or proprietary form, including any\\nword processing or hypertext form.  However, if you provide access to or\\ndistribute copies of a Project Gutenberg-tm work in a format other than\\n\"Plain Vanilla ASCII\" or other format used in the official version\\nposted on the official Project Gutenberg-tm web site (www.gutenberg.org),\\nyou must, at no additional cost, fee or expense to the user, provide a\\ncopy, a means of exporting a copy, or a means of obtaining a copy upon\\nrequest, of the work in its original \"Plain Vanilla ASCII\" or other\\nform.  Any alternate format must include the full Project Gutenberg-tm\\nLicense as specified in paragraph 1.E.1.\\n\\n1.E.7.  Do not charge a fee for access to, viewing, displaying,\\nperforming, copying or distributing any Project Gutenberg-tm works\\nunless you comply with paragraph 1.E.8 or 1.E.9.\\n\\n1.E.8.  You may charge a reasonable fee for copies of or providing\\naccess to or distributing Project Gutenberg-tm electronic works provided\\nthat\\n\\n- You pay a royalty fee of 20% of the gross profits you derive from\\n     the use of Project Gutenberg-tm works calculated using the method\\n     you already use to calculate your applicable taxes.  The fee is\\n     owed to the owner of the Project Gutenberg-tm trademark, but he\\n     has agreed to donate royalties under this paragraph to the\\n     Project Gutenberg Literary Archive Foundation.  Royalty payments\\n     must be paid within 60 days following each date on which you\\n     prepare (or are legally required to prepare) your periodic tax\\n     returns.  Royalty payments should be clearly marked as such and\\n     sent to the Project Gutenberg Literary Archive Foundation at the\\n     address specified in Section 4, \"Information about donations to\\n     the Project Gutenberg Literary Archive Foundation.\"\\n\\n- You provide a full refund of any money paid by a user who notifies\\n     you in writing (or by e-mail) within 30 days of receipt that s/he\\n     does not agree to the terms of the full Project Gutenberg-tm\\n     License.  You must require such a user to return or\\n     destroy all copies of the works possessed in a physical medium\\n     and discontinue all use of and all access to other copies of\\n     Project Gutenberg-tm works.\\n\\n- You provide, in accordance with paragraph 1.F.3, a full refund of any\\n     money paid for a work or a replacement copy, if a defect in the\\n     electronic work is discovered and reported to you within 90 days\\n     of receipt of the work.\\n\\n- You comply with all other terms of this agreement for free\\n     distribution of Project Gutenberg-tm works.\\n\\n1.E.9.  If you wish to charge a fee or distribute a Project Gutenberg-tm\\nelectronic work or group of works on different terms than are set\\nforth in this agreement, you must obtain permission in writing from\\nboth the Project Gutenberg Literary Archive Foundation and Michael\\nHart, the owner of the Project Gutenberg-tm trademark.  Contact the\\nFoundation as set forth in Section 3 below.\\n\\n1.F.\\n\\n1.F.1.  Project Gutenberg volunteers and employees expend considerable\\neffort to identify, do copyright research on, transcribe and proofread\\npublic domain works in creating the Project Gutenberg-tm\\ncollection.  Despite these efforts, Project Gutenberg-tm electronic\\nworks, and the medium on which they may be stored, may contain\\n\"Defects,\" such as, but not limited to, incomplete, inaccurate or\\ncorrupt data, transcription errors, a copyright or other intellectual\\nproperty infringement, a defective or damaged disk or other medium, a\\ncomputer virus, or computer codes that damage or cannot be read by\\nyour equipment.\\n\\n1.F.2.  LIMITED WARRANTY, DISCLAIMER OF DAMAGES - Except for the \"Right\\nof Replacement or Refund\" described in paragraph 1.F.3, the Project\\nGutenberg Literary Archive Foundation, the owner of the Project\\nGutenberg-tm trademark, and any other party distributing a Project\\nGutenberg-tm electronic work under this agreement, disclaim all\\nliability to you for damages, costs and expenses, including legal\\nfees.  YOU AGREE THAT YOU HAVE NO REMEDIES FOR NEGLIGENCE, STRICT\\nLIABILITY, BREACH OF WARRANTY OR BREACH OF CONTRACT EXCEPT THOSE\\nPROVIDED IN PARAGRAPH F3.  YOU AGREE THAT THE FOUNDATION, THE\\nTRADEMARK OWNER, AND ANY DISTRIBUTOR UNDER THIS AGREEMENT WILL NOT BE\\nLIABLE TO YOU FOR ACTUAL, DIRECT, INDIRECT, CONSEQUENTIAL, PUNITIVE OR\\nINCIDENTAL DAMAGES EVEN IF YOU GIVE NOTICE OF THE POSSIBILITY OF SUCH\\nDAMAGE.\\n\\n1.F.3.  LIMITED RIGHT OF REPLACEMENT OR REFUND - If you discover a\\ndefect in this electronic work within 90 days of receiving it, you can\\nreceive a refund of the money (if any) you paid for it by sending a\\nwritten explanation to the person you received the work from.  If you\\nreceived the work on a physical medium, you must return the medium with\\nyour written explanation.  The person or entity that provided you with\\nthe defective work may elect to provide a replacement copy in lieu of a\\nrefund.  If you received the work electronically, the person or entity\\nproviding it to you may choose to give you a second opportunity to\\nreceive the work electronically in lieu of a refund.  If the second copy\\nis also defective, you may demand a refund in writing without further\\nopportunities to fix the problem.\\n\\n1.F.4.  Except for the limited right of replacement or refund set forth\\nin paragraph 1.F.3, this work is provided to you \\'AS-IS\\' WITH NO OTHER\\nWARRANTIES OF ANY KIND, EXPRESS OR IMPLIED, INCLUDING BUT NOT LIMITED TO\\nWARRANTIES OF MERCHANTIBILITY OR FITNESS FOR ANY PURPOSE.\\n\\n1.F.5.  Some states do not allow disclaimers of certain implied\\nwarranties or the exclusion or limitation of certain types of damages.\\nIf any disclaimer or limitation set forth in this agreement violates the\\nlaw of the state applicable to this agreement, the agreement shall be\\ninterpreted to make the maximum disclaimer or limitation permitted by\\nthe applicable state law.  The invalidity or unenforceability of any\\nprovision of this agreement shall not void the remaining provisions.\\n\\n1.F.6.  INDEMNITY - You agree to indemnify and hold the Foundation, the\\ntrademark owner, any agent or employee of the Foundation, anyone\\nproviding copies of Project Gutenberg-tm electronic works in accordance\\nwith this agreement, and any volunteers associated with the production,\\npromotion and distribution of Project Gutenberg-tm electronic works,\\nharmless from all liability, costs and expenses, including legal fees,\\nthat arise directly or indirectly from any of the following which you do\\nor cause to occur: (a) distribution of this or any Project Gutenberg-tm\\nwork, (b) alteration, modification, or additions or deletions to any\\nProject Gutenberg-tm work, and (c) any Defect you cause.\\n\\n\\nSection  2.  Information about the Mission of Project Gutenberg-tm\\n\\nProject Gutenberg-tm is synonymous with the free distribution of\\nelectronic works in formats readable by the widest variety of computers\\nincluding obsolete, old, middle-aged and new computers.  It exists\\nbecause of the efforts of hundreds of volunteers and donations from\\npeople in all walks of life.\\n\\nVolunteers and financial support to provide volunteers with the\\nassistance they need, is critical to reaching Project Gutenberg-tm\\'s\\ngoals and ensuring that the Project Gutenberg-tm collection will\\nremain freely available for generations to come.  In 2001, the Project\\nGutenberg Literary Archive Foundation was created to provide a secure\\nand permanent future for Project Gutenberg-tm and future generations.\\nTo learn more about the Project Gutenberg Literary Archive Foundation\\nand how your efforts and donations can help, see Sections 3 and 4\\nand the Foundation web page at http://www.pglaf.org.\\n\\n\\nSection 3.  Information about the Project Gutenberg Literary Archive\\nFoundation\\n\\nThe Project Gutenberg Literary Archive Foundation is a non profit\\n501(c)(3) educational corporation organized under the laws of the\\nstate of Mississippi and granted tax exempt status by the Internal\\nRevenue Service.  The Foundation\\'s EIN or federal tax identification\\nnumber is 64-6221541.  Its 501(c)(3) letter is posted at\\nhttp://pglaf.org/fundraising.  Contributions to the Project Gutenberg\\nLiterary Archive Foundation are tax deductible to the full extent\\npermitted by U.S. federal laws and your state\\'s laws.\\n\\nThe Foundation\\'s principal office is located at 4557 Melan Dr. S.\\nFairbanks, AK, 99712., but its volunteers and employees are scattered\\nthroughout numerous locations.  Its business office is located at\\n809 North 1500 West, Salt Lake City, UT 84116, (801) 596-1887, email\\nbusiness@pglaf.org.  Email contact links and up to date contact\\ninformation can be found at the Foundation\\'s web site and official\\npage at http://pglaf.org\\n\\nFor additional contact information:\\n     Dr. Gregory B. Newby\\n     Chief Executive and Director\\n     gbnewby@pglaf.org\\n\\n\\nSection 4.  Information about Donations to the Project Gutenberg\\nLiterary Archive Foundation\\n\\nProject Gutenberg-tm depends upon and cannot survive without wide\\nspread public support and donations to carry out its mission of\\nincreasing the number of public domain and licensed works that can be\\nfreely distributed in machine readable form accessible by the widest\\narray of equipment including outdated equipment.  Many small donations\\n($1 to $5,000) are particularly important to maintaining tax exempt\\nstatus with the IRS.\\n\\nThe Foundation is committed to complying with the laws regulating\\ncharities and charitable donations in all 50 states of the United\\nStates.  Compliance requirements are not uniform and it takes a\\nconsiderable effort, much paperwork and many fees to meet and keep up\\nwith these requirements.  We do not solicit donations in locations\\nwhere we have not received written confirmation of compliance.  To\\nSEND DONATIONS or determine the status of compliance for any\\nparticular state visit http://pglaf.org\\n\\nWhile we cannot and do not solicit contributions from states where we\\nhave not met the solicitation requirements, we know of no prohibition\\nagainst accepting unsolicited donations from donors in such states who\\napproach us with offers to donate.\\n\\nInternational donations are gratefully accepted, but we cannot make\\nany statements concerning tax treatment of donations received from\\noutside the United States.  U.S. laws alone swamp our small staff.\\n\\nPlease check the Project Gutenberg Web pages for current donation\\nmethods and addresses.  Donations are accepted in a number of other\\nways including checks, online payments and credit card donations.\\nTo donate, please visit: http://pglaf.org/donate\\n\\n\\nSection 5.  General Information About Project Gutenberg-tm electronic\\nworks.\\n\\nProfessor Michael S. Hart is the originator of the Project Gutenberg-tm\\nconcept of a library of electronic works that could be freely shared\\nwith anyone.  For thirty years, he produced and distributed Project\\nGutenberg-tm eBooks with only a loose network of volunteer support.\\n\\n\\nProject Gutenberg-tm eBooks are often created from several printed\\neditions, all of which are confirmed as Public Domain in the U.S.\\nunless a copyright notice is included.  Thus, we do not necessarily\\nkeep eBooks in compliance with any particular paper edition.\\n\\n\\nMost people start at our Web site which has the main PG search facility:\\n\\n     http://www.gutenberg.org\\n\\nThis Web site includes information about Project Gutenberg-tm,\\nincluding how to make donations to the Project Gutenberg Literary\\nArchive Foundation, how to help produce our new eBooks, and how to\\nsubscribe to our email newsletter to hear about new eBooks.\\n'"
     },
     "metadata": {},
     "execution_count": 17
    }
   ],
   "source": [
    "# Notice that our dictionary is currently in key: book title, value: list of text format\n",
    "next(iter(books.values()))"
   ]
  },
  {
   "cell_type": "code",
   "execution_count": 28,
   "metadata": {},
   "outputs": [],
   "source": [
    "# We are going to change this to key: book title, value: string format\n",
    "def combine_text(list_of_text):\n",
    "    '''Takes a list of text and combines them into one large chunk of text.'''\n",
    "    combined_text = ''.join(list_of_text)\n",
    "    return combined_text"
   ]
  },
  {
   "cell_type": "code",
   "execution_count": 29,
   "metadata": {},
   "outputs": [],
   "source": [
    "# Combine it!\n",
    "books_combined = {key: [combine_text(value)] for (key, value) in books.items()}"
   ]
  },
  {
   "cell_type": "code",
   "execution_count": 30,
   "metadata": {},
   "outputs": [
    {
     "output_type": "execute_result",
     "data": {
      "text/plain": "                                                                                                                                                                              book_text\nAlice's Adventures in Wonderland  Project Gutenberg's Alice's Adventures in Wonderland, by Lewis Carroll\\n\\nThis eBook is for the use of anyone anywhere at no cost and with\\nalmost...\nParadise Lost                     The Project Gutenberg EBook of Paradise Lost, by John Milton\\n\\nThis eBook is for the use of anyone anywhere at no cost and with\\nalmost no restri...\nPeter Pan                         The Project Gutenberg EBook of Peter Pan, by James M. Barrie\\n\\nThis eBook is for the use of anyone anywhere at no cost and with\\nalmost no restri...\nQ and the Magic of Grammar        Q\\n\\nand\\n\\nthe Magic of Grammar\\n\\n\\n\\nBy Amal Fabian\\n\\n\\n\\n\\n\\n\\n\\n\\n\\n\\n\\n\\n\\n\\n\\n\\n\\n\\n\\nQ and the Magic of Grammar\\n\\n\\n\\nCopyright ©Amal Fa...\nThe 1990 CIA World Factbook       The Project Gutenberg EBook of The 1990 CIA World Factbook, by \\nUnited States.  Central Intelligence Agency\\n\\nThis eBook is for the use of anyon...\nThe Book Of Mormon                The Project Gutenberg EBook of The Book Of Mormon, by Anonymous\\n\\nThis eBook is for the use of anyone anywhere at no cost and with\\nalmost no res...\nThe Federalist Papers             The Project Gutenberg EBook of The Federalist Papers, by \\nAlexander Hamilton and John Jay and James Madison\\n\\nThis eBook is for the use of anyon...\nThe Hunting of the Snark          The Project Gutenberg EBook of The Hunting of the Snark, by Lewis Carroll\\n\\nThis eBook is for the use of anyone anywhere at no cost and with\\nalm...\nThe King James Bible              The Project Gutenberg EBook of The King James Bible\\n\\n\\n**********************************************************************\\nEBOOK (#10) WAS O...\nThe Song Of Hiawatha              The Project Gutenberg EBook of The Song Of Hiawatha, by Henry W. Longfellow\\n\\nThis eBook is for the use of anyone anywhere at no cost and with\\na...\nThrough the Looking-Glass         The Project Gutenberg EBook of Through the Looking-Glass, by\\nCharles Dodgson                         AKA Lewis Carroll\\n\\nThis eBook is for the u...",
      "text/html": "<div>\n<style scoped>\n    .dataframe tbody tr th:only-of-type {\n        vertical-align: middle;\n    }\n\n    .dataframe tbody tr th {\n        vertical-align: top;\n    }\n\n    .dataframe thead th {\n        text-align: right;\n    }\n</style>\n<table border=\"1\" class=\"dataframe\">\n  <thead>\n    <tr style=\"text-align: right;\">\n      <th></th>\n      <th>book_text</th>\n    </tr>\n  </thead>\n  <tbody>\n    <tr>\n      <th>Alice's Adventures in Wonderland</th>\n      <td>Project Gutenberg's Alice's Adventures in Wonderland, by Lewis Carroll\\n\\nThis eBook is for the use of anyone anywhere at no cost and with\\nalmost...</td>\n    </tr>\n    <tr>\n      <th>Paradise Lost</th>\n      <td>The Project Gutenberg EBook of Paradise Lost, by John Milton\\n\\nThis eBook is for the use of anyone anywhere at no cost and with\\nalmost no restri...</td>\n    </tr>\n    <tr>\n      <th>Peter Pan</th>\n      <td>The Project Gutenberg EBook of Peter Pan, by James M. Barrie\\n\\nThis eBook is for the use of anyone anywhere at no cost and with\\nalmost no restri...</td>\n    </tr>\n    <tr>\n      <th>Q and the Magic of Grammar</th>\n      <td>Q\\n\\nand\\n\\nthe Magic of Grammar\\n\\n\\n\\nBy Amal Fabian\\n\\n\\n\\n\\n\\n\\n\\n\\n\\n\\n\\n\\n\\n\\n\\n\\n\\n\\n\\nQ and the Magic of Grammar\\n\\n\\n\\nCopyright ©Amal Fa...</td>\n    </tr>\n    <tr>\n      <th>The 1990 CIA World Factbook</th>\n      <td>The Project Gutenberg EBook of The 1990 CIA World Factbook, by \\nUnited States.  Central Intelligence Agency\\n\\nThis eBook is for the use of anyon...</td>\n    </tr>\n    <tr>\n      <th>The Book Of Mormon</th>\n      <td>The Project Gutenberg EBook of The Book Of Mormon, by Anonymous\\n\\nThis eBook is for the use of anyone anywhere at no cost and with\\nalmost no res...</td>\n    </tr>\n    <tr>\n      <th>The Federalist Papers</th>\n      <td>The Project Gutenberg EBook of The Federalist Papers, by \\nAlexander Hamilton and John Jay and James Madison\\n\\nThis eBook is for the use of anyon...</td>\n    </tr>\n    <tr>\n      <th>The Hunting of the Snark</th>\n      <td>The Project Gutenberg EBook of The Hunting of the Snark, by Lewis Carroll\\n\\nThis eBook is for the use of anyone anywhere at no cost and with\\nalm...</td>\n    </tr>\n    <tr>\n      <th>The King James Bible</th>\n      <td>The Project Gutenberg EBook of The King James Bible\\n\\n\\n**********************************************************************\\nEBOOK (#10) WAS O...</td>\n    </tr>\n    <tr>\n      <th>The Song Of Hiawatha</th>\n      <td>The Project Gutenberg EBook of The Song Of Hiawatha, by Henry W. Longfellow\\n\\nThis eBook is for the use of anyone anywhere at no cost and with\\na...</td>\n    </tr>\n    <tr>\n      <th>Through the Looking-Glass</th>\n      <td>The Project Gutenberg EBook of Through the Looking-Glass, by\\nCharles Dodgson                         AKA Lewis Carroll\\n\\nThis eBook is for the u...</td>\n    </tr>\n  </tbody>\n</table>\n</div>"
     },
     "metadata": {},
     "execution_count": 30
    }
   ],
   "source": [
    "# We can either keep it in dictionary format or put it into a pandas dataframe\n",
    "import pandas as pd\n",
    "pd.set_option('max_colwidth',150)\n",
    "\n",
    "books_df = pd.DataFrame.from_dict(books_combined).transpose()\n",
    "books_df.columns = ['book_text']\n",
    "books_df = books_df.sort_index()\n",
    "books_df"
   ]
  },
  {
   "cell_type": "code",
   "execution_count": 31,
   "metadata": {},
   "outputs": [
    {
     "output_type": "execute_result",
     "data": {
      "text/plain": " spell-checker owls perched on a branch of an oak tree. In the tree, there was a hole. And in the hole, there was a scroll.   \\n\\n\\t“I want to get this over and done with. Don’t look so worried. Soon you will be with your precious flower. Q of Alphabet village… Are you ready for the first question?” asked K. \\n\\n\\t“Yes.”     \\n\\n\\tThe three spell-checker owls nodded at each other. Clutching the edge of the scroll in its beak, an owl pulled the scroll out of the tree. The owl flew to the other side of the river, and it let go of the scroll when it was above K’s eager hands.  \\n\\n\\t“The thirteen questions... These were prepared by a committee of spell-checker owls. I had nothing to do with it. Nothing at all,” said K.\\n\\n\\tHe broke the red seal and unfurled the scroll. \\n\\n\\t“The first question is about the zero article. Is this correct? We believe in peace.” \\n\\n\\tThe word-pecker hovered above K. In its beak was the special grammatica flower. The bird bit hard into the flower’s stem.\\n\\n\\tQ cried out, “No!” \\n\\n\\t“This is going to be easier than I thought,” said K to himself.  \\n\\n\\t“I didn’t mean that the sentence was wrong. It is correct. We use the zero article before the abstract noun peace because we are talking about peace in general.”\\n\\n\\tK scratched his chin.\\n\\n\\t“Too late… Your first answer is always the final answer. The spell-checker owls have already recorded it.”\\n\\n\\t“Tell Woo to stop hurting the flower,” said Q. \\n\\n\\t“As you wish. Woo, leave the flower alone.”\\n\\n\\tWoo dropped it over a bed of black grammatica flowers. With great effort, these flowers opened their petals to cushion the fall of the flower.  \\n\\n\\t“May we carry on?” asked K.  \\n\\n\\t“Yes.” \\n\\n\\t“For the first question, you gave me an incorrect answer.” \\n\\n\\t“I didn’t even answer it.”\\n\\n\\t“Question number two... What is the difference between the past simple and the past perfect?” \\n\\n\\t“I... I don’t know.” \\n\\n\\t“Ha ha... I knew you know nothing of grammar. Go back to school.”\\n\\n\\t“Please, free the Grammar Wizard… What has she done to you?” \\n\\n\\t“Wrong answer!”\\n\\n\\t“Answer the next question for me,” said the flower to Q. \\n\\n\\t“What is the difference between these two sentences? I will rule the Grammar Dimension. I am going to rule the Grammar Dimension.”  \\n\\n\\t“In the first sentence, you are deciding right now that you want to rule the dimension. In the second sentence, you have already decided in the past that you want to rule the dimension, and you are telling me about it right now.”\\n\\n\\tThe three spell-checker owls hooted: “Hoo! Hoo!”\\n\\n\\t“Hmm… Your answer is correct. Next question... Is this correct? Before midnight, I will become the Grammar Wizard.” \\n\\n\\t“It’s wrong. It should be in the form of the future perfect tense. Before midnight, I will have become the Grammar Wizard.”  \\n\\n\\t“Are you sure?” asked K. \\n\\n\\t“Yes.”\\n\\n\\t“Hoo! Hoo!”\\n\\n\\t“Correct again… I have been to the Word Fields yesterday morning. Is it correct?”\\n\\n\\t“It’s wrong. We can’t use finished time, yesterday morning, with the present perfect. Whenever we use the present perfect, it has to be unfinished time.”\\n\\n\\t“Hoo! Hoo!”\\n\\n\\tQ felt the effects of Grammar Potion Number 9. He was also encouraged by the spell-checker owls hooting.   \\n\\n\\t“I hate waiting. Is the word waiting a gerund or a present participle?”\\n\\n\\t“In that sentence, the word waiting acts like a noun. It’s a gerund.” \\n\\n\\t“Hoo! Hoo!”\\n\\n\\tK was getting worried. What is happening? When I met Q in the Grand Library, he was not even sure about how to use the present simple tense. Let me see if he can answer the next question.   \\n\\n\\t“Identify this type of sentence. You have learnt a lot of grammar, but it is my destiny to become the Grammar Wizard.” \\n\\n\\t“Both the clauses are independent clauses, and they are joined by a co-ordinating conjunction. It has to be a compound sentence.”\\n\\n\\t“Hoo! Hoo!”\\n\\n\\t“Woo! You said Q does not know any grammar. How is he answering all these questions?” said K.\\n\\n\\t“Maybe the grammatica flower are helping him.” \\n\\n\\tK glared at the blue flower which was on the grass.\\n\\n\\t“Of course. That must be it. M must have been telling him the answers. Throw the flower into the river. At once!”\\n\\n\\tAfter snatching the flower from the ground, Woo flung it into the fast-flowing ink. \\n\\n\\t“Listen to me very carefully. I know the flower is your wife. If you answer one more question incorrectly, I will tell Woo to bring her back,” said K, “Decide now. It is important you tell me right now. Look at the river. See how fast the ink flows. Once she is in the Ocean of Ink, it will be too late. She will be lost, forever.”\\n\\n\\tQ saw the blue flower in the red ink. The river’s strong current pressed the flower against a stone. Then the flower was swept away, moving fast – away from Q. \\n\\n\\tHe hoped his friends would arrive in time to save N.\\n\\n\\t“Ask your question.”  \\n\\n\\t“Identify which conditional this is in. If you were me, you would want the Lamp of Grammar.”\\n\\n\\t“It’s in the second conditional. And, I would never want to be you.”  \\n\\n\\t“Hoo! Hoo!”\\n\\n\\t“Why are you being so unreasonable? All you have to do is answer one question incorrectly, and Woo will rescue your wife.” \\n\\n\\t“The next question.” \\n\\n\\t“Is the use of punctuation correct? Invisible ink is as important as words on a page semicolon because the invisible ink keeps the words in place.” \\n\\n\\t“It’s wrong. A semicolon links two independent clauses. In your sentence, the second clause is a dependant clause.” \\n\\n\\t“Hoo! Hoo!”\\n\\n\\t“If I had studied harder at grammar school, I could have become the Grammar Wizard years ago. Identify which conditional it is in.”  \\n\\n\\t“The third conditional.” \\n\\n\\t“Hoo! Hoo!” \\n\\n\\tK glanced at the spell-checker owls. They were keeping score of all the correct and incorrect answers. He knew that he could not influence them. Spell-checkers owls were always honest birds. \\n\\n\\tLeaning into Q, K whispered, “When I become the Grammar Wizard, I can give you whatever you want. Books. Power. Do you want to be the Grand Librarian? Just tell me what you want!”\\n\\n\\tQ did not say a word. K’s lip curled as he read the next question. \\n\\n\\t“Identify the type of dependent clause in this sentence. I am the man that will change the Grammar Dimension forever.”\\n\\n\\t“It contains a relative clause: that will change the Grammar Dimension forever.” \\n\\n\\t“Hoo! Hoo!”\\n\\n\\t“Is this correct? The quality of the quill pens are excellent.”\\n\\n\\t“The quality of the quill pens is excellent. The subject of the sentence is quality. The noun pens is part of the prepositional phrase.” \\n\\n\\t“Hoo! Hoo!”\\n\\n\\tK thrust his hand into his robe. He brought out a salt shaker and placed it on the ground.\\n\\n\\t“Do you see this? It is filled with anti-grammatical sand. If you correctly answer the next question, I shall tell Woo to sprinkle ALL this anti-grammatical sand ALL over your precious grammatica flowers. They are going to die. DIE! And when the flowers die, the Garden of Grammar will be no more. And Q, it is going to be ALL your fault.”\\n\\n\\t“Ask the last question.”\\n\\n\\tK held the scroll up to read the thirteenth question. A smile spread across his thin face. Even if Q wants to answer this question, he will not be able to. How could someone like him, who has no real understanding of grammar, answer such a profound question? I am certain Wow and P have not prepared him for this kind of question. After all these years of unhappiness, the Lamp of Grammar is mine. Finally.  \\n\\n\\tHe lowered the scroll. His eyes sparkled. With a smirk on his face, he asked the last question. \\n\\n\\t“What is grammar?”\\n\\n\\tThe three owls on the other side of the river strained their ears. They did not want to miss a single syllable. The owl in the middle covered its eyes with its wings.   \\n\\n\\tQ’s shoulders drooped when he heard the last question. He did not have an answer for it. He did not have a clue. He glanced at the delicate flowers around him. If K throws anti-grammatical sand on them, they will surely die. If they die, the Garden of Grammar will be destroyed. The Grammar Dimension will fall back into chaos. All because of me...\\n\\n\\tHe was about to tell K that he did not know the answer. He was about to beg him to free the Grammar Wizard. He was about to plead with him not to use anti-grammatical sand. \\n\\n\\tA flash of light came from the grass. Q squinted at a bunch of green grammatica flowers. His eyes were filled with joy. Wow’s golden spectacles were reflecting sunlight. Q’s friends had finally arrived!\\n\\n\\tClosing his eyes, Q thought about the question. What is grammar? He remembered what Woz told him at the Memory Store: when all else fails, memory can save you. And so, Q recalled all that he had seen and done during his travels across the dimension. He could taste the apple from the Circle of Magic Trees. He recollected the eight parts of speech. He heard the deafening sound of thunder over the Articles Station, and he recollected how some words go with ‘a’ and how some other words go with ‘an’. He saw Woz’s bald head reflecting candlelight in the Memory Store, and he thought about the past continuous tense. Swimming in the cold, salty ink of the Sea of Wishes... Sliding into the Third Conditional Zone... Meeting the Uncountables... Ha telling him about the future time... At the Memory Store, in his grammar dream, even in the Conditional Zones... The words always followed a pattern. There was a structure... He thought about the word-peckers in the Word Fields, and what Wow told him about clauses and phrases. Again, there was always a reason why each word was in its place in a sentence.  \\n\\n\\tK’s eyelids were half closed, as he waited patiently for an incorrect answer. His hands formed a pyramid, with his fingertips lightly pressing against each other. He was already behaving as if he were the Grammar Wizard. \\n\\n\\t“Grammar shows the relationship between words.”   \\n\\n\\t“Hoo! Hoo! Hoo! Hoo!”\\n\\n\\t“How could you know that? When I met you, you knew nothing of grammar.”\\n\\n\\tK clenched his teeth. He glanced at the salt shaker near his feet. \\n\\n\\t“Woo… Sprinkle this sand over the flowers. If I cannot have the lamp, then no one else can!”     \\n\\n\\tClutching the salt shaker, the word-pecker flapped about. It swooped down over a bed of terrified grammatica flowers. \\n\\n\\t“Ha, ha, ha,” K laughed out loud.\\n\\n\\tJust as Woo was about to tilt the small holes of the salt shaker downwards, a hairy hand grabbed its beak. Another hairy hand grabbed the salt shaker. \\n\\n\\t“Did someone call me?” asked Ha. \\n\\n\\t“Where did you come from? Bah… I should’ve covered you in sand,” said K.\\n\\n\\tTurning around, the Grand Librarian dashed towards the cottage. He still had some anti-grammatical sand with him. He could use it to hold the Grammar Wizard hostage. While he was running, he took out his pair of gloves. He managed to put one on, but the other one fell to the ground. He did not stop to pick it up. \\n\\n\\tK kicked the door open. The rope lay in a bundle on the chair. The Grammar Wizard, with her arms crossed, stood behind the chair. \\n\\n\\t“P, arrest the Grand Librarian of Biblios.” \\n\\n\\tP picked up the rope.\\n\\n\\t“K, it’s over.”\\n\\n\\tWith his gloved hand, the Grand Librarian took out some sand from his pouch. Spellbound by the silvery sand, P dropped the rope.\\n\\n\\t“Why are you doing this?” asked the Grammar Wizard. \\n\\n\\t“The Grammar Council just talks and talks and talks. Someone needs to take charge and make decisions on the future of grammar.” \\n\\n\\tK raised his arm to hurl the sand at them. \\n\\n\\t“Once this is over, you’ll understand why I had to do this.” \\n\\n\\tK swung his forearm forward. P jumped in front of the Grammar Wizard. \\n\\n\\t“There is no place for your sand in my garden,” said Ha, who was in the doorway.                                                      \\n\\n\\tLeaping up, Ha grabbed K’s raised wrist. K pushed Ha back. When K did so, some sand fell onto his forehead. K’s eyes widened in horror. He tried desperately to remove the sand from his face. He crumpled to the floor.  \\n\\n\\tHa, the guardian of the Garden of Grammar, did not move. There was still some anti-grammatical sand in K’s hand. And there was more sand in K’s pouch, which was now on the floor. Ha rushed outside and returned wearing K’s other glove. He took the sand from K’s hand and put it in the pouch. He tied the pouch. Everyone sighed in relief.\\n\\n\\t“What should we do with all this anti-grammatical sand?” asked Ha. \\n\\n\\t“There is a spell to reverse it. It is in The Grammar of Spells,” said the Grammar Wizard.\\n\\n\\t“Wow knows where the book is,” said P. \\n\\n\\t“Will K lose his knowledge of grammar?” asked the Grammar Wizard.\\n\\n\\t“Not at all... Just a few grains of sand touched him,” said Ha. \\n\\n\\t“I would like to have a chat with him after he wakes up,” said the Grammar Wizard. \\n\\n\\tIn the garden, Q was on his hands and knees.  \\n\\n\\t“Wow, where are you?”\\n\\n\\t“I’m right here on your shoulder. I just spoke with the spell-checker owls. They said you answered the questions brilliantly. As for K’s last question, I crossed all my legs. And I fell down!” \\n\\n\\t“My wife, N… The grammatica flower… She’s in the river.” \\n\\n\\t“Let’s hurry.” \\n\\n\\tThe balloon flew over the restless river. When he looked at the horizon, Q saw a cliff. From this cliff, the River of Red Ink plunged into the ocean. The roar of the red ink crashing into the ocean sent shivers down his spine. \\n\\n\\tThe balloon landed with a thud. He tumbled out of the basket. His eyes searched the raging ink. There was no sign of a flower.   \\n\\n\\tAt the edge of the cliff, there were three people. They were gazing at the Ocean of Ink. In this part of the ocean, all the ink was red. The sun lit up thin red clouds which were on the horizon. \\n\\n\\tThe three people were talking with one another. Q recognised them.   \\n\\n\\tRunning towards them, he shouted, “I did it! I did it!”\\n\\n\\tA lady with a pencil in her hair turned around. It was Maz. The other two people turned around as well. They were Woz and the Leader of the Uncountables. Everyone had dark circles under their eyes.  \\n\\n\\tTears of joy streamed down their cheeks. The Leader of the Uncountables always had three grey silk handkerchiefs. He gave one to Woz and one to Maz. \\n\\n\\tQ was out of breath when he reached them.\\n\\n\\t“We were standing here, not knowing what to do. We are so proud of you,” said Maz.\\n\\n\\tQ said, “Oh Woz… Thank you for telling me about the importance of memory. Your words saved me.”\\n\\n\\t“Well, I’m overjoyed that you umm... remembered!” said Woz.   \\n\\n\\t“I could never have done this without all of you. You believed in me, even when…” said Q. \\n\\n\\t“Stay with us and watch the sunset,” said the Leader of the Uncountables.   \\n\\n\\tQ wiped the tears from his cheeks. \\n\\n\\t“I’m searching for a flower. I…I fear it is already in the ocean. I don’t know…”  \\n\\n\\t“A grammatica flower called out to me. I do not know how, or why, but it did,” said Maz. \\n\\n\\t“We managed to catch it before it fell into the ocean,” said Woz.\\n\\n\\tMaz was holding a basket. In it was a blue flower. \\n\\n\\t“It is my wife,” said Q.\\n\\n\\t“The flower is in pain. The Grammar Wizard will know what to do,” said the Leader of the Uncountables, “Leave immediately.”\\n\\n\\tQ and Wow left with the flower. Maz, Woz, and the Leader of the Uncountables waved at the balloon as it rose into the air. \\n\\n\\tWoz said, “After you finish crying, give me your handkerchiefs. I never want to forget this moment.” \\n\\n\\t“Oh Woz,” said Maz, “You and your memory jars.”      \\n\\n\\tThe balloon landed near the cottage. The door was wide open. The Grammar Wizard was sitting on her rocking chair. P and Ha were on the orange sofa. Ha held Woo, the word-pecker, tightly. Woo looked glum.  \\n\\n\\tQ, with trembling hands, kneeled before the Grammar Wizard.\\n\\n\\t“Please, please help me! N is a grammatica flower.”\\n\\n\\t“Place the flower on the carpet.” \\n\\n\\tThe Grammar Wizard chanted a spell: \\n\\n\\tIn the name of all grammatical creatures, and the Garden of Grammar;\\n\\n\\tIn the name of all the four rivers of visible ink, and the Dimension Mountain Range;\\n\\n\\tIn the name of all the eight parts of speech, and the Circle of Magic Trees; \\n\\n\\tIn the name of the Second Conditional, and all things unreal; \\n\\n\\tRestore this person to her original form!\\n\\n\\tPoof! N was before them. She smiled weakly, but her legs had no strength. Q caught her as she fell. He sprinkled some cold black ink on her face. \\n\\n\\tN mumbled, “Foo… Foo… Food.” \\n\\n\\tThe Grammar Wizard went into the kitchen and heated a pan. She fried two commas in it. She flipped the commas in the pan. The commas were cooked in a minute. After eating the commas and drinking a mixture of warm green and black ink, N felt much better.\\n\\n\\tQ told them how he had answered the thirteenth question. P said he was so happy that he had taken Q to all the four corners of the dimension. They were all relieved that everything ended well.\\n\\n\\tThe Grammar Wizard went to the bookshelf to take the lamp. She lit it and placed it on the round table. The soft light from the lamp lit her kind, intelligent face. It was the first time Q noticed the Lamp of Grammar. \\n\\n\\t“I have something to say. I am planning to retire,” said the Grammar Wizard.  \\n\\n\\t“Why?” Ha asked. \\n\\n\\t“I want to spend more time with my husband,” she replied. \\n\\n\\tAfter removing her spectacles, she folded them and placed them beside the lamp. Grinning at P, she carefully removed her wig. P wondered what the Grammar Wizard was doing. She peeled off the dot on her chin.  \\n\\n\\t“Now, do you recognise me?” \\n\\n\\t“How is this… possible?” said P.\\n\\n\\t“You men are so easy to fool,” said X, the Grammar Wizard, with a wink.\\n\\n\\t“Your eyebrows…  just like X… I mean… You are the…” \\n\\n\\tP had served the Grammar Wizard for two decades. He needed some time to get over this shock. \\n\\n\\t“As I was saying,” said the Grammar Wizard, “I am planning to retire soon. I have spoken with the magic trees. They are preparing questions for a competition which is open to all. The winner will be presented with this lamp. And she or he will be the next Grammar Wizard.” \\n\\n\\t“How can I enrol in the test? Ah... Before that, I need to go to the Third Conditional Zone to get some more Grammar Potion Number 9,” said Q.\\n\\n\\t“Your grammar potion has no magic in it whatsoever. It’s pomegranate juice,” said the Grammar Wizard. \\n\\n\\t“But I saw the secret ingredient,” said Q. \\n\\n\\t“The secret ingredient is a mixture of cinnamon and sugar,” said N. \\n\\n\\t“And what about those green ice cubes which floated in the air?” asked Q. \\n\\n\\t“There must have been invisible ink in the bowl,” replied P, with a shrug. \\n\\n\\tEveryone, except Q, laughed.\\n\\n\\t“How could you not tell me? Well, come to think of it, it was probably better I didn’t know the truth. Anyways, I still want to be the next Grammar Wizard,” said Q.\\n\\n\\t“Darling, you’ve done so much already,” said N, “Let me become the Grammar Wizard, and you can be my assistant.”\\n\\n\\t“That does seem to be the pattern,” said P, still looking a bit lost.\\n\\n\\t“What do you have to say about all this, Wow?” asked Q. \\n\\n\\tThe bookworm was busy making notes on a sheet of paper. \\n\\n\\t“What are you doing?” asked N.\\n\\n\\t“I’m writing a book on how Q saved the garden. The story will be full of excitement and grammar,” replied Wow.\\n\\n\\t“Have you thought of a title yet?” asked N. \\n\\n“I’m finding it difficult to come up with a one. The title should somehow sum up all that Q has seen… All that we have done… All that we have gone through,” said Wow.\\n\\n\\tSmiling, N snapped her fingers.\\n\\n\\t“I might just have a title for you.”\\n\\n\\t“What would that be?” asked the Grammar Wizard, raising an eyebrow. \\n\\n\\tP, Q, and Ha leaned forward. Even Woo looked up. And Wow waited on a page.    \\n\\n\\tN whispered, “Q and the Magic of Grammar.” \\n\\n\\t\\n\\n\\t \\n\\n\\t\\n\\n\\t\\n\\n\\t\\n\\n213'"
     },
     "metadata": {},
     "execution_count": 31
    }
   ],
   "source": [
    "# Let's take a look at the text for Amal Fabian\n",
    "books_df.book_text.loc['Q and the Magic of Grammar']"
   ]
  },
  {
   "cell_type": "code",
   "execution_count": null,
   "metadata": {},
   "outputs": [],
   "source": [
    "# Apply a first round of text cleaning techniques\n",
    "import re\n",
    "import string\n",
    "\n",
    "def clean_text_round1(text):\n",
    "    '''Make text lowercase, remove text in square brackets, remove punctuation and remove words containing numbers.'''\n",
    "    text = text.lower()\n",
    "    text = re.sub('\\[.*?\\]', '', text)\n",
    "    text = re.sub('[%s]' % re.escape(string.punctuation), '', text)\n",
    "    text = re.sub('\\w*\\d\\w*', '', text)\n",
    "    return text\n",
    "\n",
    "round1 = lambda x: clean_text_round1(x)# Apply a first round of text cleaning techniques"
   ]
  },
  {
   "cell_type": "code",
   "execution_count": null,
   "metadata": {},
   "outputs": [],
   "source": [
    "# Let's take a look at the updated text\n",
    "data_clean = pd.DataFrame(data_df.transcript.apply(round1))\n",
    "data_clean"
   ]
  },
  {
   "cell_type": "code",
   "execution_count": null,
   "metadata": {},
   "outputs": [],
   "source": [
    "# Apply a second round of cleaning\n",
    "def clean_text_round2(text):\n",
    "    '''Get rid of some additional punctuation and non-sensical text that was missed the first time around.'''\n",
    "    text = re.sub('[‘’“”…]', '', text)\n",
    "    text = re.sub('\\n', '', text)\n",
    "    return text\n",
    "\n",
    "round2 = lambda x: clean_text_round2(x)"
   ]
  },
  {
   "cell_type": "code",
   "execution_count": null,
   "metadata": {},
   "outputs": [],
   "source": [
    "# Let's take a look at the updated text\n",
    "data_clean = pd.DataFrame(data_clean.transcript.apply(round2))\n",
    "data_clean"
   ]
  },
  {
   "cell_type": "markdown",
   "metadata": {},
   "source": [
    "## Organizing The Data"
   ]
  },
  {
   "cell_type": "markdown",
   "metadata": {},
   "source": [
    "### Corpus"
   ]
  },
  {
   "cell_type": "code",
   "execution_count": null,
   "metadata": {},
   "outputs": [],
   "source": [
    "# Let's take a look at our dataframe\n",
    "data_df"
   ]
  },
  {
   "cell_type": "code",
   "execution_count": null,
   "metadata": {},
   "outputs": [],
   "source": [
    "# Let's add the comedians' full names as well\n",
    "full_names = ['Ali Wong', 'Anthony Jeselnik', 'Bill Burr', 'Bo Burnham', 'Dave Chappelle', 'Hasan Minhaj',\n",
    "              'Jim Jefferies', 'Joe Rogan', 'John Mulaney', 'Louis C.K.', 'Mike Birbiglia', 'Ricky Gervais']\n",
    "\n",
    "data_df['full_name'] = full_names\n",
    "data_df"
   ]
  },
  {
   "cell_type": "code",
   "execution_count": null,
   "metadata": {},
   "outputs": [],
   "source": [
    "# Let's pickle it for later use\n",
    "data_df.to_pickle(\"corpus.pkl\")"
   ]
  }
 ],
 "metadata": {
  "language_info": {
   "codemirror_mode": {
    "name": "ipython",
    "version": 3
   },
   "file_extension": ".py",
   "mimetype": "text/x-python",
   "name": "python",
   "nbconvert_exporter": "python",
   "pygments_lexer": "ipython3",
   "version": "3.8.3-final"
  },
  "orig_nbformat": 2,
  "kernelspec": {
   "name": "python3",
   "display_name": "Python 3"
  }
 },
 "nbformat": 4,
 "nbformat_minor": 2
}