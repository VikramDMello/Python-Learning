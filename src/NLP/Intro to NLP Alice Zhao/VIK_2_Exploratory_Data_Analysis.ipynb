{
  "nbformat": 4,
  "nbformat_minor": 0,
  "metadata": {
    "kernelspec": {
      "name": "Python 3.8.3 64-bit",
      "display_name": "Python 3.8.3 64-bit",
      "metadata": {
        "interpreter": {
          "hash": "aee8b7b246df8f9039afb4144a1f6fd8d2ca17a180786b69acc140d282b71a49"
        }
      }
    },
    "language_info": {
      "codemirror_mode": {
        "name": "ipython",
        "version": 3
      },
      "file_extension": ".py",
      "mimetype": "text/x-python",
      "name": "python",
      "nbconvert_exporter": "python",
      "pygments_lexer": "ipython3",
      "version": "3.8.3-final"
    },
    "toc": {
      "nav_menu": {},
      "number_sections": true,
      "sideBar": true,
      "skip_h1_title": false,
      "toc_cell": false,
      "toc_position": {},
      "toc_section_display": "block",
      "toc_window_display": false
    },
    "varInspector": {
      "cols": {
        "lenName": 16,
        "lenType": 16,
        "lenVar": 40
      },
      "kernels_config": {
        "python": {
          "delete_cmd_postfix": "",
          "delete_cmd_prefix": "del ",
          "library": "var_list.py",
          "varRefreshCmd": "print(var_dic_list())"
        },
        "r": {
          "delete_cmd_postfix": ") ",
          "delete_cmd_prefix": "rm(",
          "library": "var_list.r",
          "varRefreshCmd": "cat(var_dic_list()) "
        }
      },
      "types_to_exclude": [
        "module",
        "function",
        "builtin_function_or_method",
        "instance",
        "_Feature"
      ],
      "window_display": false
    },
    "colab": {
      "name": "VIK_2-Exploratory-Data-Analysis.ipynb",
      "provenance": []
    }
  },
  "cells": [
    {
      "cell_type": "markdown",
      "metadata": {
        "collapsed": true,
        "id": "dd1Gr21ZuD8P"
      },
      "source": [
        "# VIK Exploratory Data Analysis"
      ]
    },
    {
      "cell_type": "markdown",
      "metadata": {
        "id": "GUhjXFo7uD8Q"
      },
      "source": [
        "## Introduction"
      ]
    },
    {
      "cell_type": "markdown",
      "metadata": {
        "id": "25qvGfiSuD8R"
      },
      "source": [
        "After the data cleaning step where we put our data into a few standard formats, the next step is to take a look at the data and see if what we're looking at makes sense. Before applying any fancy algorithms, it's always important to explore the data first.\n",
        "\n",
        "When working with numerical data, some of the exploratory data analysis (EDA) techniques we can use include finding the average of the data set, the distribution of the data, the most common values, etc. The idea is the same when working with text data. We are going to find some more obvious patterns with EDA before identifying the hidden patterns with machine learning (ML) techniques. We are going to look at the following for each comedian:\n",
        "\n",
        "1. **Most common words** - find these and create word clouds\n",
        "2. **Size of vocabulary** - look number of unique words and also how quickly someone speaks\n",
        "    - Probably won't use speed because does not apply to written text\n",
        "3. **Amount of profanity** - most common terms\n",
        "    - Find alternative set of words of interest"
      ]
    },
    {
      "cell_type": "markdown",
      "metadata": {
        "id": "caJGEPeBuD8R"
      },
      "source": [
        "## Most Common Words"
      ]
    },
    {
      "cell_type": "markdown",
      "metadata": {
        "id": "ODcDTosSuD8S"
      },
      "source": [
        "### Analysis"
      ]
    },
    {
      "cell_type": "code",
      "metadata": {
        "id": "kOXhMvDkuD8T"
      },
      "source": [
        "#### Read in the document-term matrix\n",
        "import pandas as pd\n",
        "\n",
        "books_dtm = pd.read_pickle('pickle/books_dtm.pkl') # Read previously pickled document-term matrix into a dataframe\n",
        "books_dtm.head()\n",
        "books_tdm = books_dtm.transpose() # Convert this document-term matrix to a term-document matrix - i.e., transpose\n",
        "books_tdm.head() # Display only the first few rows - i.e., the first few unique words or vocabulary"
      ],
      "execution_count": 1,
      "outputs": [
        {
          "output_type": "execute_result",
          "data": {
            "text/plain": [
              "           Hell  The Creative Process in the Individual  \\\n",
              "aa            0                                       0   \n",
              "aam           0                                       0   \n",
              "aaron         0                                       0   \n",
              "aaronites     0                                       0   \n",
              "aarons        0                                       0   \n",
              "\n",
              "           Select Speeches of Kossuth  The Apricot Tree  The King James Bible  \\\n",
              "aa                                  0                 0                     0   \n",
              "aam                                 0                 0                     0   \n",
              "aaron                               0                 0                   319   \n",
              "aaronites                           0                 0                     2   \n",
              "aarons                              0                 0                    31   \n",
              "\n",
              "           King Richard III  \\\n",
              "aa                        0   \n",
              "aam                       0   \n",
              "aaron                    95   \n",
              "aaronites                 0   \n",
              "aarons                    1   \n",
              "\n",
              "           The Mirror of Literature, Amusement, and Instruction  \\\n",
              "aa                                                         0      \n",
              "aam                                                        0      \n",
              "aaron                                                      0      \n",
              "aaronites                                                  0      \n",
              "aarons                                                     0      \n",
              "\n",
              "           The Lure of San Francisco  Robbery Under Arms  \\\n",
              "aa                                 0                   0   \n",
              "aam                                0                   0   \n",
              "aaron                              0                   0   \n",
              "aaronites                          0                   0   \n",
              "aarons                             0                   0   \n",
              "\n",
              "           Alice's Adventures in Wonderland  ...  My Life and Work  \\\n",
              "aa                                        0  ...                 0   \n",
              "aam                                       0  ...                 0   \n",
              "aaron                                     0  ...                 0   \n",
              "aaronites                                 0  ...                 0   \n",
              "aarons                                    0  ...                 0   \n",
              "\n",
              "           Ernest Maltravers, Book 9  David Copperfield  Agnes Grey  \\\n",
              "aa                                 0                  0           0   \n",
              "aam                                0                  0           0   \n",
              "aaron                              0                  0           0   \n",
              "aaronites                          0                  0           0   \n",
              "aarons                             0                  0           0   \n",
              "\n",
              "           The Bible, King James version, Book 21: Ecclesiastes  \\\n",
              "aa                                                         0      \n",
              "aam                                                        0      \n",
              "aaron                                                      0      \n",
              "aaronites                                                  0      \n",
              "aarons                                                     0      \n",
              "\n",
              "           The Bible, Douay-Rheims, Book 69: 1 John  \\\n",
              "aa                                                0   \n",
              "aam                                               0   \n",
              "aaron                                             0   \n",
              "aaronites                                         0   \n",
              "aarons                                            0   \n",
              "\n",
              "           Lyrical Ballads with Other Poems, 1800, Vol. 2  \\\n",
              "aa                                                      0   \n",
              "aam                                                     0   \n",
              "aaron                                                   0   \n",
              "aaronites                                               0   \n",
              "aarons                                                  0   \n",
              "\n",
              "           Samantha Among the Brethren, Part 4.  \\\n",
              "aa                                            0   \n",
              "aam                                           0   \n",
              "aaron                                         0   \n",
              "aaronites                                     0   \n",
              "aarons                                        0   \n",
              "\n",
              "           Grace Harlowe's Return to Overton Campus  \\\n",
              "aa                                                0   \n",
              "aam                                               0   \n",
              "aaron                                             0   \n",
              "aaronites                                         0   \n",
              "aarons                                            0   \n",
              "\n",
              "           Q and the Magic of Grammar  \n",
              "aa                                  0  \n",
              "aam                                 0  \n",
              "aaron                               0  \n",
              "aaronites                           0  \n",
              "aarons                              0  \n",
              "\n",
              "[5 rows x 51 columns]"
            ],
            "text/html": "<div>\n<style scoped>\n    .dataframe tbody tr th:only-of-type {\n        vertical-align: middle;\n    }\n\n    .dataframe tbody tr th {\n        vertical-align: top;\n    }\n\n    .dataframe thead th {\n        text-align: right;\n    }\n</style>\n<table border=\"1\" class=\"dataframe\">\n  <thead>\n    <tr style=\"text-align: right;\">\n      <th></th>\n      <th>Hell</th>\n      <th>The Creative Process in the Individual</th>\n      <th>Select Speeches of Kossuth</th>\n      <th>The Apricot Tree</th>\n      <th>The King James Bible</th>\n      <th>King Richard III</th>\n      <th>The Mirror of Literature, Amusement, and Instruction</th>\n      <th>The Lure of San Francisco</th>\n      <th>Robbery Under Arms</th>\n      <th>Alice's Adventures in Wonderland</th>\n      <th>...</th>\n      <th>My Life and Work</th>\n      <th>Ernest Maltravers, Book 9</th>\n      <th>David Copperfield</th>\n      <th>Agnes Grey</th>\n      <th>The Bible, King James version, Book 21: Ecclesiastes</th>\n      <th>The Bible, Douay-Rheims, Book 69: 1 John</th>\n      <th>Lyrical Ballads with Other Poems, 1800, Vol. 2</th>\n      <th>Samantha Among the Brethren, Part 4.</th>\n      <th>Grace Harlowe's Return to Overton Campus</th>\n      <th>Q and the Magic of Grammar</th>\n    </tr>\n  </thead>\n  <tbody>\n    <tr>\n      <th>aa</th>\n      <td>0</td>\n      <td>0</td>\n      <td>0</td>\n      <td>0</td>\n      <td>0</td>\n      <td>0</td>\n      <td>0</td>\n      <td>0</td>\n      <td>0</td>\n      <td>0</td>\n      <td>...</td>\n      <td>0</td>\n      <td>0</td>\n      <td>0</td>\n      <td>0</td>\n      <td>0</td>\n      <td>0</td>\n      <td>0</td>\n      <td>0</td>\n      <td>0</td>\n      <td>0</td>\n    </tr>\n    <tr>\n      <th>aam</th>\n      <td>0</td>\n      <td>0</td>\n      <td>0</td>\n      <td>0</td>\n      <td>0</td>\n      <td>0</td>\n      <td>0</td>\n      <td>0</td>\n      <td>0</td>\n      <td>0</td>\n      <td>...</td>\n      <td>0</td>\n      <td>0</td>\n      <td>0</td>\n      <td>0</td>\n      <td>0</td>\n      <td>0</td>\n      <td>0</td>\n      <td>0</td>\n      <td>0</td>\n      <td>0</td>\n    </tr>\n    <tr>\n      <th>aaron</th>\n      <td>0</td>\n      <td>0</td>\n      <td>0</td>\n      <td>0</td>\n      <td>319</td>\n      <td>95</td>\n      <td>0</td>\n      <td>0</td>\n      <td>0</td>\n      <td>0</td>\n      <td>...</td>\n      <td>0</td>\n      <td>0</td>\n      <td>0</td>\n      <td>0</td>\n      <td>0</td>\n      <td>0</td>\n      <td>0</td>\n      <td>0</td>\n      <td>0</td>\n      <td>0</td>\n    </tr>\n    <tr>\n      <th>aaronites</th>\n      <td>0</td>\n      <td>0</td>\n      <td>0</td>\n      <td>0</td>\n      <td>2</td>\n      <td>0</td>\n      <td>0</td>\n      <td>0</td>\n      <td>0</td>\n      <td>0</td>\n      <td>...</td>\n      <td>0</td>\n      <td>0</td>\n      <td>0</td>\n      <td>0</td>\n      <td>0</td>\n      <td>0</td>\n      <td>0</td>\n      <td>0</td>\n      <td>0</td>\n      <td>0</td>\n    </tr>\n    <tr>\n      <th>aarons</th>\n      <td>0</td>\n      <td>0</td>\n      <td>0</td>\n      <td>0</td>\n      <td>31</td>\n      <td>1</td>\n      <td>0</td>\n      <td>0</td>\n      <td>0</td>\n      <td>0</td>\n      <td>...</td>\n      <td>0</td>\n      <td>0</td>\n      <td>0</td>\n      <td>0</td>\n      <td>0</td>\n      <td>0</td>\n      <td>0</td>\n      <td>0</td>\n      <td>0</td>\n      <td>0</td>\n    </tr>\n  </tbody>\n</table>\n<p>5 rows × 51 columns</p>\n</div>"
          },
          "metadata": {},
          "execution_count": 1
        }
      ]
    },
    {
      "cell_type": "markdown",
      "metadata": {
        "id": "rB4SAnePuD8X"
      },
      "source": [
        "#### Basic dataframe retrieval syntax\n",
        "- #### new dataframe = olddataframe.set_index(\"ColumnName\", drop = False) \n",
        "- #### By default, first column is index; however, can set any column to index"
      ]
    },
    {
      "cell_type": "code",
      "metadata": {
        "id": "VRuhcmaruD8Y"
      },
      "source": [
        "#### Show preset subset of first five rows\n",
        "books_tdm.head() "
      ],
      "execution_count": 2,
      "outputs": [
        {
          "output_type": "execute_result",
          "data": {
            "text/plain": [
              "           Hell  The Creative Process in the Individual  \\\n",
              "aa            0                                       0   \n",
              "aam           0                                       0   \n",
              "aaron         0                                       0   \n",
              "aaronites     0                                       0   \n",
              "aarons        0                                       0   \n",
              "\n",
              "           Select Speeches of Kossuth  The Apricot Tree  The King James Bible  \\\n",
              "aa                                  0                 0                     0   \n",
              "aam                                 0                 0                     0   \n",
              "aaron                               0                 0                   319   \n",
              "aaronites                           0                 0                     2   \n",
              "aarons                              0                 0                    31   \n",
              "\n",
              "           King Richard III  \\\n",
              "aa                        0   \n",
              "aam                       0   \n",
              "aaron                    95   \n",
              "aaronites                 0   \n",
              "aarons                    1   \n",
              "\n",
              "           The Mirror of Literature, Amusement, and Instruction  \\\n",
              "aa                                                         0      \n",
              "aam                                                        0      \n",
              "aaron                                                      0      \n",
              "aaronites                                                  0      \n",
              "aarons                                                     0      \n",
              "\n",
              "           The Lure of San Francisco  Robbery Under Arms  \\\n",
              "aa                                 0                   0   \n",
              "aam                                0                   0   \n",
              "aaron                              0                   0   \n",
              "aaronites                          0                   0   \n",
              "aarons                             0                   0   \n",
              "\n",
              "           Alice's Adventures in Wonderland  ...  My Life and Work  \\\n",
              "aa                                        0  ...                 0   \n",
              "aam                                       0  ...                 0   \n",
              "aaron                                     0  ...                 0   \n",
              "aaronites                                 0  ...                 0   \n",
              "aarons                                    0  ...                 0   \n",
              "\n",
              "           Ernest Maltravers, Book 9  David Copperfield  Agnes Grey  \\\n",
              "aa                                 0                  0           0   \n",
              "aam                                0                  0           0   \n",
              "aaron                              0                  0           0   \n",
              "aaronites                          0                  0           0   \n",
              "aarons                             0                  0           0   \n",
              "\n",
              "           The Bible, King James version, Book 21: Ecclesiastes  \\\n",
              "aa                                                         0      \n",
              "aam                                                        0      \n",
              "aaron                                                      0      \n",
              "aaronites                                                  0      \n",
              "aarons                                                     0      \n",
              "\n",
              "           The Bible, Douay-Rheims, Book 69: 1 John  \\\n",
              "aa                                                0   \n",
              "aam                                               0   \n",
              "aaron                                             0   \n",
              "aaronites                                         0   \n",
              "aarons                                            0   \n",
              "\n",
              "           Lyrical Ballads with Other Poems, 1800, Vol. 2  \\\n",
              "aa                                                      0   \n",
              "aam                                                     0   \n",
              "aaron                                                   0   \n",
              "aaronites                                               0   \n",
              "aarons                                                  0   \n",
              "\n",
              "           Samantha Among the Brethren, Part 4.  \\\n",
              "aa                                            0   \n",
              "aam                                           0   \n",
              "aaron                                         0   \n",
              "aaronites                                     0   \n",
              "aarons                                        0   \n",
              "\n",
              "           Grace Harlowe's Return to Overton Campus  \\\n",
              "aa                                                0   \n",
              "aam                                               0   \n",
              "aaron                                             0   \n",
              "aaronites                                         0   \n",
              "aarons                                            0   \n",
              "\n",
              "           Q and the Magic of Grammar  \n",
              "aa                                  0  \n",
              "aam                                 0  \n",
              "aaron                               0  \n",
              "aaronites                           0  \n",
              "aarons                              0  \n",
              "\n",
              "[5 rows x 51 columns]"
            ],
            "text/html": "<div>\n<style scoped>\n    .dataframe tbody tr th:only-of-type {\n        vertical-align: middle;\n    }\n\n    .dataframe tbody tr th {\n        vertical-align: top;\n    }\n\n    .dataframe thead th {\n        text-align: right;\n    }\n</style>\n<table border=\"1\" class=\"dataframe\">\n  <thead>\n    <tr style=\"text-align: right;\">\n      <th></th>\n      <th>Hell</th>\n      <th>The Creative Process in the Individual</th>\n      <th>Select Speeches of Kossuth</th>\n      <th>The Apricot Tree</th>\n      <th>The King James Bible</th>\n      <th>King Richard III</th>\n      <th>The Mirror of Literature, Amusement, and Instruction</th>\n      <th>The Lure of San Francisco</th>\n      <th>Robbery Under Arms</th>\n      <th>Alice's Adventures in Wonderland</th>\n      <th>...</th>\n      <th>My Life and Work</th>\n      <th>Ernest Maltravers, Book 9</th>\n      <th>David Copperfield</th>\n      <th>Agnes Grey</th>\n      <th>The Bible, King James version, Book 21: Ecclesiastes</th>\n      <th>The Bible, Douay-Rheims, Book 69: 1 John</th>\n      <th>Lyrical Ballads with Other Poems, 1800, Vol. 2</th>\n      <th>Samantha Among the Brethren, Part 4.</th>\n      <th>Grace Harlowe's Return to Overton Campus</th>\n      <th>Q and the Magic of Grammar</th>\n    </tr>\n  </thead>\n  <tbody>\n    <tr>\n      <th>aa</th>\n      <td>0</td>\n      <td>0</td>\n      <td>0</td>\n      <td>0</td>\n      <td>0</td>\n      <td>0</td>\n      <td>0</td>\n      <td>0</td>\n      <td>0</td>\n      <td>0</td>\n      <td>...</td>\n      <td>0</td>\n      <td>0</td>\n      <td>0</td>\n      <td>0</td>\n      <td>0</td>\n      <td>0</td>\n      <td>0</td>\n      <td>0</td>\n      <td>0</td>\n      <td>0</td>\n    </tr>\n    <tr>\n      <th>aam</th>\n      <td>0</td>\n      <td>0</td>\n      <td>0</td>\n      <td>0</td>\n      <td>0</td>\n      <td>0</td>\n      <td>0</td>\n      <td>0</td>\n      <td>0</td>\n      <td>0</td>\n      <td>...</td>\n      <td>0</td>\n      <td>0</td>\n      <td>0</td>\n      <td>0</td>\n      <td>0</td>\n      <td>0</td>\n      <td>0</td>\n      <td>0</td>\n      <td>0</td>\n      <td>0</td>\n    </tr>\n    <tr>\n      <th>aaron</th>\n      <td>0</td>\n      <td>0</td>\n      <td>0</td>\n      <td>0</td>\n      <td>319</td>\n      <td>95</td>\n      <td>0</td>\n      <td>0</td>\n      <td>0</td>\n      <td>0</td>\n      <td>...</td>\n      <td>0</td>\n      <td>0</td>\n      <td>0</td>\n      <td>0</td>\n      <td>0</td>\n      <td>0</td>\n      <td>0</td>\n      <td>0</td>\n      <td>0</td>\n      <td>0</td>\n    </tr>\n    <tr>\n      <th>aaronites</th>\n      <td>0</td>\n      <td>0</td>\n      <td>0</td>\n      <td>0</td>\n      <td>2</td>\n      <td>0</td>\n      <td>0</td>\n      <td>0</td>\n      <td>0</td>\n      <td>0</td>\n      <td>...</td>\n      <td>0</td>\n      <td>0</td>\n      <td>0</td>\n      <td>0</td>\n      <td>0</td>\n      <td>0</td>\n      <td>0</td>\n      <td>0</td>\n      <td>0</td>\n      <td>0</td>\n    </tr>\n    <tr>\n      <th>aarons</th>\n      <td>0</td>\n      <td>0</td>\n      <td>0</td>\n      <td>0</td>\n      <td>31</td>\n      <td>1</td>\n      <td>0</td>\n      <td>0</td>\n      <td>0</td>\n      <td>0</td>\n      <td>...</td>\n      <td>0</td>\n      <td>0</td>\n      <td>0</td>\n      <td>0</td>\n      <td>0</td>\n      <td>0</td>\n      <td>0</td>\n      <td>0</td>\n      <td>0</td>\n      <td>0</td>\n    </tr>\n  </tbody>\n</table>\n<p>5 rows × 51 columns</p>\n</div>"
          },
          "metadata": {},
          "execution_count": 2
        }
      ]
    },
    {
      "cell_type": "code",
      "metadata": {
        "id": "YUr_sFSauD8b"
      },
      "source": [
        "#### Show required subset of rows - indexed to 0, and exclusive of range end\n",
        "books_tdm[0:10] "
      ],
      "execution_count": 3,
      "outputs": [
        {
          "output_type": "execute_result",
          "data": {
            "text/plain": [
              "           Hell  The Creative Process in the Individual  \\\n",
              "aa            0                                       0   \n",
              "aam           0                                       0   \n",
              "aaron         0                                       0   \n",
              "aaronites     0                                       0   \n",
              "aarons        0                                       0   \n",
              "ab            0                                       0   \n",
              "aback         0                                       0   \n",
              "abaddon       0                                       0   \n",
              "abagtha       0                                       0   \n",
              "abana         0                                       0   \n",
              "\n",
              "           Select Speeches of Kossuth  The Apricot Tree  The King James Bible  \\\n",
              "aa                                  0                 0                     0   \n",
              "aam                                 0                 0                     0   \n",
              "aaron                               0                 0                   319   \n",
              "aaronites                           0                 0                     2   \n",
              "aarons                              0                 0                    31   \n",
              "ab                                  0                 0                     0   \n",
              "aback                               0                 0                     0   \n",
              "abaddon                             0                 0                     1   \n",
              "abagtha                             0                 0                     1   \n",
              "abana                               0                 0                     1   \n",
              "\n",
              "           King Richard III  \\\n",
              "aa                        0   \n",
              "aam                       0   \n",
              "aaron                    95   \n",
              "aaronites                 0   \n",
              "aarons                    1   \n",
              "ab                        0   \n",
              "aback                     0   \n",
              "abaddon                   0   \n",
              "abagtha                   0   \n",
              "abana                     0   \n",
              "\n",
              "           The Mirror of Literature, Amusement, and Instruction  \\\n",
              "aa                                                         0      \n",
              "aam                                                        0      \n",
              "aaron                                                      0      \n",
              "aaronites                                                  0      \n",
              "aarons                                                     0      \n",
              "ab                                                         1      \n",
              "aback                                                      0      \n",
              "abaddon                                                    0      \n",
              "abagtha                                                    0      \n",
              "abana                                                      0      \n",
              "\n",
              "           The Lure of San Francisco  Robbery Under Arms  \\\n",
              "aa                                 0                   0   \n",
              "aam                                0                   0   \n",
              "aaron                              0                   0   \n",
              "aaronites                          0                   0   \n",
              "aarons                             0                   0   \n",
              "ab                                 0                   0   \n",
              "aback                              0                   0   \n",
              "abaddon                            0                   0   \n",
              "abagtha                            0                   0   \n",
              "abana                              0                   0   \n",
              "\n",
              "           Alice's Adventures in Wonderland  ...  My Life and Work  \\\n",
              "aa                                        0  ...                 0   \n",
              "aam                                       0  ...                 0   \n",
              "aaron                                     0  ...                 0   \n",
              "aaronites                                 0  ...                 0   \n",
              "aarons                                    0  ...                 0   \n",
              "ab                                        0  ...                 0   \n",
              "aback                                     0  ...                 0   \n",
              "abaddon                                   0  ...                 0   \n",
              "abagtha                                   0  ...                 0   \n",
              "abana                                     0  ...                 0   \n",
              "\n",
              "           Ernest Maltravers, Book 9  David Copperfield  Agnes Grey  \\\n",
              "aa                                 0                  0           0   \n",
              "aam                                0                  0           0   \n",
              "aaron                              0                  0           0   \n",
              "aaronites                          0                  0           0   \n",
              "aarons                             0                  0           0   \n",
              "ab                                 0                  0           0   \n",
              "aback                              0                  1           1   \n",
              "abaddon                            0                  0           0   \n",
              "abagtha                            0                  0           0   \n",
              "abana                              0                  0           0   \n",
              "\n",
              "           The Bible, King James version, Book 21: Ecclesiastes  \\\n",
              "aa                                                         0      \n",
              "aam                                                        0      \n",
              "aaron                                                      0      \n",
              "aaronites                                                  0      \n",
              "aarons                                                     0      \n",
              "ab                                                         0      \n",
              "aback                                                      0      \n",
              "abaddon                                                    0      \n",
              "abagtha                                                    0      \n",
              "abana                                                      0      \n",
              "\n",
              "           The Bible, Douay-Rheims, Book 69: 1 John  \\\n",
              "aa                                                0   \n",
              "aam                                               0   \n",
              "aaron                                             0   \n",
              "aaronites                                         0   \n",
              "aarons                                            0   \n",
              "ab                                                0   \n",
              "aback                                             0   \n",
              "abaddon                                           0   \n",
              "abagtha                                           0   \n",
              "abana                                             0   \n",
              "\n",
              "           Lyrical Ballads with Other Poems, 1800, Vol. 2  \\\n",
              "aa                                                      0   \n",
              "aam                                                     0   \n",
              "aaron                                                   0   \n",
              "aaronites                                               0   \n",
              "aarons                                                  0   \n",
              "ab                                                      0   \n",
              "aback                                                   0   \n",
              "abaddon                                                 0   \n",
              "abagtha                                                 0   \n",
              "abana                                                   0   \n",
              "\n",
              "           Samantha Among the Brethren, Part 4.  \\\n",
              "aa                                            0   \n",
              "aam                                           0   \n",
              "aaron                                         0   \n",
              "aaronites                                     0   \n",
              "aarons                                        0   \n",
              "ab                                            0   \n",
              "aback                                         0   \n",
              "abaddon                                       0   \n",
              "abagtha                                       0   \n",
              "abana                                         0   \n",
              "\n",
              "           Grace Harlowe's Return to Overton Campus  \\\n",
              "aa                                                0   \n",
              "aam                                               0   \n",
              "aaron                                             0   \n",
              "aaronites                                         0   \n",
              "aarons                                            0   \n",
              "ab                                                0   \n",
              "aback                                             0   \n",
              "abaddon                                           0   \n",
              "abagtha                                           0   \n",
              "abana                                             0   \n",
              "\n",
              "           Q and the Magic of Grammar  \n",
              "aa                                  0  \n",
              "aam                                 0  \n",
              "aaron                               0  \n",
              "aaronites                           0  \n",
              "aarons                              0  \n",
              "ab                                  1  \n",
              "aback                               0  \n",
              "abaddon                             0  \n",
              "abagtha                             0  \n",
              "abana                               0  \n",
              "\n",
              "[10 rows x 51 columns]"
            ],
            "text/html": "<div>\n<style scoped>\n    .dataframe tbody tr th:only-of-type {\n        vertical-align: middle;\n    }\n\n    .dataframe tbody tr th {\n        vertical-align: top;\n    }\n\n    .dataframe thead th {\n        text-align: right;\n    }\n</style>\n<table border=\"1\" class=\"dataframe\">\n  <thead>\n    <tr style=\"text-align: right;\">\n      <th></th>\n      <th>Hell</th>\n      <th>The Creative Process in the Individual</th>\n      <th>Select Speeches of Kossuth</th>\n      <th>The Apricot Tree</th>\n      <th>The King James Bible</th>\n      <th>King Richard III</th>\n      <th>The Mirror of Literature, Amusement, and Instruction</th>\n      <th>The Lure of San Francisco</th>\n      <th>Robbery Under Arms</th>\n      <th>Alice's Adventures in Wonderland</th>\n      <th>...</th>\n      <th>My Life and Work</th>\n      <th>Ernest Maltravers, Book 9</th>\n      <th>David Copperfield</th>\n      <th>Agnes Grey</th>\n      <th>The Bible, King James version, Book 21: Ecclesiastes</th>\n      <th>The Bible, Douay-Rheims, Book 69: 1 John</th>\n      <th>Lyrical Ballads with Other Poems, 1800, Vol. 2</th>\n      <th>Samantha Among the Brethren, Part 4.</th>\n      <th>Grace Harlowe's Return to Overton Campus</th>\n      <th>Q and the Magic of Grammar</th>\n    </tr>\n  </thead>\n  <tbody>\n    <tr>\n      <th>aa</th>\n      <td>0</td>\n      <td>0</td>\n      <td>0</td>\n      <td>0</td>\n      <td>0</td>\n      <td>0</td>\n      <td>0</td>\n      <td>0</td>\n      <td>0</td>\n      <td>0</td>\n      <td>...</td>\n      <td>0</td>\n      <td>0</td>\n      <td>0</td>\n      <td>0</td>\n      <td>0</td>\n      <td>0</td>\n      <td>0</td>\n      <td>0</td>\n      <td>0</td>\n      <td>0</td>\n    </tr>\n    <tr>\n      <th>aam</th>\n      <td>0</td>\n      <td>0</td>\n      <td>0</td>\n      <td>0</td>\n      <td>0</td>\n      <td>0</td>\n      <td>0</td>\n      <td>0</td>\n      <td>0</td>\n      <td>0</td>\n      <td>...</td>\n      <td>0</td>\n      <td>0</td>\n      <td>0</td>\n      <td>0</td>\n      <td>0</td>\n      <td>0</td>\n      <td>0</td>\n      <td>0</td>\n      <td>0</td>\n      <td>0</td>\n    </tr>\n    <tr>\n      <th>aaron</th>\n      <td>0</td>\n      <td>0</td>\n      <td>0</td>\n      <td>0</td>\n      <td>319</td>\n      <td>95</td>\n      <td>0</td>\n      <td>0</td>\n      <td>0</td>\n      <td>0</td>\n      <td>...</td>\n      <td>0</td>\n      <td>0</td>\n      <td>0</td>\n      <td>0</td>\n      <td>0</td>\n      <td>0</td>\n      <td>0</td>\n      <td>0</td>\n      <td>0</td>\n      <td>0</td>\n    </tr>\n    <tr>\n      <th>aaronites</th>\n      <td>0</td>\n      <td>0</td>\n      <td>0</td>\n      <td>0</td>\n      <td>2</td>\n      <td>0</td>\n      <td>0</td>\n      <td>0</td>\n      <td>0</td>\n      <td>0</td>\n      <td>...</td>\n      <td>0</td>\n      <td>0</td>\n      <td>0</td>\n      <td>0</td>\n      <td>0</td>\n      <td>0</td>\n      <td>0</td>\n      <td>0</td>\n      <td>0</td>\n      <td>0</td>\n    </tr>\n    <tr>\n      <th>aarons</th>\n      <td>0</td>\n      <td>0</td>\n      <td>0</td>\n      <td>0</td>\n      <td>31</td>\n      <td>1</td>\n      <td>0</td>\n      <td>0</td>\n      <td>0</td>\n      <td>0</td>\n      <td>...</td>\n      <td>0</td>\n      <td>0</td>\n      <td>0</td>\n      <td>0</td>\n      <td>0</td>\n      <td>0</td>\n      <td>0</td>\n      <td>0</td>\n      <td>0</td>\n      <td>0</td>\n    </tr>\n    <tr>\n      <th>ab</th>\n      <td>0</td>\n      <td>0</td>\n      <td>0</td>\n      <td>0</td>\n      <td>0</td>\n      <td>0</td>\n      <td>1</td>\n      <td>0</td>\n      <td>0</td>\n      <td>0</td>\n      <td>...</td>\n      <td>0</td>\n      <td>0</td>\n      <td>0</td>\n      <td>0</td>\n      <td>0</td>\n      <td>0</td>\n      <td>0</td>\n      <td>0</td>\n      <td>0</td>\n      <td>1</td>\n    </tr>\n    <tr>\n      <th>aback</th>\n      <td>0</td>\n      <td>0</td>\n      <td>0</td>\n      <td>0</td>\n      <td>0</td>\n      <td>0</td>\n      <td>0</td>\n      <td>0</td>\n      <td>0</td>\n      <td>0</td>\n      <td>...</td>\n      <td>0</td>\n      <td>0</td>\n      <td>1</td>\n      <td>1</td>\n      <td>0</td>\n      <td>0</td>\n      <td>0</td>\n      <td>0</td>\n      <td>0</td>\n      <td>0</td>\n    </tr>\n    <tr>\n      <th>abaddon</th>\n      <td>0</td>\n      <td>0</td>\n      <td>0</td>\n      <td>0</td>\n      <td>1</td>\n      <td>0</td>\n      <td>0</td>\n      <td>0</td>\n      <td>0</td>\n      <td>0</td>\n      <td>...</td>\n      <td>0</td>\n      <td>0</td>\n      <td>0</td>\n      <td>0</td>\n      <td>0</td>\n      <td>0</td>\n      <td>0</td>\n      <td>0</td>\n      <td>0</td>\n      <td>0</td>\n    </tr>\n    <tr>\n      <th>abagtha</th>\n      <td>0</td>\n      <td>0</td>\n      <td>0</td>\n      <td>0</td>\n      <td>1</td>\n      <td>0</td>\n      <td>0</td>\n      <td>0</td>\n      <td>0</td>\n      <td>0</td>\n      <td>...</td>\n      <td>0</td>\n      <td>0</td>\n      <td>0</td>\n      <td>0</td>\n      <td>0</td>\n      <td>0</td>\n      <td>0</td>\n      <td>0</td>\n      <td>0</td>\n      <td>0</td>\n    </tr>\n    <tr>\n      <th>abana</th>\n      <td>0</td>\n      <td>0</td>\n      <td>0</td>\n      <td>0</td>\n      <td>1</td>\n      <td>0</td>\n      <td>0</td>\n      <td>0</td>\n      <td>0</td>\n      <td>0</td>\n      <td>...</td>\n      <td>0</td>\n      <td>0</td>\n      <td>0</td>\n      <td>0</td>\n      <td>0</td>\n      <td>0</td>\n      <td>0</td>\n      <td>0</td>\n      <td>0</td>\n      <td>0</td>\n    </tr>\n  </tbody>\n</table>\n<p>10 rows × 51 columns</p>\n</div>"
          },
          "metadata": {},
          "execution_count": 3
        }
      ]
    },
    {
      "cell_type": "code",
      "metadata": {
        "tags": [],
        "id": "mh4vD4ZkuD8e"
      },
      "source": [
        "#### Show an entire row (term in TDM) that meets certain text criterion, with frequency count\n",
        "try:\n",
        "    print(books_tdm.loc[\"alice\", :].sort_values(ascending=False)) \n",
        "except:\n",
        "    print(\"\\nThat text does not exist\\n\")"
      ],
      "execution_count": 4,
      "outputs": [
        {
          "output_type": "stream",
          "name": "stdout",
          "text": [
            "Through the Looking-Glass                                      434\nAlice's Adventures in Wonderland                               386\nA Damsel in Distress                                            39\nThe Young Step-Mother                                            3\nAgnes Grey                                                       1\nErnest Maltravers, Book 9                                        1\nGrace Harlowe's Return to Overton Campus                         1\nThe Apricot Tree                                                 0\nThe Creative Process in the Individual                           0\nThe Song Of Hiawatha                                             0\nThe Federalist Papers                                            0\nThe Book Of Mormon                                               0\nFacino Cane                                                      0\nPeter Pan                                                        0\nHousehold Gods                                                   0\nThe Hunting of the Snark                                         0\nPaul Kelver                                                      0\nPunch, Or The London Charivari, Vol. 146., January 21, 1914      0\nThe King James Bible                                             0\nAt the Earth's Core                                              0\nParadise Lost                                                    0\nThe Tale of Mrs. Tiggy-Winkle                                    0\nSelect Speeches of Kossuth                                       0\nRobbery Under Arms                                               0\nThe Lure of San Francisco                                        0\nThe Mirror of Literature, Amusement, and Instruction             0\nKing Richard III                                                 0\nQ and the Magic of Grammar                                       0\nMinna von Barnhelm                                               0\nSketches in Lavender, Blue and Green                             0\nLaddie                                                           0\nSamantha Among the Brethren, Part 4.                             0\nLyrical Ballads with Other Poems, 1800, Vol. 2                   0\nThe Bible, Douay-Rheims, Book 69: 1 John                         0\nThe Bible, King James version, Book 21: Ecclesiastes             0\nDavid Copperfield                                                0\nMy Life and Work                                                 0\nOld Spookses' Pass                                               0\nUncle Robert's Geography (Uncle Robert's Visit, V.3)             0\nVicky Van                                                        0\nOur nig                                                          0\nArachne, Volume 1.                                               0\nCape Cod Stories                                                 0\nThe Rise of the Dutch Republic, 1577-78                          0\nEclectic School Readings: Stories from Life                      0\nThe Fortune Hunter                                               0\nSe-Quo-Yah; from Harper's New Monthly, V. 41, 1870               0\nThe Memoirs of Louis XV. and XVI., Volume 6                      0\nFabre, Poet of Science                                           0\nTable-Talk                                                       0\nHell                                                             0\nName: alice, dtype: int64\n"
          ]
        }
      ]
    },
    {
      "cell_type": "code",
      "metadata": {
        "id": "t3ZnOrYxuD8h"
      },
      "source": [
        "#### Find the top 50 words written by each author\n",
        "top50words_dict = {}\n",
        "for eachbook in books_tdm.columns:\n",
        "    top50words = books_tdm[eachbook].sort_values(ascending=False).head(50)\n",
        "    top50words_dict[eachbook] = list(zip(top50words.index, top50words.values))\n",
        "\n"
      ],
      "execution_count": 5,
      "outputs": []
    },
    {
      "cell_type": "code",
      "metadata": {
        "tags": [],
        "id": "-RL8T01muD8j"
      },
      "source": [
        "# Print the top 25 words written by each author\n",
        "for book, top50words in top50words_dict.items():\n",
        "    print(book)\n",
        "    print(\"Top 25 words: \" + ', '.join([word for word, count in top50words[0:24]]))\n",
        "    print('---')"
      ],
      "execution_count": 6,
      "outputs": [
        {
          "output_type": "stream",
          "name": "stdout",
          "text": [
            "Hell\nTop 25 words: thou, thy, thee, guide, spake, hath, shall, round, way, art, words, forth, o, came, oer, like, spirit, turnd, saw, said, th, een, cried, come\n---\nThe Creative Process in the Individual\nTop 25 words: spirit, power, life, principle, law, creative, individual, self, mind, personality, nature, process, universal, contemplation, divine, consciousness, action, conditions, recognition, thought, originating, god, new, standard\n---\nSelect Speeches of Kossuth\nTop 25 words: hungary, people, nations, states, nation, united, freedom, europe, country, great, government, power, world, cause, liberty, russia, man, independence, free, law, gentlemen, america, principle, men\n---\nThe Apricot Tree\nTop 25 words: ned, tom, grandmother, said, good, tree, did, apricots, day, think, told, work, great, apricot, home, going, read, tell, say, evening, garden, know, bible, like\n---\nThe King James Bible\nTop 25 words: shall, unto, lord, thou, thy, god, said, ye, thee, man, israel, son, hath, king, people, came, house, come, children, day, land, men, shalt, let\n---\nKing Richard III\nTop 25 words: thy, titus, thou, marcus, lucius, thee, rome, aaron, tamora, let, shall, sons, come, o, lavinia, lord, saturninus, demetrius, andronicus, hath, emperor, enter, chiron, hand\n---\nThe Mirror of Literature, Amusement, and Instruction\nTop 25 words: mr, walter, norton, mrs, charles, day, miss, french, time, morgan, great, life, long, boat, said, school, took, away, dream, thought, friend, like, man, little\n---\nThe Lure of San Francisco\nTop 25 words: old, san, francisco, little, spanish, days, man, house, city, said, building, time, street, did, hill, forty, presidio, place, eyes, years, bay, mission, like, hand\n---\nRobbery Under Arms\nTop 25 words: like, good, old, jim, said, says, man, time, way, got, starlight, come, didnt, bit, day, just, away, horse, hed, came, think, dont, horses, father\n---\nAlice's Adventures in Wonderland\nTop 25 words: said, alice, little, know, like, went, thought, time, queen, did, dont, king, im, began, turtle, way, mock, hatter, quite, gryphon, think, just, say, thing\n---\nThe Tale of Mrs. Tiggy-Winkle\nTop 25 words: lucie, little, mrs, tiggy, winkle, oh, said, hill, pocket, clothes, belonging, pleasem, handkins, theres, went, pinny, door, white, thats, clean, stile, came, twinkle, sniffle\n---\nAt the Earth's Core\nTop 25 words: perry, time, world, mahars, great, did, man, pellucidar, dian, came, said, saw, eyes, long, come, sagoths, thought, feet, quite, know, thing, ghak, face, escape\n---\nPunch, Or The London Charivari, Vol. 146., January 21, 1914\nTop 25 words: said, mr, man, like, sir, thought, chum, little, father, quite, thompson, shall, time, way, say, really, told, stone, good, house, end, parcel, got, present\n---\nThrough the Looking-Glass\nTop 25 words: said, alice, queen, know, like, little, went, thought, dont, just, time, red, white, got, way, looking, im, head, quite, king, knight, cried, looked, round\n---\nPaul Kelver\nTop 25 words: said, mother, man, good, time, old, know, little, dont, father, think, like, come, say, did, young, came, way, paul, hand, eyes, mrs, asked, face\n---\nThe Hunting of the Snark\nTop 25 words: snark, bellman, said, beaver, day, butcher, say, care, speak, crew, word, thing, man, baker, like, sought, words, ship, came, life, fit, tell, share, tis\n---\nHousehold Gods\nTop 25 words: crassus, alicia, love, o, like, adela, shall, life, mouth, kiss, gods, god, ha, pan, ah, secret, death, make, girl, know, man, dead, flame, soul\n---\nPeter Pan\nTop 25 words: peter, said, wendy, hook, cried, did, john, time, darling, little, boys, michael, like, children, know, night, mother, way, thought, just, came, mrs, come, knew\n---\nFacino Cane\nTop 25 words: gold, venice, man, old, went, did, come, blind, like, life, cane, time, thought, great, shall, facino, said, night, came, sight, diamonds, love, bianca, make\n---\nThe Book Of Mormon\nTop 25 words: unto, nephi, shall, alma, ye, did, people, god, came, behold, lord, pass, land, yea, things, mosiah, come, lamanites, great, words, said, forth, thou, helaman\n---\nThe Federalist Papers\nTop 25 words: states, government, state, power, people, constitution, new, union, national, federal, authority, great, public, executive, ought, general, powers, shall, time, men, united, number, members, part\n---\nThe Song Of Hiawatha\nTop 25 words: hiawatha, water, like, said, till, o, great, old, puk, came, nokomis, pau, keewis, saw, forest, wigwam, heard, land, wind, heart, tree, people, white, laughing\n---\nParadise Lost\nTop 25 words: thir, thy, thou, thee, heavn, shall, th, god, earth, man, high, great, death, till, like, hell, hath, day, stood, good, things, night, light, self\n---\nA Damsel in Distress\nTop 25 words: george, said, man, maud, lord, like, reggie, know, marshmoreton, dont, thing, good, say, just, did, time, little, im, young, belpher, lady, albert, think, girl\n---\nSketches in Lavender, Blue and Green\nTop 25 words: boy, ber, haue, sir, thou, loue, shall, o, thy, brag, qu, good, king, did, thee, faire, clo, enter, kin, doe, know, man, lord, like\n---\nMinna von Barnhelm\nTop 25 words: maj, t, min, just, fran, major, franziska, wer, tellheim, land, good, minna, man, come, shall, know, von, werner, lady, yes, say, landlord, let, scene\n---\nLaddie\nTop 25 words: said, mother, father, laddie, like, leon, didnt, little, went, time, did, just, know, princess, came, think, right, thought, big, man, come, shelley, going, told\n---\nTable-Talk\nTop 25 words: like, man, great, time, mind, nature, good, little, think, life, common, world, things, character, make, does, art, know, way, said, mr, did, sense, old\n---\nFabre, Poet of Science\nTop 25 words: project, gutenberg, etext, etexts, foundation, archive, states, print, donations, literary, small, public, copyright, information, form, tm, domain, fabre, punctuation_periodorg, work, date, medium, hart, ftp\n---\nThe Memoirs of Louis XV. and XVI., Volume 6\nTop 25 words: queen, king, majesty, said, royal, family, assembly, princesse, paris, national, time, did, princess, kings, madame, people, elizabeth, took, having, france, versailles, part, la, m\n---\nSe-Quo-Yah; from Harper's New Monthly, V. 41, 1870\nTop 25 words: language, indian, english, cherokee, quo, se, yah, old, written, alphabet, nation, words, man, white, like, years, time, sounds, new, race, indians, gist, great, symbols\n---\nThe Fortune Hunter\nTop 25 words: said, hilda, feuerstein, mr, otto, dont, went, know, eyes, come, brauner, face, man, love, did, looked, came, father, ganser, say, sophie, like, look, hes\n---\nEclectic School Readings: Stories from Life\nTop 25 words: life, great, boy, work, little, time, said, years, man, day, new, old, father, young, did, home, make, poor, world, men, youth, good, says, mr\n---\nThe Rise of the Dutch Republic, 1577-78\nTop 25 words: prince, orange, john, general, don, states, governor, brussels, estates, matthias, provinces, ghent, army, catholic, archduke, new, council, great, people, ryhove, aerschot, netherlands, soon, long\n---\nCape Cod Stories\nTop 25 words: says, like, got, twas, old, em, come, didnt, jonadab, peter, want, just, dont, good, time, know, kind, hed, went, said, man, way, home, looked\n---\nArachne, Volume 1.\nTop 25 words: ledscha, old, girl, little, hermon, eyes, young, did, tabus, know, man, head, tennis, like, woman, time, slave, words, child, love, hand, light, house, father\n---\nThe Young Step-Mother\nTop 25 words: said, albinia, mr, kendal, sophy, gilbert, did, little, maurice, lucy, think, mrs, know, poor, good, thought, like, come, home, dear, oh, dont, time, old\n---\nOur nig\nTop 25 words: frado, mrs, aunt, home, mother, james, jack, did, nig, said, bellmont, time, room, abby, mary, b, soon, family, long, come, came, child, asked, felt\n---\nVicky Van\nTop 25 words: said, schuyler, van, vicky, know, mr, miss, house, mrs, stone, allen, dont, did, ruth, little, room, went, man, yes, im, think, like, way, knew\n---\nUncle Robert's Geography (Uncle Robert's Visit, V.3)\nTop 25 words: said, uncle, robert, susie, donald, frank, asked, water, just, little, know, leonard, like, come, time, dont, river, air, yes, day, think, oh, ground, make\n---\nOld Spookses' Pass\nTop 25 words: like, o, thy, love, old, red, thou, tew, said, eyes, heart, thee, white, soul, breast, thet, roses, thar, gold, rose, day, earth, round, silver\n---\nMy Life and Work\nTop 25 words: business, work, man, men, money, time, make, car, production, good, people, day, cars, does, way, great, ought, did, better, service, price, ford, world, power\n---\nErnest Maltravers, Book 9\nTop 25 words: maltravers, florence, said, life, lumley, man, lord, heart, lady, cesarini, did, ernest, hand, death, love, left, eyes, thought, like, room, world, voice, vargrave, door\n---\nDavid Copperfield\nTop 25 words: said, mr, little, know, micawber, aunt, miss, peggotty, mrs, time, old, like, say, think, good, come, dear, went, copperfield, dont, hand, traddles, head, did\n---\nAgnes Grey\nTop 25 words: little, said, miss, mr, time, like, did, know, think, good, mother, thought, say, come, make, grey, long, murray, dont, day, shall, weston, tell, old\n---\nThe Bible, King James version, Book 21: Ecclesiastes\nTop 25 words: shall, man, god, hath, heart, time, thy, sun, vanity, thou, wisdom, wise, good, better, labour, evil, men, days, spirit, thing, work, unto, yea, great\n---\nThe Bible, Douay-Rheims, Book 69: 1 John\nTop 25 words: god, sin, hath, world, know, son, love, charity, life, unto, shall, spirit, death, christ, father, jesus, john, children, commandments, brother, sins, abideth, truth, faith\n---\nLyrical Ballads with Other Poems, 1800, Vol. 2\nTop 25 words: old, man, day, heart, thou, thy, did, thee, love, years, like, said, time, green, leonard, stone, house, half, came, beneath, boy, little, shall, life\n---\nSamantha Among the Brethren, Part 4.\nTop 25 words: wuz, em, jenette, sez, good, house, said, got, didnt, right, time, joe, jest, charnick, wife, josiah, meetin, day, truemans, miss, mother, way, wouldnt, did\n---\nGrace Harlowe's Return to Overton Campus\nTop 25 words: grace, emma, miss, evelyn, harlowe, house, girls, room, overton, eyes, come, know, said, little, girl, im, anne, going, time, ward, elfreda, college, dont, face\n---\nQ and the Magic of Grammar\nTop 25 words: q, said, grammar, p, s, use, word, t, sentence, wizard, wow, time, k, asked, ink, know, words, conditional, ha, m, clause, present, yes, like\n---\n"
          ]
        }
      ]
    },
    {
      "cell_type": "markdown",
      "metadata": {
        "id": "RQcZSnj4uD8m"
      },
      "source": [
        "**NOTE:** At this point, we could go on and create word clouds. However, by looking at these top words, you can see that some of them have very little meaning and could be added to a stop words list, so let's do just that.\n",
        "\n"
      ]
    },
    {
      "cell_type": "code",
      "metadata": {
        "id": "pPm7QhU-uD8m"
      },
      "source": [
        "# Look at the most common words across *all* books --> add them to a revised stop word list\n",
        "from collections import Counter\n",
        "\n",
        "# Let's first pull out the top 50 words for each book, across all books (referencing the above dictionary)\n",
        "top50words_all = []\n",
        "for eachbook in books_tdm.columns:\n",
        "    top = [word for (word, count) in top50words_dict[eachbook]]\n",
        "    for eachword in top:\n",
        "        top50words_all.append(eachword)\n",
        "        \n",
        "top50words_all[0:10] # This is a list of exactly 2,550 items, because we're simply combining the top 50 words for each of 51 books (50 x 51)"
      ],
      "execution_count": 7,
      "outputs": [
        {
          "output_type": "execute_result",
          "data": {
            "text/plain": [
              "['thou',\n",
              " 'thy',\n",
              " 'thee',\n",
              " 'guide',\n",
              " 'spake',\n",
              " 'hath',\n",
              " 'shall',\n",
              " 'round',\n",
              " 'way',\n",
              " 'art']"
            ]
          },
          "metadata": {},
          "execution_count": 7
        }
      ]
    },
    {
      "cell_type": "code",
      "metadata": {
        "id": "ByVj9aI1uD8o"
      },
      "source": [
        "# Aggregate above list by book frequency, to identify the 25 (or any other top-n) most common words *across all books*, showing how many books contain each word\n",
        "Counter(top50words_all).most_common(25)"
      ],
      "execution_count": 8,
      "outputs": [
        {
          "output_type": "execute_result",
          "data": {
            "text/plain": [
              "[('like', 41),\n",
              " ('time', 39),\n",
              " ('said', 38),\n",
              " ('man', 37),\n",
              " ('did', 36),\n",
              " ('know', 36),\n",
              " ('come', 35),\n",
              " ('little', 32),\n",
              " ('great', 30),\n",
              " ('long', 28),\n",
              " ('good', 28),\n",
              " ('way', 27),\n",
              " ('came', 27),\n",
              " ('say', 27),\n",
              " ('day', 26),\n",
              " ('shall', 25),\n",
              " ('thought', 23),\n",
              " ('just', 22),\n",
              " ('life', 20),\n",
              " ('think', 20),\n",
              " ('away', 20),\n",
              " ('make', 20),\n",
              " ('went', 20),\n",
              " ('hand', 19),\n",
              " ('old', 18)]"
            ]
          },
          "metadata": {},
          "execution_count": 8
        }
      ]
    },
    {
      "cell_type": "code",
      "metadata": {
        "id": "yU2sWlnBuD8r"
      },
      "source": [
        "# If more than half the books (out of 51 books) have any of these 25 most common words, exclude that word - i.e., treat it as a stop word\n",
        "books_stopwords_addl = [word for word, count in Counter(top50words_all).most_common() if count > (len(books_dtm)/2)]\n",
        "books_stopwords_addl"
      ],
      "execution_count": 9,
      "outputs": [
        {
          "output_type": "execute_result",
          "data": {
            "text/plain": [
              "['like',\n",
              " 'time',\n",
              " 'said',\n",
              " 'man',\n",
              " 'did',\n",
              " 'know',\n",
              " 'come',\n",
              " 'little',\n",
              " 'great',\n",
              " 'long',\n",
              " 'good',\n",
              " 'way',\n",
              " 'came',\n",
              " 'say',\n",
              " 'day']"
            ]
          },
          "metadata": {},
          "execution_count": 9
        }
      ]
    },
    {
      "cell_type": "code",
      "metadata": {
        "id": "D_cTlMrpuD8t"
      },
      "source": [
        "# Let's update our document-term matrix with the new list of stop words\n",
        "from sklearn.feature_extraction import text \n",
        "from sklearn.feature_extraction.text import CountVectorizer\n",
        "import pandas as pd\n",
        "import numpy as np\n",
        "\n",
        "# Read in cleaned data\n",
        "books_df_clean = pd.read_pickle('pickle/books_clean_corpus.pkl')\n",
        "\n",
        "## First, make custom stopwords list from previously edited built-in list\n",
        "books_stopwords = pd.read_csv('/Users/vix/Repos/Python-Learning/src/NLP/Intro to NLP Alice Zhao/books_stopwords.csv', header=None, encoding='utf-8')\n",
        "books_stopwords = list(np.squeeze(books_stopwords.values))\n",
        "books_stopwords = frozenset(books_stopwords)\n",
        "\n",
        "# Add new stop words\n",
        "books_stopwords_rev = books_stopwords.union(books_stopwords_addl) # Adding our new stop words to existing stop words\n",
        "\n",
        "# Recreate document-term matrix\n",
        "\n",
        "cv = CountVectorizer(stop_words=frozenset(books_stopwords_rev), strip_accents='ascii', token_pattern=r'(?u)\\b\\w+\\b', ngram_range=(1,1))\n",
        "books_cv = cv.fit_transform(books_df_clean.book_text)\n",
        "\n",
        "books_dtm_rev1 = pd.DataFrame(books_cv.toarray(), columns=cv.get_feature_names())\n",
        "books_dtm_rev1.index = books_df_clean.index\n",
        "\n",
        "# Pickle it for later use\n",
        "import pickle\n",
        "pickle.dump(cv, open(\"pickle/books_cv_rev1.pkl\", \"wb\"))\n",
        "books_dtm_rev1.to_pickle(\"pickle/books_dtm_rev1.pkl\")"
      ],
      "execution_count": 10,
      "outputs": []
    },
    {
      "cell_type": "code",
      "metadata": {
        "tags": [],
        "id": "Fkg_XUAZuD8u"
      },
      "source": [
        "### Check if certain term exists in vocabulary\n",
        "\n",
        "try:\n",
        "    print(books_dtm_rev1.loc[:, \"q\"].sort_values(ascending=False)) \n",
        "except:\n",
        "    print(\"\\nThat text does not exist\\n\")"
      ],
      "execution_count": 11,
      "outputs": [
        {
          "output_type": "stream",
          "name": "stdout",
          "text": [
            "Q and the Magic of Grammar                                     618\nDavid Copperfield                                                1\nThe Young Step-Mother                                            1\nSketches in Lavender, Blue and Green                             1\nThe Apricot Tree                                                 0\nThrough the Looking-Glass                                        0\nParadise Lost                                                    0\nThe Song Of Hiawatha                                             0\nThe Federalist Papers                                            0\nThe Book Of Mormon                                               0\nFacino Cane                                                      0\nPeter Pan                                                        0\nHousehold Gods                                                   0\nThe Hunting of the Snark                                         0\nPaul Kelver                                                      0\nPunch, Or The London Charivari, Vol. 146., January 21, 1914      0\nThe King James Bible                                             0\nThe Creative Process in the Individual                           0\nA Damsel in Distress                                             0\nThe Tale of Mrs. Tiggy-Winkle                                    0\nAlice's Adventures in Wonderland                                 0\nRobbery Under Arms                                               0\nThe Lure of San Francisco                                        0\nThe Mirror of Literature, Amusement, and Instruction             0\nSelect Speeches of Kossuth                                       0\nKing Richard III                                                 0\nAt the Earth's Core                                              0\nMinna von Barnhelm                                               0\nGrace Harlowe's Return to Overton Campus                         0\nVicky Van                                                        0\nSamantha Among the Brethren, Part 4.                             0\nLyrical Ballads with Other Poems, 1800, Vol. 2                   0\nThe Bible, Douay-Rheims, Book 69: 1 John                         0\nThe Bible, King James version, Book 21: Ecclesiastes             0\nAgnes Grey                                                       0\nErnest Maltravers, Book 9                                        0\nMy Life and Work                                                 0\nOld Spookses' Pass                                               0\nUncle Robert's Geography (Uncle Robert's Visit, V.3)             0\nOur nig                                                          0\nLaddie                                                           0\nArachne, Volume 1.                                               0\nCape Cod Stories                                                 0\nThe Rise of the Dutch Republic, 1577-78                          0\nEclectic School Readings: Stories from Life                      0\nThe Fortune Hunter                                               0\nSe-Quo-Yah; from Harper's New Monthly, V. 41, 1870               0\nThe Memoirs of Louis XV. and XVI., Volume 6                      0\nFabre, Poet of Science                                           0\nTable-Talk                                                       0\nHell                                                             0\nName: q, dtype: int64\n"
          ]
        }
      ]
    },
    {
      "cell_type": "code",
      "metadata": {
        "id": "x72jQXT2uD8w"
      },
      "source": [
        "### Display revised list of stopwords and save to file\n",
        "import csv\n",
        "books_stopwords_rev\n",
        "\n",
        "with open(\"/Users/vix/Repos/Python-Learning/src/NLP/Intro to NLP Alice Zhao/books_stopwords_rev.csv\", 'w', newline='') as csvfile:\n",
        "    stopwords = csv.writer(csvfile, delimiter='\\n')\n",
        "    stopwords.writerow(cv.get_stop_words())\n"
      ],
      "execution_count": 12,
      "outputs": []
    },
    {
      "source": [
        "### Understand WordCloud options with simple example\n",
        "\n",
        "import os\n",
        "os.chdir('/Users/vix/Repos/Python-Learning/src/NLP/Intro to NLP Alice Zhao/')\n",
        "\n",
        "from wordcloud import WordCloud\n",
        "from PIL import Image\n",
        "import numpy as np\n",
        "import matplotlib.pyplot as plot\n",
        "\n",
        "mask = np.array(Image.open('books_mask.png'))\n",
        "\n",
        "test_wordcloud = WordCloud(width=600, height=400, stopwords='', background_color=\"whitesmoke\", colormap=\"tab20b\", random_state=1, collocations=False, regexp=r\"[\\w']+\", mask=mask)\n",
        "\n",
        "plot.rcParams['figure.figsize'] = [3, 2]\n",
        "plot.rcParams['figure.dpi'] = 300\n",
        "test_wordcloud.generate(\"q and p and the magic of grammar are all here to learn the a b c d and e of grammar rules 1 2 3\")\n",
        "plot.imshow(test_wordcloud)\n",
        "plot.axis(False)\n",
        "\n",
        "### plot.savefig(\"Test_WordCloud.png\")\n",
        "plot.show()\n"
      ],
      "cell_type": "code",
      "metadata": {
        "id": "n9z1rC91uD8y"
      },
      "execution_count": null,
      "outputs": []
    },
    {
      "cell_type": "markdown",
      "metadata": {
        "id": "crRXCnNauD8y"
      },
      "source": [
        "test_wordcloud.words_ ### Word frequencies\n",
        "### test_wordcloud.layout_"
      ]
    },
    {
      "cell_type": "code",
      "metadata": {
        "id": "3Tsnmn1auD8y"
      },
      "source": [
        "### Let's make some word clouds!\n",
        "### Terminal / Anaconda Prompt: conda install -c conda-forge wordcloud\n",
        "import os\n",
        "os.chdir('/Users/vix/Repos/Python-Learning/src/NLP/Intro to NLP Alice Zhao')\n",
        "\n",
        "from wordcloud import WordCloud\n",
        "from PIL import Image\n",
        "import numpy as np\n",
        "import matplotlib.pyplot as plot\n",
        "\n",
        "# mask = np.array(Image.open('mask_peterpan.png'))\n",
        "\n",
        "books_wordcloud = WordCloud(stopwords=books_stopwords_rev, collocations=False, background_color=\"whitesmoke\", colormap=\"tab20b\", random_state=42, regexp=r\"[\\w']+\")"
      ],
      "execution_count": null,
      "outputs": []
    },
    {
      "cell_type": "code",
      "metadata": {
        "collapsed": true,
        "tags": [],
        "id": "DZePkkWsuD80"
      },
      "source": [
        "# Reset the output dimensions\n",
        "import matplotlib.pyplot as plot\n",
        "from textwrap import wrap\n",
        "\n",
        "plot.rcParams['figure.figsize'] = [50, 28] ### For several items in grid\n",
        "# plot.rcParams['figure.figsize'] = [6, 6] ### For single item\n",
        "plot.rcParams['figure.dpi'] = 300\n",
        "\n",
        "book_author = books_df_clean.index.tolist() # Useful code to take a dataframe column and make it a list - in this case, the column in queston is the index\n",
        "\n",
        "# Create subplots for each book\n",
        "for each, book in enumerate(books_tdm.columns): # Dataframe whose columns represent each author (ie, document)\n",
        "    # if book == \"Peter Pan\": ### Use (with indent) for single item\n",
        "    books_wordcloud.generate(books_df_clean.book_text[book]) # Invokes actual WordCloud function, which incorporates stop words set above\n",
        "    \n",
        "    plot.tight_layout(pad=1)\n",
        "    plot.subplot(6, 9, each+1) ### Ignore if plotting single item\n",
        "    plot.imshow(books_wordcloud, interpolation=\"bilinear\")\n",
        "    plot.axis(\"off\")\n",
        "    plot.title('\\n'.join(wrap(book_author[each],30)), fontsize=15)\n",
        "            \n",
        "plot.savefig(\"Books_WordCloud_Rev.png\", dpi='figure', facecolor='whitesmoke') ### Remember to update filename as needed to avoid overwriting\n",
        "plot.show()"
      ],
      "execution_count": null,
      "outputs": []
    },
    {
      "cell_type": "markdown",
      "metadata": {
        "id": "sP6z2YhtuD88"
      },
      "source": [
        "### Findings"
      ]
    },
    {
      "cell_type": "markdown",
      "metadata": {
        "id": "14fND-UsuD88"
      },
      "source": [
        "* These 50 books are reasonably distinct in terms of their respective most frequent words."
      ]
    },
    {
      "cell_type": "markdown",
      "metadata": {
        "id": "gLbEQPGsuD88"
      },
      "source": [
        "## Number of Words"
      ]
    },
    {
      "cell_type": "markdown",
      "metadata": {
        "id": "llZTXWryuD88"
      },
      "source": [
        "### Analysis"
      ]
    },
    {
      "cell_type": "code",
      "metadata": {
        "tags": [],
        "id": "4HQM52g1uD89"
      },
      "source": [
        "# Find the number of unique words in each book - i.e., the book's vocabulary\n",
        "\n",
        "# Identify the non-zero items in the document-term matrix, meaning that the word occurs at least once\n",
        "vocabulary_list = []\n",
        "for eachbook in books_tdm.columns:\n",
        "    vocabulary = books_tdm[eachbook].to_numpy().nonzero()[0].size\n",
        "    vocabulary_list.append(vocabulary)\n",
        "\n",
        "# Create a new dataframe that contains this unique word count\n",
        "vocabulary_df = pd.DataFrame(list(zip(book_author, vocabulary_list)), columns=['Book Title', 'Vocabulary'])\n",
        "vocabulary_df_sort = vocabulary_df.sort_values(by='Vocabulary',ascending=False)\n",
        "pd.options.display.float_format = '${:, 0f}'.format\n",
        "vocabulary_df_sort"
      ],
      "execution_count": null,
      "outputs": []
    },
    {
      "cell_type": "code",
      "metadata": {
        "id": "vfU01Xr9uD8-"
      },
      "source": [
        "# Calculate the words per minute of each comedian\n",
        "\n",
        "# Find the total number of words that a comedian uses\n",
        "total_list = []\n",
        "for comedian in data.columns:\n",
        "    totals = sum(data[comedian])\n",
        "    total_list.append(totals)\n",
        "    \n",
        "# Comedy special run times from IMDB, in minutes\n",
        "run_times = [60, 59, 80, 60, 67, 73, 77, 63, 62, 58, 76, 79]\n",
        "\n",
        "# Let's add some columns to our dataframe\n",
        "data_words['total_words'] = total_list\n",
        "data_words['run_times'] = run_times\n",
        "data_words['words_per_minute'] = data_words['total_words'] / data_words['run_times']\n",
        "\n",
        "# Sort the dataframe by words per minute to see who talks the slowest and fastest\n",
        "data_wpm_sort = data_words.sort_values(by='words_per_minute')\n",
        "data_wpm_sort"
      ],
      "execution_count": null,
      "outputs": []
    },
    {
      "cell_type": "code",
      "metadata": {
        "id": "p2ecm_TQuD8_"
      },
      "source": [
        "# Let's plot our findings\n",
        "import numpy as np\n",
        "\n",
        "y_pos = np.arange(len(data_words))\n",
        "\n",
        "plt.subplot(1, 2, 1)\n",
        "plt.barh(y_pos, data_unique_sort.unique_words, align='center')\n",
        "plt.yticks(y_pos, data_unique_sort.comedian)\n",
        "plt.title('Number of Unique Words', fontsize=20)\n",
        "\n",
        "plt.subplot(1, 2, 2)\n",
        "plt.barh(y_pos, data_wpm_sort.words_per_minute, align='center')\n",
        "plt.yticks(y_pos, data_wpm_sort.comedian)\n",
        "plt.title('Number of Words Per Minute', fontsize=20)\n",
        "\n",
        "plt.tight_layout()\n",
        "plt.show()"
      ],
      "execution_count": null,
      "outputs": []
    },
    {
      "cell_type": "markdown",
      "metadata": {
        "id": "S3GMUivtuD9A"
      },
      "source": [
        "### Findings"
      ]
    },
    {
      "cell_type": "markdown",
      "metadata": {
        "id": "VjHnenWRuD9B"
      },
      "source": [
        "* **Vocabulary**\n",
        "   * Ricky Gervais (British comedy) and Bill Burr (podcast host) use a lot of words in their comedy\n",
        "   * Louis C.K. (self-depricating comedy) and Anthony Jeselnik (dark humor) have a smaller vocabulary\n",
        "\n",
        "\n",
        "* **Talking Speed**\n",
        "   * Joe Rogan (blue comedy) and Bill Burr (podcast host) talk fast\n",
        "   * Bo Burnham (musical comedy) and Anthony Jeselnik (dark humor) talk slow\n",
        "   \n",
        "Ali Wong is somewhere in the middle in both cases. Nothing too interesting here."
      ]
    },
    {
      "cell_type": "markdown",
      "metadata": {
        "id": "7kQXL4UeuD9B"
      },
      "source": [
        "## Amount of Profanity"
      ]
    },
    {
      "cell_type": "markdown",
      "metadata": {
        "id": "tMdj5upKuD9B"
      },
      "source": [
        "### Analysis"
      ]
    },
    {
      "cell_type": "code",
      "metadata": {
        "id": "66XdsibbuD9B"
      },
      "source": [
        "# Earlier I said we'd revisit profanity. Let's take a look at the most common words again.\n",
        "Counter(words).most_common()"
      ],
      "execution_count": null,
      "outputs": []
    },
    {
      "cell_type": "code",
      "metadata": {
        "id": "dbxs8xAvuD9C"
      },
      "source": [
        "# Let's isolate just these bad words\n",
        "data_bad_words = data.transpose()[['fucking', 'fuck', 'shit']]\n",
        "data_profanity = pd.concat([data_bad_words.fucking + data_bad_words.fuck, data_bad_words.shit], axis=1)\n",
        "data_profanity.columns = ['f_word', 's_word']\n",
        "data_profanity"
      ],
      "execution_count": null,
      "outputs": []
    },
    {
      "cell_type": "code",
      "metadata": {
        "id": "HK7NuOEzuD9D"
      },
      "source": [
        "# Let's create a scatter plot of our findings\n",
        "plt.rcParams['figure.figsize'] = [10, 8]\n",
        "\n",
        "for i, comedian in enumerate(data_profanity.index):\n",
        "    x = data_profanity.f_word.loc[comedian]\n",
        "    y = data_profanity.s_word.loc[comedian]\n",
        "    plt.scatter(x, y, color='blue')\n",
        "    plt.text(x+1.5, y+0.5, full_names[i], fontsize=10)\n",
        "    plt.xlim(-5, 155) \n",
        "    \n",
        "plt.title('Number of Bad Words Used in Routine', fontsize=20)\n",
        "plt.xlabel('Number of F Bombs', fontsize=15)\n",
        "plt.ylabel('Number of S Words', fontsize=15)\n",
        "\n",
        "plt.show()"
      ],
      "execution_count": null,
      "outputs": []
    },
    {
      "cell_type": "markdown",
      "metadata": {
        "id": "xaxZkqyRuD9E"
      },
      "source": [
        "### Findings"
      ]
    },
    {
      "cell_type": "markdown",
      "metadata": {
        "id": "XgJn4MhmuD9E"
      },
      "source": [
        "* **Averaging 2 F-Bombs Per Minute!** - I don't like too much swearing, especially the f-word, which is probably why I've never heard of Bill Bur, Joe Rogan and Jim Jefferies.\n",
        "* **Clean Humor** - It looks like profanity might be a good predictor of the type of comedy I like. Besides Ali Wong, my two other favorite comedians in this group are John Mulaney and Mike Birbiglia."
      ]
    },
    {
      "cell_type": "markdown",
      "metadata": {
        "collapsed": true,
        "id": "kcsZ6RzjuD9F"
      },
      "source": [
        "## Side Note"
      ]
    },
    {
      "cell_type": "markdown",
      "metadata": {
        "id": "l1pVNpj-uD9F"
      },
      "source": [
        "What was our goal for the EDA portion of our journey? **To be able to take an initial look at our data and see if the results of some basic analysis made sense.**\n",
        "\n",
        "My conclusion - yes, it does, for a first pass. There are definitely some things that could be better cleaned up, such as adding more stop words or including bi-grams. But we can save that for another day. The results, especially the profanity findings, are interesting and make general sense, so we're going to move on.\n",
        "\n",
        "As a reminder, the data science process is an interative one. It's better to see some non-perfect but acceptable results to help you quickly decide whether your project is a dud or not, instead of having analysis paralysis and never delivering anything.\n",
        "\n",
        "**Alice's data science (and life) motto: Let go of perfectionism!**"
      ]
    },
    {
      "cell_type": "markdown",
      "metadata": {
        "collapsed": true,
        "id": "rPHdeVFyuD9F"
      },
      "source": [
        "## Additional Exercises"
      ]
    },
    {
      "cell_type": "markdown",
      "metadata": {
        "id": "BtRjAXaguD9F"
      },
      "source": [
        "1. What other word counts do you think would be interesting to compare instead of the f-word and s-word? Create a scatter plot comparing them."
      ]
    },
    {
      "cell_type": "markdown",
      "metadata": {
        "id": "nZujS3EfvkSy"
      },
      "source": [
        "### Adding new markdown cell"
      ]
    }
  ]
}